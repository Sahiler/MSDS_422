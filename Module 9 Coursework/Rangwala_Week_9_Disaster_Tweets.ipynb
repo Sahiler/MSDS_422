{
 "cells": [
  {
   "cell_type": "code",
   "execution_count": 163,
   "id": "46e2af82",
   "metadata": {},
   "outputs": [],
   "source": [
    "import numpy as np\n",
    "import pandas as pd\n",
    "import tensorflow as tf\n",
    "import tensorflow_hub as hub\n",
    "from tensorflow.keras.models import Sequential, Model\n",
    "from tensorflow.keras import Input\n",
    "from tensorflow.keras.layers import (InputLayer, Dense, Flatten, GlobalMaxPooling1D, GlobalAveragePooling1D, \n",
    "                                     SimpleRNN, LSTM, \n",
    "                                     Bidirectional, Lambda, Embedding, Dropout, Conv1D, MaxPooling1D)\n",
    "from tensorflow.keras.layers.experimental.preprocessing import TextVectorization\n",
    "from tqdm.keras import TqdmCallback # progress bars\n",
    "import re\n",
    "import matplotlib.pyplot as plt\n",
    "import seaborn as sns\n",
    "\n"
   ]
  },
  {
   "cell_type": "code",
   "execution_count": 164,
   "id": "f2426593",
   "metadata": {},
   "outputs": [],
   "source": [
    "df_train = pd.read_csv('train.csv')\n",
    "df_test = pd.read_csv('test.csv')\n",
    "\n",
    "# concatenate the dataframes \n",
    "df = pd.concat([df_train, df_test], keys=['train', 'test'])\n",
    "df.text = df.text.astype(\"string\")\n"
   ]
  },
  {
   "cell_type": "markdown",
   "id": "17c6acf6",
   "metadata": {},
   "source": [
    "## Data Cleaning & Manipulation"
   ]
  },
  {
   "cell_type": "code",
   "execution_count": 165,
   "id": "60eb115e",
   "metadata": {},
   "outputs": [],
   "source": [
    "vocab_size = 30000\n",
    "sequence_length = 30"
   ]
  },
  {
   "cell_type": "code",
   "execution_count": 166,
   "id": "efc17c9c",
   "metadata": {},
   "outputs": [],
   "source": [
    "# should just be letters numbers and spaces \n",
    "# https://stackoverflow.com/questions/68991917/\n",
    "# regex-to-not-allow-special-characters-failing-in-python\n",
    "# need to clean the text to create a standard training set\n",
    "def convertText(text_tensor):\n",
    "    nonalpha_string = '[^a-zA-Z0-9\\s]'\n",
    "    http_string = \"http\\S*\"\n",
    "    apostrophe_string = \"'\"\n",
    "    space_string = \"\\s\\s+\"\n",
    "    \n",
    "    nonalpha_char = re.compile(nonalpha_string)\n",
    "    http_char = re.compile(http_string)\n",
    "    apostrophe_char = re.compile(apostrophe_string)\n",
    "    space_char = re.compile(space_string)\n",
    "    \n",
    "    text_tensor = tf.strings.regex_replace(text_tensor, http_string, \"\")\n",
    "    text_tensor = tf.strings.regex_replace(text_tensor, nonalpha_string, \" \")\n",
    "    text_tensor = tf.strings.regex_replace(text_tensor, apostrophe_string, \"\")\n",
    "    text_tensor = tf.strings.regex_replace(text_tensor, space_string, \" \")\n",
    "    return tf.strings.strip(tf.strings.lower(text_tensor))"
   ]
  },
  {
   "cell_type": "markdown",
   "id": "de7d2f43",
   "metadata": {},
   "source": [
    "## EDA"
   ]
  },
  {
   "cell_type": "code",
   "execution_count": 167,
   "id": "5573cd4f",
   "metadata": {},
   "outputs": [
    {
     "data": {
      "text/html": [
       "<div>\n",
       "<style scoped>\n",
       "    .dataframe tbody tr th:only-of-type {\n",
       "        vertical-align: middle;\n",
       "    }\n",
       "\n",
       "    .dataframe tbody tr th {\n",
       "        vertical-align: top;\n",
       "    }\n",
       "\n",
       "    .dataframe thead th {\n",
       "        text-align: right;\n",
       "    }\n",
       "</style>\n",
       "<table border=\"1\" class=\"dataframe\">\n",
       "  <thead>\n",
       "    <tr style=\"text-align: right;\">\n",
       "      <th></th>\n",
       "      <th>id</th>\n",
       "      <th>keyword</th>\n",
       "      <th>location</th>\n",
       "      <th>text</th>\n",
       "      <th>target</th>\n",
       "    </tr>\n",
       "  </thead>\n",
       "  <tbody>\n",
       "    <tr>\n",
       "      <th>0</th>\n",
       "      <td>1</td>\n",
       "      <td>NaN</td>\n",
       "      <td>NaN</td>\n",
       "      <td>Our Deeds are the Reason of this #earthquake M...</td>\n",
       "      <td>1</td>\n",
       "    </tr>\n",
       "    <tr>\n",
       "      <th>1</th>\n",
       "      <td>4</td>\n",
       "      <td>NaN</td>\n",
       "      <td>NaN</td>\n",
       "      <td>Forest fire near La Ronge Sask. Canada</td>\n",
       "      <td>1</td>\n",
       "    </tr>\n",
       "    <tr>\n",
       "      <th>2</th>\n",
       "      <td>5</td>\n",
       "      <td>NaN</td>\n",
       "      <td>NaN</td>\n",
       "      <td>All residents asked to 'shelter in place' are ...</td>\n",
       "      <td>1</td>\n",
       "    </tr>\n",
       "    <tr>\n",
       "      <th>3</th>\n",
       "      <td>6</td>\n",
       "      <td>NaN</td>\n",
       "      <td>NaN</td>\n",
       "      <td>13,000 people receive #wildfires evacuation or...</td>\n",
       "      <td>1</td>\n",
       "    </tr>\n",
       "    <tr>\n",
       "      <th>4</th>\n",
       "      <td>7</td>\n",
       "      <td>NaN</td>\n",
       "      <td>NaN</td>\n",
       "      <td>Just got sent this photo from Ruby #Alaska as ...</td>\n",
       "      <td>1</td>\n",
       "    </tr>\n",
       "  </tbody>\n",
       "</table>\n",
       "</div>"
      ],
      "text/plain": [
       "   id keyword location                                               text  \\\n",
       "0   1     NaN      NaN  Our Deeds are the Reason of this #earthquake M...   \n",
       "1   4     NaN      NaN             Forest fire near La Ronge Sask. Canada   \n",
       "2   5     NaN      NaN  All residents asked to 'shelter in place' are ...   \n",
       "3   6     NaN      NaN  13,000 people receive #wildfires evacuation or...   \n",
       "4   7     NaN      NaN  Just got sent this photo from Ruby #Alaska as ...   \n",
       "\n",
       "   target  \n",
       "0       1  \n",
       "1       1  \n",
       "2       1  \n",
       "3       1  \n",
       "4       1  "
      ]
     },
     "execution_count": 167,
     "metadata": {},
     "output_type": "execute_result"
    }
   ],
   "source": [
    "df_train.head()"
   ]
  },
  {
   "cell_type": "markdown",
   "id": "535521fc",
   "metadata": {},
   "source": [
    "The data set is split apart, we can see a preview of some of the text of the tweets"
   ]
  },
  {
   "cell_type": "code",
   "execution_count": 168,
   "id": "9cb38bfe",
   "metadata": {},
   "outputs": [
    {
     "name": "stdout",
     "output_type": "stream",
     "text": [
      "0 Our Deeds are the Reason of this #earthquake May ALLAH Forgive us all\n",
      "1 Forest fire near La Ronge Sask. Canada\n",
      "2 All residents asked to 'shelter in place' are being notified by officers. No other evacuation or shelter in place orders are expected\n",
      "3 13,000 people receive #wildfires evacuation orders in California \n",
      "4 Just got sent this photo from Ruby #Alaska as smoke from #wildfires pours into a school \n",
      "5 #RockyFire Update => California Hwy. 20 closed in both directions due to Lake County fire - #CAfire #wildfires\n",
      "6 #flood #disaster Heavy rain causes flash flooding of streets in Manitou, Colorado Springs areas\n",
      "7 I'm on top of the hill and I can see a fire in the woods...\n",
      "8 There's an emergency evacuation happening now in the building across the street\n",
      "9 I'm afraid that the tornado is coming to our area...\n"
     ]
    }
   ],
   "source": [
    "for i in np.arange(0,10,1):\n",
    "    print(i, df_train.text[i])"
   ]
  },
  {
   "cell_type": "markdown",
   "id": "ddd674f2",
   "metadata": {},
   "source": [
    "We have to manipulate the data further to standardize the characters in order to have a quality set for the model to learn"
   ]
  },
  {
   "cell_type": "code",
   "execution_count": 169,
   "id": "d9b62414",
   "metadata": {},
   "outputs": [
    {
     "data": {
      "image/png": "[encoded data removed]",
      "text/plain": [
       "<Figure size 864x432 with 1 Axes>"
      ]
     },
     "metadata": {
      "needs_background": "light"
     },
     "output_type": "display_data"
    }
   ],
   "source": [
    "fig, ax = plt.subplots(figsize=(12,6))\n",
    "true_ratios = df_train.groupby('keyword')['target'].mean()\\\n",
    ".sort_values(ascending=False).mul(100)\n",
    "values = np.array([2,5,3,6,4,7,1])   \n",
    "idx = np.array(list('abcdefg')) \n",
    "clrs = ['grey' if (x < max(values)) else 'red' for x in values ]\n",
    "\n",
    "sns.barplot(x = true_ratios.index[:30], y = true_ratios.values[:30], ax = ax, \n",
    "            palette = 'magma', edgecolor = clrs)\n",
    "plt.xticks(rotation=90)\n",
    "plt.title(\"30 True Keywords\")\n",
    "plt.ylabel(\"True ratio [%]\")\n",
    "plt.show()"
   ]
  },
  {
   "cell_type": "markdown",
   "id": "c1821829",
   "metadata": {},
   "source": [
    "Debris is the most true idea that was tweeted out, while devestation was the least. Additionally, there are characters that need to be cleaned to get modeled. "
   ]
  },
  {
   "cell_type": "code",
   "execution_count": 170,
   "id": "28038f6b",
   "metadata": {},
   "outputs": [
    {
     "data": {
      "text/html": [
       "<div>\n",
       "<style scoped>\n",
       "    .dataframe tbody tr th:only-of-type {\n",
       "        vertical-align: middle;\n",
       "    }\n",
       "\n",
       "    .dataframe tbody tr th {\n",
       "        vertical-align: top;\n",
       "    }\n",
       "\n",
       "    .dataframe thead th {\n",
       "        text-align: right;\n",
       "    }\n",
       "</style>\n",
       "<table border=\"1\" class=\"dataframe\">\n",
       "  <thead>\n",
       "    <tr style=\"text-align: right;\">\n",
       "      <th></th>\n",
       "      <th>Count</th>\n",
       "      <th>Probability of Disaster</th>\n",
       "    </tr>\n",
       "    <tr>\n",
       "      <th>keyword</th>\n",
       "      <th></th>\n",
       "      <th></th>\n",
       "    </tr>\n",
       "  </thead>\n",
       "  <tbody>\n",
       "    <tr>\n",
       "      <th>debris</th>\n",
       "      <td>37</td>\n",
       "      <td>1.000000</td>\n",
       "    </tr>\n",
       "    <tr>\n",
       "      <th>wreckage</th>\n",
       "      <td>39</td>\n",
       "      <td>1.000000</td>\n",
       "    </tr>\n",
       "    <tr>\n",
       "      <th>derailment</th>\n",
       "      <td>39</td>\n",
       "      <td>1.000000</td>\n",
       "    </tr>\n",
       "    <tr>\n",
       "      <th>outbreak</th>\n",
       "      <td>40</td>\n",
       "      <td>0.975000</td>\n",
       "    </tr>\n",
       "    <tr>\n",
       "      <th>oil%20spill</th>\n",
       "      <td>38</td>\n",
       "      <td>0.973684</td>\n",
       "    </tr>\n",
       "    <tr>\n",
       "      <th>typhoon</th>\n",
       "      <td>38</td>\n",
       "      <td>0.973684</td>\n",
       "    </tr>\n",
       "    <tr>\n",
       "      <th>suicide%20bombing</th>\n",
       "      <td>33</td>\n",
       "      <td>0.969697</td>\n",
       "    </tr>\n",
       "    <tr>\n",
       "      <th>suicide%20bomber</th>\n",
       "      <td>31</td>\n",
       "      <td>0.967742</td>\n",
       "    </tr>\n",
       "    <tr>\n",
       "      <th>bombing</th>\n",
       "      <td>29</td>\n",
       "      <td>0.931034</td>\n",
       "    </tr>\n",
       "    <tr>\n",
       "      <th>rescuers</th>\n",
       "      <td>35</td>\n",
       "      <td>0.914286</td>\n",
       "    </tr>\n",
       "    <tr>\n",
       "      <th>suicide%20bomb</th>\n",
       "      <td>35</td>\n",
       "      <td>0.914286</td>\n",
       "    </tr>\n",
       "    <tr>\n",
       "      <th>nuclear%20disaster</th>\n",
       "      <td>34</td>\n",
       "      <td>0.911765</td>\n",
       "    </tr>\n",
       "    <tr>\n",
       "      <th>evacuated</th>\n",
       "      <td>36</td>\n",
       "      <td>0.888889</td>\n",
       "    </tr>\n",
       "    <tr>\n",
       "      <th>razed</th>\n",
       "      <td>35</td>\n",
       "      <td>0.885714</td>\n",
       "    </tr>\n",
       "    <tr>\n",
       "      <th>wildfire</th>\n",
       "      <td>33</td>\n",
       "      <td>0.878788</td>\n",
       "    </tr>\n",
       "    <tr>\n",
       "      <th>wild%20fires</th>\n",
       "      <td>31</td>\n",
       "      <td>0.870968</td>\n",
       "    </tr>\n",
       "    <tr>\n",
       "      <th>airplane%20accident</th>\n",
       "      <td>35</td>\n",
       "      <td>0.857143</td>\n",
       "    </tr>\n",
       "    <tr>\n",
       "      <th>mass%20murder</th>\n",
       "      <td>33</td>\n",
       "      <td>0.848485</td>\n",
       "    </tr>\n",
       "    <tr>\n",
       "      <th>buildings%20on%20fire</th>\n",
       "      <td>33</td>\n",
       "      <td>0.848485</td>\n",
       "    </tr>\n",
       "    <tr>\n",
       "      <th>forest%20fires</th>\n",
       "      <td>32</td>\n",
       "      <td>0.843750</td>\n",
       "    </tr>\n",
       "  </tbody>\n",
       "</table>\n",
       "</div>"
      ],
      "text/plain": [
       "                       Count  Probability of Disaster\n",
       "keyword                                              \n",
       "debris                    37                 1.000000\n",
       "wreckage                  39                 1.000000\n",
       "derailment                39                 1.000000\n",
       "outbreak                  40                 0.975000\n",
       "oil%20spill               38                 0.973684\n",
       "typhoon                   38                 0.973684\n",
       "suicide%20bombing         33                 0.969697\n",
       "suicide%20bomber          31                 0.967742\n",
       "bombing                   29                 0.931034\n",
       "rescuers                  35                 0.914286\n",
       "suicide%20bomb            35                 0.914286\n",
       "nuclear%20disaster        34                 0.911765\n",
       "evacuated                 36                 0.888889\n",
       "razed                     35                 0.885714\n",
       "wildfire                  33                 0.878788\n",
       "wild%20fires              31                 0.870968\n",
       "airplane%20accident       35                 0.857143\n",
       "mass%20murder             33                 0.848485\n",
       "buildings%20on%20fire     33                 0.848485\n",
       "forest%20fires            32                 0.843750"
      ]
     },
     "execution_count": 170,
     "metadata": {},
     "output_type": "execute_result"
    }
   ],
   "source": [
    "highest_prob = df_train.groupby('keyword').\\\n",
    "agg({'text':np.size, 'target':np.mean})\\\n",
    ".rename(columns={'text':'Count', 'target':'Probability of Disaster'})\n",
    "highest_prob.sort_values('Probability of Disaster', \n",
    "                         ascending=False).head(20)"
   ]
  },
  {
   "cell_type": "markdown",
   "id": "9ada3ede",
   "metadata": {},
   "source": [
    "The top words that most likely relate to a disaster and the probability attached to the side"
   ]
  },
  {
   "cell_type": "code",
   "execution_count": 171,
   "id": "1711129a",
   "metadata": {},
   "outputs": [
    {
     "data": {
      "text/html": [
       "<div>\n",
       "<style scoped>\n",
       "    .dataframe tbody tr th:only-of-type {\n",
       "        vertical-align: middle;\n",
       "    }\n",
       "\n",
       "    .dataframe tbody tr th {\n",
       "        vertical-align: top;\n",
       "    }\n",
       "\n",
       "    .dataframe thead th {\n",
       "        text-align: right;\n",
       "    }\n",
       "</style>\n",
       "<table border=\"1\" class=\"dataframe\">\n",
       "  <thead>\n",
       "    <tr style=\"text-align: right;\">\n",
       "      <th></th>\n",
       "      <th>Count</th>\n",
       "      <th>Probability of Disaster</th>\n",
       "    </tr>\n",
       "    <tr>\n",
       "      <th>keyword</th>\n",
       "      <th></th>\n",
       "      <th></th>\n",
       "    </tr>\n",
       "  </thead>\n",
       "  <tbody>\n",
       "    <tr>\n",
       "      <th>aftershock</th>\n",
       "      <td>34</td>\n",
       "      <td>0.000000</td>\n",
       "    </tr>\n",
       "    <tr>\n",
       "      <th>body%20bags</th>\n",
       "      <td>41</td>\n",
       "      <td>0.024390</td>\n",
       "    </tr>\n",
       "    <tr>\n",
       "      <th>ruin</th>\n",
       "      <td>37</td>\n",
       "      <td>0.027027</td>\n",
       "    </tr>\n",
       "    <tr>\n",
       "      <th>blazing</th>\n",
       "      <td>34</td>\n",
       "      <td>0.029412</td>\n",
       "    </tr>\n",
       "    <tr>\n",
       "      <th>body%20bag</th>\n",
       "      <td>33</td>\n",
       "      <td>0.030303</td>\n",
       "    </tr>\n",
       "    <tr>\n",
       "      <th>electrocute</th>\n",
       "      <td>32</td>\n",
       "      <td>0.031250</td>\n",
       "    </tr>\n",
       "    <tr>\n",
       "      <th>screaming</th>\n",
       "      <td>36</td>\n",
       "      <td>0.055556</td>\n",
       "    </tr>\n",
       "    <tr>\n",
       "      <th>traumatised</th>\n",
       "      <td>35</td>\n",
       "      <td>0.057143</td>\n",
       "    </tr>\n",
       "    <tr>\n",
       "      <th>panicking</th>\n",
       "      <td>33</td>\n",
       "      <td>0.060606</td>\n",
       "    </tr>\n",
       "    <tr>\n",
       "      <th>blew%20up</th>\n",
       "      <td>33</td>\n",
       "      <td>0.060606</td>\n",
       "    </tr>\n",
       "    <tr>\n",
       "      <th>blight</th>\n",
       "      <td>32</td>\n",
       "      <td>0.062500</td>\n",
       "    </tr>\n",
       "    <tr>\n",
       "      <th>wrecked</th>\n",
       "      <td>39</td>\n",
       "      <td>0.076923</td>\n",
       "    </tr>\n",
       "    <tr>\n",
       "      <th>explode</th>\n",
       "      <td>38</td>\n",
       "      <td>0.078947</td>\n",
       "    </tr>\n",
       "    <tr>\n",
       "      <th>panic</th>\n",
       "      <td>37</td>\n",
       "      <td>0.081081</td>\n",
       "    </tr>\n",
       "    <tr>\n",
       "      <th>epicentre</th>\n",
       "      <td>12</td>\n",
       "      <td>0.083333</td>\n",
       "    </tr>\n",
       "    <tr>\n",
       "      <th>bloody</th>\n",
       "      <td>35</td>\n",
       "      <td>0.085714</td>\n",
       "    </tr>\n",
       "    <tr>\n",
       "      <th>smoke</th>\n",
       "      <td>34</td>\n",
       "      <td>0.088235</td>\n",
       "    </tr>\n",
       "    <tr>\n",
       "      <th>collide</th>\n",
       "      <td>34</td>\n",
       "      <td>0.088235</td>\n",
       "    </tr>\n",
       "    <tr>\n",
       "      <th>stretcher</th>\n",
       "      <td>33</td>\n",
       "      <td>0.090909</td>\n",
       "    </tr>\n",
       "    <tr>\n",
       "      <th>drown</th>\n",
       "      <td>32</td>\n",
       "      <td>0.093750</td>\n",
       "    </tr>\n",
       "  </tbody>\n",
       "</table>\n",
       "</div>"
      ],
      "text/plain": [
       "             Count  Probability of Disaster\n",
       "keyword                                    \n",
       "aftershock      34                 0.000000\n",
       "body%20bags     41                 0.024390\n",
       "ruin            37                 0.027027\n",
       "blazing         34                 0.029412\n",
       "body%20bag      33                 0.030303\n",
       "electrocute     32                 0.031250\n",
       "screaming       36                 0.055556\n",
       "traumatised     35                 0.057143\n",
       "panicking       33                 0.060606\n",
       "blew%20up       33                 0.060606\n",
       "blight          32                 0.062500\n",
       "wrecked         39                 0.076923\n",
       "explode         38                 0.078947\n",
       "panic           37                 0.081081\n",
       "epicentre       12                 0.083333\n",
       "bloody          35                 0.085714\n",
       "smoke           34                 0.088235\n",
       "collide         34                 0.088235\n",
       "stretcher       33                 0.090909\n",
       "drown           32                 0.093750"
      ]
     },
     "execution_count": 171,
     "metadata": {},
     "output_type": "execute_result"
    }
   ],
   "source": [
    "lowest_prob = df_train.groupby('keyword').agg({'text':np.size, \n",
    "                                               'target':np.mean})\\\n",
    ".rename(columns={'text':'Count', \n",
    "                 'target':'Probability of Disaster'})\n",
    "lowest_prob.sort_values('Probability of Disaster',  \n",
    "                        ascending=True).head(20)"
   ]
  },
  {
   "cell_type": "code",
   "execution_count": 172,
   "id": "ce0c8988",
   "metadata": {},
   "outputs": [],
   "source": [
    "# https://www.tensorflow.org/api_docs/python/tf/keras/layers\n",
    "# /TextVectorization\n",
    "# https://www.tensorflow.org/text/guide/word_embeddings\n",
    "# https://towardsdatascience.com/you-should-\n",
    "# try-the-new-tensorflows-textvectorization-layer-a80b3c6b00ee\n",
    "\n",
    "vect = TextVectorization(max_tokens=vocab_size, standardize=convertText,\n",
    "                output_sequence_length=sequence_length)\n",
    "vect.adapt(df.text.to_numpy())\n",
    "vocab = vect.get_vocabulary()"
   ]
  },
  {
   "cell_type": "code",
   "execution_count": 173,
   "id": "026573a7",
   "metadata": {},
   "outputs": [],
   "source": [
    "X_train = vect(df_train.text.to_numpy())\n",
    "y = df_train.target.to_numpy()\n",
    "X_test = vect(df_test.text.to_numpy())\n",
    "\n",
    "train = tf.data.Dataset.from_tensor_slices((X_train, y))\n",
    "test = tf.data.Dataset.from_tensor_slices((X_test))"
   ]
  },
  {
   "cell_type": "code",
   "execution_count": 174,
   "id": "08449144",
   "metadata": {},
   "outputs": [],
   "source": [
    "# modify the size of our data so its more manageable\n",
    "ds = train.shuffle(buffer_size=10000).cache().enumerate()\n",
    "train = ds.filter(lambda i, data: i % 10 <= 7).\\\n",
    "map(lambda _, data: data).cache()\n",
    "ds_dev = ds.filter(lambda i, data: i % 10 > 7).\\\n",
    "map(lambda _, data: data).cache()"
   ]
  },
  {
   "cell_type": "code",
   "execution_count": 175,
   "id": "2027b3a7",
   "metadata": {},
   "outputs": [],
   "source": [
    "BATCH_SIZE = 1024\n",
    "\n",
    "train = train.batch(BATCH_SIZE)\n",
    "ds_dev = ds_dev.batch(BATCH_SIZE)\n",
    "test = test.batch(BATCH_SIZE)"
   ]
  },
  {
   "cell_type": "code",
   "execution_count": 176,
   "id": "174ded57",
   "metadata": {},
   "outputs": [],
   "source": [
    "# initial layer\n",
    "embedding_dim = 64\n",
    "embedding_layer = tf.keras.layers.Embedding(vocab_size, embedding_dim, \n",
    "                        input_length=sequence_length, mask_zero=True)\n"
   ]
  },
  {
   "cell_type": "code",
   "execution_count": 177,
   "id": "6a0a6a8a",
   "metadata": {},
   "outputs": [],
   "source": [
    "METRICS = [\n",
    "    tf.keras.metrics.BinaryAccuracy(name='accuracy')\n",
    "]"
   ]
  },
  {
   "cell_type": "markdown",
   "id": "fa44ec9f",
   "metadata": {},
   "source": [
    "# Helper Plotting Functions"
   ]
  },
  {
   "cell_type": "code",
   "execution_count": 178,
   "id": "d40dae57",
   "metadata": {},
   "outputs": [],
   "source": [
    "def plotMetrics(history):\n",
    "    plt.plot(history['accuracy'], color = \"blue\", label = \"accuracy\")\n",
    "    plt.plot(history['val_accuracy'], color = \"red\", label = \"val_accuracy\")\n",
    "    plt.plot(history['loss'], color = \"green\", label = \"loss\")\n",
    "    plt.legend(loc=\"center right\")\n",
    "    plt.title(\"Accuracy, Val_accuracy, and loss curves\")\n",
    "    plt.show()"
   ]
  },
  {
   "cell_type": "markdown",
   "id": "2e62bb74",
   "metadata": {},
   "source": [
    "## Model # 1"
   ]
  },
  {
   "cell_type": "code",
   "execution_count": 179,
   "id": "759cc630",
   "metadata": {
    "scrolled": true
   },
   "outputs": [
    {
     "name": "stdout",
     "output_type": "stream",
     "text": [
      "Model: \"sequential_24\"\n",
      "_________________________________________________________________\n",
      " Layer (type)                Output Shape              Param #   \n",
      "=================================================================\n",
      " embedding_4 (Embedding)     (None, 30, 64)            1920000   \n",
      "                                                                 \n",
      " simple_rnn_31 (SimpleRNN)   (None, 64)                8256      \n",
      "                                                                 \n",
      " dense_48 (Dense)            (None, 64)                4160      \n",
      "                                                                 \n",
      " dropout_24 (Dropout)        (None, 64)                0         \n",
      "                                                                 \n",
      " dense_49 (Dense)            (None, 1)                 65        \n",
      "                                                                 \n",
      "=================================================================\n",
      "Total params: 1,932,481\n",
      "Trainable params: 1,932,481\n",
      "Non-trainable params: 0\n",
      "_________________________________________________________________\n"
     ]
    }
   ],
   "source": [
    "# original unstacked simpleRNN model\n",
    "model_1 = Sequential([\n",
    "    embedding_layer,\n",
    "    SimpleRNN(64),\n",
    "    Dense(64, activation='relu'),\n",
    "    Dropout(0.5),\n",
    "    Dense(1),\n",
    "])\n",
    "\n",
    "\n",
    "model_1.summary()\n",
    "model_1.compile(optimizer='Adam',\n",
    "              loss=tf.keras.losses.BinaryCrossentropy(from_logits=True),\n",
    "              metrics=METRICS,\n",
    "             )\n",
    "history = model_1.fit(train, epochs=100, validation_data=ds_dev, \n",
    "                    verbose=0).history"
   ]
  },
  {
   "cell_type": "code",
   "execution_count": 180,
   "id": "3c596f44",
   "metadata": {},
   "outputs": [
    {
     "data": {
      "image/png": "[encoded data removed]",
      "text/plain": [
       "<Figure size 432x288 with 1 Axes>"
      ]
     },
     "metadata": {
      "needs_background": "light"
     },
     "output_type": "display_data"
    }
   ],
   "source": [
    "plotMetrics(history)"
   ]
  },
  {
   "cell_type": "code",
   "execution_count": 204,
   "id": "d4ff9d44",
   "metadata": {},
   "outputs": [
    {
     "name": "stdout",
     "output_type": "stream",
     "text": [
      "Accuracy value:  98.80151152610779 %\n"
     ]
    }
   ],
   "source": [
    "print(\"Accuracy value: \", history['accuracy'][-1]*100,\"%\")"
   ]
  },
  {
   "cell_type": "markdown",
   "id": "4d2a8195",
   "metadata": {},
   "source": [
    "Very interesting to see practically no loss value, as well as accuracy and the validation set accuracy to be drastically different. It seems like the model does not do well with the validation set (could be a sign of overfitting the current model). "
   ]
  },
  {
   "cell_type": "code",
   "execution_count": 181,
   "id": "c7ea3610",
   "metadata": {},
   "outputs": [],
   "source": [
    "model_1.fit(train.concatenate(ds_dev), epochs=100, verbose=0)\n",
    "predictions = model_1.predict(test)"
   ]
  },
  {
   "cell_type": "code",
   "execution_count": 182,
   "id": "1ea894e0",
   "metadata": {},
   "outputs": [],
   "source": [
    "predictions = (tf.sigmoid(model_1.predict(test)).numpy() > 0.5)\\\n",
    ".astype(int).reshape((-1,))\n",
    "submission_model_1 = pd.DataFrame({\n",
    "    'id': df_test.id.to_numpy(),\n",
    "    'target': predictions,\n",
    "})"
   ]
  },
  {
   "cell_type": "code",
   "execution_count": 183,
   "id": "f7b1ff5c",
   "metadata": {},
   "outputs": [],
   "source": [
    "submission_model_1.to_csv('submission_model_1.csv', index=False)"
   ]
  },
  {
   "cell_type": "markdown",
   "id": "58454eb1",
   "metadata": {},
   "source": [
    "## Model #2"
   ]
  },
  {
   "cell_type": "code",
   "execution_count": 184,
   "id": "585c371d",
   "metadata": {},
   "outputs": [
    {
     "name": "stdout",
     "output_type": "stream",
     "text": [
      "Model: \"sequential_25\"\n",
      "_________________________________________________________________\n",
      " Layer (type)                Output Shape              Param #   \n",
      "=================================================================\n",
      " embedding_4 (Embedding)     (None, 30, 64)            1920000   \n",
      "                                                                 \n",
      " simple_rnn_32 (SimpleRNN)   (None, 30, 64)            8256      \n",
      "                                                                 \n",
      " simple_rnn_33 (SimpleRNN)   (None, 64)                8256      \n",
      "                                                                 \n",
      " dense_50 (Dense)            (None, 64)                4160      \n",
      "                                                                 \n",
      " dropout_25 (Dropout)        (None, 64)                0         \n",
      "                                                                 \n",
      " dense_51 (Dense)            (None, 1)                 65        \n",
      "                                                                 \n",
      "=================================================================\n",
      "Total params: 1,940,737\n",
      "Trainable params: 1,940,737\n",
      "Non-trainable params: 0\n",
      "_________________________________________________________________\n"
     ]
    }
   ],
   "source": [
    "# added a recurrent layer on top of the original model\n",
    "\n",
    "model_2 = Sequential([\n",
    "    embedding_layer,\n",
    "    SimpleRNN(64, return_sequences = True),\n",
    "    SimpleRNN(64),\n",
    "    Dense(64, activation='relu'),\n",
    "    Dropout(0.5),\n",
    "    Dense(1),\n",
    "])\n",
    "model_2.summary()\n",
    "model_2.compile(optimizer='Adam',\n",
    "              loss=tf.keras.losses.BinaryCrossentropy(from_logits=True),\n",
    "              metrics = METRICS\n",
    "             )\n",
    "history2 = model_2.fit(train, epochs=100, validation_data=ds_dev, \n",
    "                       verbose=0).history\n"
   ]
  },
  {
   "cell_type": "code",
   "execution_count": 185,
   "id": "98d42ebb",
   "metadata": {},
   "outputs": [
    {
     "data": {
      "image/png": "[encoded data removed]",
      "text/plain": [
       "<Figure size 432x288 with 1 Axes>"
      ]
     },
     "metadata": {
      "needs_background": "light"
     },
     "output_type": "display_data"
    }
   ],
   "source": [
    "plotMetrics(history2)"
   ]
  },
  {
   "cell_type": "code",
   "execution_count": 205,
   "id": "17bddc8d",
   "metadata": {},
   "outputs": [
    {
     "name": "stdout",
     "output_type": "stream",
     "text": [
      "Accuracy value:  98.78509044647217 %\n"
     ]
    }
   ],
   "source": [
    "print(\"Accuracy value: \", history2['accuracy'][-1]*100,\"%\")"
   ]
  },
  {
   "cell_type": "markdown",
   "id": "e850b564",
   "metadata": {},
   "source": [
    "Very interesting to note that the val accuracy is lower in this scenario, which means the model works in most cases outside the training set. The drastic distinction can be concerning as this model might not fare well The loss values down to zero over time."
   ]
  },
  {
   "cell_type": "code",
   "execution_count": 186,
   "id": "e94f2d9f",
   "metadata": {},
   "outputs": [],
   "source": [
    "model_2.fit(train.concatenate(ds_dev), epochs=100, verbose=0)\n",
    "predictions = model_2.predict(test)"
   ]
  },
  {
   "cell_type": "code",
   "execution_count": 187,
   "id": "9a5e3f11",
   "metadata": {},
   "outputs": [],
   "source": [
    "predictions = (tf.sigmoid(model_2.predict(test)).numpy() > 0.5)\\\n",
    ".astype(int).reshape((-1,))\n",
    "submission_model_2 = pd.DataFrame({\n",
    "    'id': df_test.id.to_numpy(),\n",
    "    'target': predictions,\n",
    "})"
   ]
  },
  {
   "cell_type": "code",
   "execution_count": 188,
   "id": "1a462824",
   "metadata": {},
   "outputs": [],
   "source": [
    "submission_model_2.to_csv('submission_model_2.csv', index=False)"
   ]
  },
  {
   "cell_type": "markdown",
   "id": "525a4880",
   "metadata": {},
   "source": [
    "## Model #3"
   ]
  },
  {
   "cell_type": "code",
   "execution_count": 189,
   "id": "7cffd874",
   "metadata": {},
   "outputs": [
    {
     "name": "stdout",
     "output_type": "stream",
     "text": [
      "Model: \"sequential_26\"\n",
      "_________________________________________________________________\n",
      " Layer (type)                Output Shape              Param #   \n",
      "=================================================================\n",
      " embedding_4 (Embedding)     (None, 30, 64)            1920000   \n",
      "                                                                 \n",
      " simple_rnn_34 (SimpleRNN)   (None, 30, 64)            8256      \n",
      "                                                                 \n",
      " simple_rnn_35 (SimpleRNN)   (None, 30, 64)            8256      \n",
      "                                                                 \n",
      " simple_rnn_36 (SimpleRNN)   (None, 64)                8256      \n",
      "                                                                 \n",
      " dense_52 (Dense)            (None, 64)                4160      \n",
      "                                                                 \n",
      " dropout_26 (Dropout)        (None, 64)                0         \n",
      "                                                                 \n",
      " dense_53 (Dense)            (None, 1)                 65        \n",
      "                                                                 \n",
      "=================================================================\n",
      "Total params: 1,948,993\n",
      "Trainable params: 1,948,993\n",
      "Non-trainable params: 0\n",
      "_________________________________________________________________\n"
     ]
    }
   ],
   "source": [
    "# added another recurrent layer\n",
    "model_3 = Sequential([\n",
    "    embedding_layer,\n",
    "    SimpleRNN(64, return_sequences = True),\n",
    "    SimpleRNN(64, return_sequences = True),\n",
    "    SimpleRNN(64),    \n",
    "    Dense(64, activation='relu'),\n",
    "    Dropout(0.5),\n",
    "    Dense(1),\n",
    "])\n",
    "model_3.summary()\n",
    "model_3.compile(optimizer='Adam',\n",
    "              loss=tf.keras.losses.BinaryCrossentropy(from_logits=True),\n",
    "              metrics= METRICS\n",
    "             )\n",
    "history3 = model_3.fit(train, epochs=100, validation_data=ds_dev, \n",
    "                       verbose=0).history\n",
    "\n"
   ]
  },
  {
   "cell_type": "code",
   "execution_count": 190,
   "id": "73a858e0",
   "metadata": {},
   "outputs": [
    {
     "data": {
      "image/png": "[encoded data removed]",
      "text/plain": [
       "<Figure size 432x288 with 1 Axes>"
      ]
     },
     "metadata": {
      "needs_background": "light"
     },
     "output_type": "display_data"
    }
   ],
   "source": [
    "plotMetrics(history3)"
   ]
  },
  {
   "cell_type": "code",
   "execution_count": 206,
   "id": "08a2b759",
   "metadata": {},
   "outputs": [
    {
     "name": "stdout",
     "output_type": "stream",
     "text": [
      "Accuracy value:  98.76867532730103 %\n"
     ]
    }
   ],
   "source": [
    "print(\"Accuracy value: \", history3['accuracy'][-1]*100,\"%\")"
   ]
  },
  {
   "cell_type": "markdown",
   "id": "276bccfe",
   "metadata": {},
   "source": [
    "The accuracy and the validation set accuracy are very close to one another. This is showing a more consistent and robust model in comparison to the other models"
   ]
  },
  {
   "cell_type": "markdown",
   "id": "592d530e",
   "metadata": {},
   "source": [
    "The accuracy value is also slowly falling, with Model 3 being the least 'accurate', however, the accuracy levels are very high still. "
   ]
  },
  {
   "cell_type": "code",
   "execution_count": 191,
   "id": "03738da5",
   "metadata": {},
   "outputs": [],
   "source": [
    "model_3.fit(train.concatenate(ds_dev), epochs=100, verbose=0)\n",
    "predictions = model_3.predict(test)"
   ]
  },
  {
   "cell_type": "code",
   "execution_count": 192,
   "id": "dc36008e",
   "metadata": {},
   "outputs": [],
   "source": [
    "predictions = (tf.sigmoid(model_3.predict(test)).numpy() > 0.5)\\\n",
    ".astype(int).reshape((-1,))\n",
    "submission_model_3 = pd.DataFrame({\n",
    "    'id': df_test.id.to_numpy(),\n",
    "    'target': predictions,\n",
    "})"
   ]
  },
  {
   "cell_type": "code",
   "execution_count": 193,
   "id": "3d918331",
   "metadata": {},
   "outputs": [],
   "source": [
    "submission_model_3.to_csv('submission_model_3.csv', index=False)"
   ]
  }
 ],
 "metadata": {
  "kernelspec": {
   "display_name": "Python 3 (ipykernel)",
   "language": "python",
   "name": "python3"
  },
  "language_info": {
   "codemirror_mode": {
    "name": "ipython",
    "version": 3
   },
   "file_extension": ".py",
   "mimetype": "text/x-python",
   "name": "python",
   "nbconvert_exporter": "python",
   "pygments_lexer": "ipython3",
   "version": "3.9.0"
  }
 },
 "nbformat": 4,
 "nbformat_minor": 5
}
