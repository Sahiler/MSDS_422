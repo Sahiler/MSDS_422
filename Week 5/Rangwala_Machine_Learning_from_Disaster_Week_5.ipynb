{
 "cells": [
  {
   "cell_type": "code",
   "execution_count": 1,
   "id": "ab91693e",
   "metadata": {},
   "outputs": [],
   "source": [
    "import numpy as np\n",
    "import pandas as pd\n",
    "import matplotlib\n",
    "import matplotlib.pyplot as plt\n",
    "from sklearn.metrics import confusion_matrix\n",
    "from sklearn.model_selection import train_test_split, StratifiedKFold\n",
    "from sklearn.linear_model import LogisticRegression\n",
    "from sklearn.metrics import classification_report\n",
    "from sklearn.preprocessing import StandardScaler, MinMaxScaler\n",
    "from sklearn.pipeline import make_pipeline\n",
    "from sklearn.neighbors import KNeighborsClassifier\n",
    "from sklearn.metrics import precision_recall_curve\n",
    "from sklearn.metrics import roc_curve\n",
    "from itertools import cycle\n",
    "from sklearn.model_selection import cross_val_predict\n",
    "from sklearn.metrics import precision_score, recall_score\n",
    "from sklearn.ensemble import RandomForestRegressor, ExtraTreesRegressor\n",
    "from sklearn.model_selection import GridSearchCV\n",
    "from sklearn.metrics import make_scorer, mean_squared_error\n",
    "from sklearn.ensemble import GradientBoostingClassifier\n",
    "import seaborn as sns # easy visualization\n"
   ]
  },
  {
   "cell_type": "code",
   "execution_count": 524,
   "id": "4c14dee9",
   "metadata": {},
   "outputs": [
    {
     "name": "stdout",
     "output_type": "stream",
     "text": [
      "   PassengerId  Survived  Pclass  \\\n",
      "0            1       0.0       3   \n",
      "1            2       1.0       1   \n",
      "2            3       1.0       3   \n",
      "3            4       1.0       1   \n",
      "4            5       0.0       3   \n",
      "\n",
      "                                                Name     Sex   Age  SibSp  \\\n",
      "0                            Braund, Mr. Owen Harris    male  22.0      1   \n",
      "1  Cumings, Mrs. John Bradley (Florence Briggs Th...  female  38.0      1   \n",
      "2                             Heikkinen, Miss. Laina  female  26.0      0   \n",
      "3       Futrelle, Mrs. Jacques Heath (Lily May Peel)  female  35.0      1   \n",
      "4                           Allen, Mr. William Henry    male  35.0      0   \n",
      "\n",
      "   Parch            Ticket     Fare Cabin Embarked  \n",
      "0      0         A/5 21171   7.2500   NaN        S  \n",
      "1      0          PC 17599  71.2833   C85        C  \n",
      "2      0  STON/O2. 3101282   7.9250   NaN        S  \n",
      "3      0            113803  53.1000  C123        S  \n",
      "4      0            373450   8.0500   NaN        S  \n"
     ]
    }
   ],
   "source": [
    "df_train = pd.read_csv('train.csv')\n",
    "df_test = pd.read_csv('test.csv')\n",
    "df_whole = pd.concat([df_train, df_test], axis = 0, ignore_index=True)\n",
    "\n",
    "# save the test PassengerID for future use\n",
    "ids = df_test['PassengerId']\n",
    "print(df_whole.head())"
   ]
  },
  {
   "cell_type": "markdown",
   "id": "4f329e38",
   "metadata": {},
   "source": [
    "## EDA & Insights"
   ]
  },
  {
   "cell_type": "code",
   "execution_count": 525,
   "id": "1c3103af",
   "metadata": {},
   "outputs": [
    {
     "name": "stdout",
     "output_type": "stream",
     "text": [
      "       PassengerId    Survived       Pclass          Age        SibSp  \\\n",
      "count  1309.000000  891.000000  1309.000000  1046.000000  1309.000000   \n",
      "mean    655.000000    0.383838     2.294882    29.881138     0.498854   \n",
      "std     378.020061    0.486592     0.837836    14.413493     1.041658   \n",
      "min       1.000000    0.000000     1.000000     0.170000     0.000000   \n",
      "25%     328.000000    0.000000     2.000000    21.000000     0.000000   \n",
      "50%     655.000000    0.000000     3.000000    28.000000     0.000000   \n",
      "75%     982.000000    1.000000     3.000000    39.000000     1.000000   \n",
      "max    1309.000000    1.000000     3.000000    80.000000     8.000000   \n",
      "\n",
      "             Parch         Fare  \n",
      "count  1309.000000  1308.000000  \n",
      "mean      0.385027    33.295479  \n",
      "std       0.865560    51.758668  \n",
      "min       0.000000     0.000000  \n",
      "25%       0.000000     7.895800  \n",
      "50%       0.000000    14.454200  \n",
      "75%       0.000000    31.275000  \n",
      "max       9.000000   512.329200  \n",
      "<class 'pandas.core.frame.DataFrame'>\n",
      "RangeIndex: 1309 entries, 0 to 1308\n",
      "Data columns (total 12 columns):\n",
      " #   Column       Non-Null Count  Dtype  \n",
      "---  ------       --------------  -----  \n",
      " 0   PassengerId  1309 non-null   int64  \n",
      " 1   Survived     891 non-null    float64\n",
      " 2   Pclass       1309 non-null   int64  \n",
      " 3   Name         1309 non-null   object \n",
      " 4   Sex          1309 non-null   object \n",
      " 5   Age          1046 non-null   float64\n",
      " 6   SibSp        1309 non-null   int64  \n",
      " 7   Parch        1309 non-null   int64  \n",
      " 8   Ticket       1309 non-null   object \n",
      " 9   Fare         1308 non-null   float64\n",
      " 10  Cabin        295 non-null    object \n",
      " 11  Embarked     1307 non-null   object \n",
      "dtypes: float64(3), int64(4), object(5)\n",
      "memory usage: 122.8+ KB\n",
      "None\n"
     ]
    },
    {
     "data": {
      "text/plain": [
       "PassengerId       0\n",
       "Survived        418\n",
       "Pclass            0\n",
       "Name              0\n",
       "Sex               0\n",
       "Age             263\n",
       "SibSp             0\n",
       "Parch             0\n",
       "Ticket            0\n",
       "Fare              1\n",
       "Cabin          1014\n",
       "Embarked          2\n",
       "dtype: int64"
      ]
     },
     "execution_count": 525,
     "metadata": {},
     "output_type": "execute_result"
    }
   ],
   "source": [
    "print(df_whole.describe())\n",
    "print(df_whole.info())\n",
    "np.sum(df_whole.isna())"
   ]
  },
  {
   "cell_type": "markdown",
   "id": "5b7022a1",
   "metadata": {},
   "source": [
    "Seems to have a lot of empty values in Cabin and Age. A few missing values in Fare and Embarked. We must deal with these empty values in order to have a complete model. "
   ]
  },
  {
   "cell_type": "code",
   "execution_count": 526,
   "id": "95c596d3",
   "metadata": {},
   "outputs": [
    {
     "data": {
      "text/plain": [
       "<AxesSubplot:xlabel='Survived', ylabel='count'>"
      ]
     },
     "execution_count": 526,
     "metadata": {},
     "output_type": "execute_result"
    },
    {
     "data": {
      "image/png": "[encoded data removed]",
      "text/plain": [
       "<Figure size 432x288 with 1 Axes>"
      ]
     },
     "metadata": {
      "needs_background": "light"
     },
     "output_type": "display_data"
    }
   ],
   "source": [
    "sns.countplot(x='Survived', hue='Sex', data=df_whole)\n"
   ]
  },
  {
   "cell_type": "markdown",
   "id": "6d36d3a5",
   "metadata": {},
   "source": [
    "More men died than women, and there were significantly less survivors than those who survived"
   ]
  },
  {
   "cell_type": "code",
   "execution_count": 527,
   "id": "7f46fa2c",
   "metadata": {},
   "outputs": [
    {
     "data": {
      "text/plain": [
       "<seaborn.axisgrid.FacetGrid at 0x13087ba90>"
      ]
     },
     "execution_count": 527,
     "metadata": {},
     "output_type": "execute_result"
    },
    {
     "data": {
      "image/png": "[encoded data removed]",
      "text/plain": [
       "<Figure size 360x360 with 1 Axes>"
      ]
     },
     "metadata": {
      "needs_background": "light"
     },
     "output_type": "display_data"
    }
   ],
   "source": [
    "sns.displot(df_whole['Age'].dropna(), kde=False, bins = 45)"
   ]
  },
  {
   "cell_type": "code",
   "execution_count": 528,
   "id": "ae9d366d",
   "metadata": {},
   "outputs": [
    {
     "data": {
      "text/plain": [
       "<seaborn.axisgrid.FacetGrid at 0x130920b20>"
      ]
     },
     "execution_count": 528,
     "metadata": {},
     "output_type": "execute_result"
    },
    {
     "data": {
      "image/png": "[encoded data removed]",
      "text/plain": [
       "<Figure size 432x432 with 1 Axes>"
      ]
     },
     "metadata": {
      "needs_background": "light"
     },
     "output_type": "display_data"
    }
   ],
   "source": [
    "# Draw a nested barplot to show Age breakdown for differetn classes\n",
    "# https://stackoverflow.com/questions/60237979/python-and-seaborn-how-to-plot-\n",
    "# two-categorical-features-using-barplot\n",
    "g = sns.catplot(x=\"Pclass\", y=\"Age\", hue=None, data = df_whole,\n",
    "                height=6, kind=\"bar\", palette=\"muted\")\n",
    "g.despine(left=True)\n",
    "g.fig.suptitle(\"Class vs. Age breakdown\")\n",
    "g.set_ylabels(\"Age\")"
   ]
  },
  {
   "cell_type": "markdown",
   "id": "6d19654f",
   "metadata": {},
   "source": [
    "Seems like a lot of 20s and 30s year old were on the boat. Additionally, there were more young children compared to old folk"
   ]
  },
  {
   "cell_type": "markdown",
   "id": "9c3cc2af",
   "metadata": {},
   "source": [
    "## Data Cleaning and Adhering to Assumptions"
   ]
  },
  {
   "cell_type": "code",
   "execution_count": 529,
   "id": "3333d14d",
   "metadata": {},
   "outputs": [
    {
     "name": "stdout",
     "output_type": "stream",
     "text": [
      "<class 'pandas.core.frame.DataFrame'>\n",
      "RangeIndex: 1309 entries, 0 to 1308\n",
      "Data columns (total 12 columns):\n",
      " #   Column       Non-Null Count  Dtype  \n",
      "---  ------       --------------  -----  \n",
      " 0   PassengerId  1309 non-null   int64  \n",
      " 1   Survived     891 non-null    float64\n",
      " 2   Pclass       1309 non-null   int64  \n",
      " 3   Name         1309 non-null   object \n",
      " 4   Sex          1309 non-null   object \n",
      " 5   Age          1046 non-null   float64\n",
      " 6   SibSp        1309 non-null   int64  \n",
      " 7   Parch        1309 non-null   int64  \n",
      " 8   Ticket       1309 non-null   object \n",
      " 9   Fare         1308 non-null   float64\n",
      " 10  Cabin        295 non-null    object \n",
      " 11  Embarked     1307 non-null   object \n",
      "dtypes: float64(3), int64(4), object(5)\n",
      "memory usage: 122.8+ KB\n"
     ]
    }
   ],
   "source": [
    "df_whole.info()"
   ]
  },
  {
   "cell_type": "markdown",
   "id": "e66ca23b",
   "metadata": {},
   "source": [
    "Going to deal with Age first, trying to modify it to replace the missing values with age. Chose to split it by class becuase assuming that each age group aligns with different classes. "
   ]
  },
  {
   "cell_type": "code",
   "execution_count": 530,
   "id": "3dff420b",
   "metadata": {},
   "outputs": [
    {
     "name": "stdout",
     "output_type": "stream",
     "text": [
      "Pclass\n",
      "1    39.159930\n",
      "2    29.506705\n",
      "3    24.816367\n",
      "Name: Age, dtype: float64\n"
     ]
    }
   ],
   "source": [
    "print(df_whole.groupby('Pclass').mean()['Age'])\n",
    "\n",
    "# replacing each class's empty age values with the respective means\n",
    "def fill_age(cols):\n",
    "    Age = cols['Age']\n",
    "    Pclass = cols['Pclass']  \n",
    "    if pd.isnull(Age):\n",
    "        if Pclass == 1:\n",
    "            return 39\n",
    "        elif Pclass == 2:\n",
    "            return 30\n",
    "        else:\n",
    "            return 25\n",
    "    else:\n",
    "        return Age"
   ]
  },
  {
   "cell_type": "code",
   "execution_count": 531,
   "id": "8ff08796",
   "metadata": {
    "scrolled": true
   },
   "outputs": [
    {
     "name": "stdout",
     "output_type": "stream",
     "text": [
      "<class 'pandas.core.frame.DataFrame'>\n",
      "RangeIndex: 1309 entries, 0 to 1308\n",
      "Data columns (total 12 columns):\n",
      " #   Column       Non-Null Count  Dtype  \n",
      "---  ------       --------------  -----  \n",
      " 0   PassengerId  1309 non-null   int64  \n",
      " 1   Survived     891 non-null    float64\n",
      " 2   Pclass       1309 non-null   int64  \n",
      " 3   Name         1309 non-null   object \n",
      " 4   Sex          1309 non-null   object \n",
      " 5   Age          1309 non-null   float64\n",
      " 6   SibSp        1309 non-null   int64  \n",
      " 7   Parch        1309 non-null   int64  \n",
      " 8   Ticket       1309 non-null   object \n",
      " 9   Fare         1308 non-null   float64\n",
      " 10  Cabin        295 non-null    object \n",
      " 11  Embarked     1307 non-null   object \n",
      "dtypes: float64(3), int64(4), object(5)\n",
      "memory usage: 122.8+ KB\n"
     ]
    }
   ],
   "source": [
    "df_tests = df_whole.copy()\n",
    "df_whole['Age'] = df_whole[['Age', 'Pclass']].apply(fill_age, axis = 1)\n",
    "\n",
    "# age handled, Fare and Embarked has missing data, Cabin is \n",
    "# missing a lot of \n",
    "#data so we drop it as well as Ticket as ticket correlates \n",
    "# with other possible\n",
    "# features\n",
    "df_whole.info()"
   ]
  },
  {
   "cell_type": "code",
   "execution_count": 532,
   "id": "4105f05d",
   "metadata": {},
   "outputs": [
    {
     "data": {
      "text/plain": [
       "Pclass\n",
       "1    87.508992\n",
       "2    21.179196\n",
       "3    13.302889\n",
       "Name: Fare, dtype: float64"
      ]
     },
     "execution_count": 532,
     "metadata": {},
     "output_type": "execute_result"
    }
   ],
   "source": [
    "df_whole.drop(['Cabin', 'Ticket'], axis=1, inplace=True)\n",
    "df_whole.groupby('Pclass').mean()['Fare']"
   ]
  },
  {
   "cell_type": "code",
   "execution_count": 533,
   "id": "eeea1e68",
   "metadata": {},
   "outputs": [
    {
     "name": "stdout",
     "output_type": "stream",
     "text": [
      "      PassengerId  Survived  Pclass                Name   Sex   Age  SibSp  \\\n",
      "1043         1044       NaN       3  Storey, Mr. Thomas  male  60.5      0   \n",
      "\n",
      "      Parch  Fare Embarked  \n",
      "1043      0   NaN        S  \n",
      "     PassengerId  Survived  Pclass                                       Name  \\\n",
      "61            62       1.0       1                        Icard, Miss. Amelie   \n",
      "829          830       1.0       1  Stone, Mrs. George Nelson (Martha Evelyn)   \n",
      "\n",
      "        Sex   Age  SibSp  Parch  Fare Embarked  \n",
      "61   female  38.0      0      0  80.0      NaN  \n",
      "829  female  62.0      0      0  80.0      NaN  \n"
     ]
    }
   ],
   "source": [
    "print(df_whole[df_whole['Fare'].isnull()])\n",
    "print(df_whole[df_whole['Embarked'].isnull()])"
   ]
  },
  {
   "cell_type": "code",
   "execution_count": 534,
   "id": "02e3ac82",
   "metadata": {},
   "outputs": [
    {
     "data": {
      "text/html": [
       "<div>\n",
       "<style scoped>\n",
       "    .dataframe tbody tr th:only-of-type {\n",
       "        vertical-align: middle;\n",
       "    }\n",
       "\n",
       "    .dataframe tbody tr th {\n",
       "        vertical-align: top;\n",
       "    }\n",
       "\n",
       "    .dataframe thead th {\n",
       "        text-align: right;\n",
       "    }\n",
       "</style>\n",
       "<table border=\"1\" class=\"dataframe\">\n",
       "  <thead>\n",
       "    <tr style=\"text-align: right;\">\n",
       "      <th></th>\n",
       "      <th>PassengerId</th>\n",
       "      <th>Survived</th>\n",
       "      <th>Pclass</th>\n",
       "      <th>Name</th>\n",
       "      <th>Sex</th>\n",
       "      <th>Age</th>\n",
       "      <th>SibSp</th>\n",
       "      <th>Parch</th>\n",
       "      <th>Fare</th>\n",
       "      <th>Embarked</th>\n",
       "    </tr>\n",
       "  </thead>\n",
       "  <tbody>\n",
       "    <tr>\n",
       "      <th>61</th>\n",
       "      <td>62</td>\n",
       "      <td>1.0</td>\n",
       "      <td>1</td>\n",
       "      <td>Icard, Miss. Amelie</td>\n",
       "      <td>female</td>\n",
       "      <td>38.0</td>\n",
       "      <td>0</td>\n",
       "      <td>0</td>\n",
       "      <td>80.0</td>\n",
       "      <td>C</td>\n",
       "    </tr>\n",
       "    <tr>\n",
       "      <th>829</th>\n",
       "      <td>830</td>\n",
       "      <td>1.0</td>\n",
       "      <td>1</td>\n",
       "      <td>Stone, Mrs. George Nelson (Martha Evelyn)</td>\n",
       "      <td>female</td>\n",
       "      <td>62.0</td>\n",
       "      <td>0</td>\n",
       "      <td>0</td>\n",
       "      <td>80.0</td>\n",
       "      <td>C</td>\n",
       "    </tr>\n",
       "  </tbody>\n",
       "</table>\n",
       "</div>"
      ],
      "text/plain": [
       "     PassengerId  Survived  Pclass                                       Name  \\\n",
       "61            62       1.0       1                        Icard, Miss. Amelie   \n",
       "829          830       1.0       1  Stone, Mrs. George Nelson (Martha Evelyn)   \n",
       "\n",
       "        Sex   Age  SibSp  Parch  Fare Embarked  \n",
       "61   female  38.0      0      0  80.0        C  \n",
       "829  female  62.0      0      0  80.0        C  "
      ]
     },
     "execution_count": 534,
     "metadata": {},
     "output_type": "execute_result"
    }
   ],
   "source": [
    "# replacing null fare for passenger with the average fare \n",
    "# for respective class\n",
    "df_whole.loc[df_whole['PassengerId'] == 1044, 'Fare'] = 13.302889\n",
    "\n",
    "# replacing null embarked status with 'C' for two passengers\n",
    "df_whole.loc[df_whole['PassengerId'].isin([62, 830]), 'Embarked'] = 'C'\n",
    "df_whole.loc[df_whole['PassengerId'].isin([62, 830])]"
   ]
  },
  {
   "cell_type": "code",
   "execution_count": 535,
   "id": "e9d3cd1f",
   "metadata": {},
   "outputs": [
    {
     "name": "stdout",
     "output_type": "stream",
     "text": [
      "<class 'pandas.core.frame.DataFrame'>\n",
      "RangeIndex: 1309 entries, 0 to 1308\n",
      "Data columns (total 10 columns):\n",
      " #   Column       Non-Null Count  Dtype  \n",
      "---  ------       --------------  -----  \n",
      " 0   PassengerId  1309 non-null   int64  \n",
      " 1   Survived     891 non-null    float64\n",
      " 2   Pclass       1309 non-null   int64  \n",
      " 3   Name         1309 non-null   object \n",
      " 4   Sex          1309 non-null   object \n",
      " 5   Age          1309 non-null   float64\n",
      " 6   SibSp        1309 non-null   int64  \n",
      " 7   Parch        1309 non-null   int64  \n",
      " 8   Fare         1309 non-null   float64\n",
      " 9   Embarked     1309 non-null   object \n",
      "dtypes: float64(3), int64(4), object(3)\n",
      "memory usage: 102.4+ KB\n"
     ]
    }
   ],
   "source": [
    "df_whole.info()"
   ]
  },
  {
   "cell_type": "code",
   "execution_count": 536,
   "id": "d1e99f22",
   "metadata": {},
   "outputs": [
    {
     "name": "stdout",
     "output_type": "stream",
     "text": [
      "   male\n",
      "0     1\n",
      "1     0\n",
      "2     0\n",
      "3     0\n",
      "4     1\n",
      "   Q  S\n",
      "0  0  1\n",
      "1  0  0\n",
      "2  0  1\n",
      "3  0  1\n",
      "4  0  1\n"
     ]
    },
    {
     "data": {
      "text/html": [
       "<div>\n",
       "<style scoped>\n",
       "    .dataframe tbody tr th:only-of-type {\n",
       "        vertical-align: middle;\n",
       "    }\n",
       "\n",
       "    .dataframe tbody tr th {\n",
       "        vertical-align: top;\n",
       "    }\n",
       "\n",
       "    .dataframe thead th {\n",
       "        text-align: right;\n",
       "    }\n",
       "</style>\n",
       "<table border=\"1\" class=\"dataframe\">\n",
       "  <thead>\n",
       "    <tr style=\"text-align: right;\">\n",
       "      <th></th>\n",
       "      <th>PassengerId</th>\n",
       "      <th>Survived</th>\n",
       "      <th>Pclass</th>\n",
       "      <th>Name</th>\n",
       "      <th>Age</th>\n",
       "      <th>SibSp</th>\n",
       "      <th>Parch</th>\n",
       "      <th>Fare</th>\n",
       "      <th>male</th>\n",
       "      <th>Q</th>\n",
       "      <th>S</th>\n",
       "    </tr>\n",
       "  </thead>\n",
       "  <tbody>\n",
       "    <tr>\n",
       "      <th>0</th>\n",
       "      <td>1</td>\n",
       "      <td>0.0</td>\n",
       "      <td>3</td>\n",
       "      <td>Braund, Mr. Owen Harris</td>\n",
       "      <td>22.0</td>\n",
       "      <td>1</td>\n",
       "      <td>0</td>\n",
       "      <td>7.2500</td>\n",
       "      <td>1</td>\n",
       "      <td>0</td>\n",
       "      <td>1</td>\n",
       "    </tr>\n",
       "    <tr>\n",
       "      <th>1</th>\n",
       "      <td>2</td>\n",
       "      <td>1.0</td>\n",
       "      <td>1</td>\n",
       "      <td>Cumings, Mrs. John Bradley (Florence Briggs Th...</td>\n",
       "      <td>38.0</td>\n",
       "      <td>1</td>\n",
       "      <td>0</td>\n",
       "      <td>71.2833</td>\n",
       "      <td>0</td>\n",
       "      <td>0</td>\n",
       "      <td>0</td>\n",
       "    </tr>\n",
       "    <tr>\n",
       "      <th>2</th>\n",
       "      <td>3</td>\n",
       "      <td>1.0</td>\n",
       "      <td>3</td>\n",
       "      <td>Heikkinen, Miss. Laina</td>\n",
       "      <td>26.0</td>\n",
       "      <td>0</td>\n",
       "      <td>0</td>\n",
       "      <td>7.9250</td>\n",
       "      <td>0</td>\n",
       "      <td>0</td>\n",
       "      <td>1</td>\n",
       "    </tr>\n",
       "    <tr>\n",
       "      <th>3</th>\n",
       "      <td>4</td>\n",
       "      <td>1.0</td>\n",
       "      <td>1</td>\n",
       "      <td>Futrelle, Mrs. Jacques Heath (Lily May Peel)</td>\n",
       "      <td>35.0</td>\n",
       "      <td>1</td>\n",
       "      <td>0</td>\n",
       "      <td>53.1000</td>\n",
       "      <td>0</td>\n",
       "      <td>0</td>\n",
       "      <td>1</td>\n",
       "    </tr>\n",
       "    <tr>\n",
       "      <th>4</th>\n",
       "      <td>5</td>\n",
       "      <td>0.0</td>\n",
       "      <td>3</td>\n",
       "      <td>Allen, Mr. William Henry</td>\n",
       "      <td>35.0</td>\n",
       "      <td>0</td>\n",
       "      <td>0</td>\n",
       "      <td>8.0500</td>\n",
       "      <td>1</td>\n",
       "      <td>0</td>\n",
       "      <td>1</td>\n",
       "    </tr>\n",
       "  </tbody>\n",
       "</table>\n",
       "</div>"
      ],
      "text/plain": [
       "   PassengerId  Survived  Pclass  \\\n",
       "0            1       0.0       3   \n",
       "1            2       1.0       1   \n",
       "2            3       1.0       3   \n",
       "3            4       1.0       1   \n",
       "4            5       0.0       3   \n",
       "\n",
       "                                                Name   Age  SibSp  Parch  \\\n",
       "0                            Braund, Mr. Owen Harris  22.0      1      0   \n",
       "1  Cumings, Mrs. John Bradley (Florence Briggs Th...  38.0      1      0   \n",
       "2                             Heikkinen, Miss. Laina  26.0      0      0   \n",
       "3       Futrelle, Mrs. Jacques Heath (Lily May Peel)  35.0      1      0   \n",
       "4                           Allen, Mr. William Henry  35.0      0      0   \n",
       "\n",
       "      Fare  male  Q  S  \n",
       "0   7.2500     1  0  1  \n",
       "1  71.2833     0  0  0  \n",
       "2   7.9250     0  0  1  \n",
       "3  53.1000     0  0  1  \n",
       "4   8.0500     1  0  1  "
      ]
     },
     "execution_count": 536,
     "metadata": {},
     "output_type": "execute_result"
    }
   ],
   "source": [
    "gender = pd.get_dummies(df_whole['Sex'], drop_first=True)\n",
    "print(gender.head())\n",
    "embarked = pd.get_dummies(df_whole['Embarked'], drop_first=True)\n",
    "print(embarked.head())\n",
    "\n",
    "df_whole = pd.concat([df_whole, gender, embarked], axis = 1)\n",
    "df_whole.drop(['Sex', 'Embarked'], axis = 1, inplace=True)\n",
    "df_whole.head()"
   ]
  },
  {
   "cell_type": "code",
   "execution_count": 537,
   "id": "30cb9e54",
   "metadata": {},
   "outputs": [
    {
     "data": {
      "text/html": [
       "<div>\n",
       "<style scoped>\n",
       "    .dataframe tbody tr th:only-of-type {\n",
       "        vertical-align: middle;\n",
       "    }\n",
       "\n",
       "    .dataframe tbody tr th {\n",
       "        vertical-align: top;\n",
       "    }\n",
       "\n",
       "    .dataframe thead th {\n",
       "        text-align: right;\n",
       "    }\n",
       "</style>\n",
       "<table border=\"1\" class=\"dataframe\">\n",
       "  <thead>\n",
       "    <tr style=\"text-align: right;\">\n",
       "      <th></th>\n",
       "      <th>Survived</th>\n",
       "      <th>Pclass</th>\n",
       "      <th>Age</th>\n",
       "      <th>SibSp</th>\n",
       "      <th>Parch</th>\n",
       "      <th>Fare</th>\n",
       "      <th>male</th>\n",
       "      <th>Q</th>\n",
       "      <th>S</th>\n",
       "    </tr>\n",
       "  </thead>\n",
       "  <tbody>\n",
       "    <tr>\n",
       "      <th>0</th>\n",
       "      <td>0.0</td>\n",
       "      <td>3</td>\n",
       "      <td>22.0</td>\n",
       "      <td>1</td>\n",
       "      <td>0</td>\n",
       "      <td>7.2500</td>\n",
       "      <td>1</td>\n",
       "      <td>0</td>\n",
       "      <td>1</td>\n",
       "    </tr>\n",
       "    <tr>\n",
       "      <th>1</th>\n",
       "      <td>1.0</td>\n",
       "      <td>1</td>\n",
       "      <td>38.0</td>\n",
       "      <td>1</td>\n",
       "      <td>0</td>\n",
       "      <td>71.2833</td>\n",
       "      <td>0</td>\n",
       "      <td>0</td>\n",
       "      <td>0</td>\n",
       "    </tr>\n",
       "    <tr>\n",
       "      <th>2</th>\n",
       "      <td>1.0</td>\n",
       "      <td>3</td>\n",
       "      <td>26.0</td>\n",
       "      <td>0</td>\n",
       "      <td>0</td>\n",
       "      <td>7.9250</td>\n",
       "      <td>0</td>\n",
       "      <td>0</td>\n",
       "      <td>1</td>\n",
       "    </tr>\n",
       "    <tr>\n",
       "      <th>3</th>\n",
       "      <td>1.0</td>\n",
       "      <td>1</td>\n",
       "      <td>35.0</td>\n",
       "      <td>1</td>\n",
       "      <td>0</td>\n",
       "      <td>53.1000</td>\n",
       "      <td>0</td>\n",
       "      <td>0</td>\n",
       "      <td>1</td>\n",
       "    </tr>\n",
       "    <tr>\n",
       "      <th>4</th>\n",
       "      <td>0.0</td>\n",
       "      <td>3</td>\n",
       "      <td>35.0</td>\n",
       "      <td>0</td>\n",
       "      <td>0</td>\n",
       "      <td>8.0500</td>\n",
       "      <td>1</td>\n",
       "      <td>0</td>\n",
       "      <td>1</td>\n",
       "    </tr>\n",
       "    <tr>\n",
       "      <th>...</th>\n",
       "      <td>...</td>\n",
       "      <td>...</td>\n",
       "      <td>...</td>\n",
       "      <td>...</td>\n",
       "      <td>...</td>\n",
       "      <td>...</td>\n",
       "      <td>...</td>\n",
       "      <td>...</td>\n",
       "      <td>...</td>\n",
       "    </tr>\n",
       "    <tr>\n",
       "      <th>1304</th>\n",
       "      <td>NaN</td>\n",
       "      <td>3</td>\n",
       "      <td>25.0</td>\n",
       "      <td>0</td>\n",
       "      <td>0</td>\n",
       "      <td>8.0500</td>\n",
       "      <td>1</td>\n",
       "      <td>0</td>\n",
       "      <td>1</td>\n",
       "    </tr>\n",
       "    <tr>\n",
       "      <th>1305</th>\n",
       "      <td>NaN</td>\n",
       "      <td>1</td>\n",
       "      <td>39.0</td>\n",
       "      <td>0</td>\n",
       "      <td>0</td>\n",
       "      <td>108.9000</td>\n",
       "      <td>0</td>\n",
       "      <td>0</td>\n",
       "      <td>0</td>\n",
       "    </tr>\n",
       "    <tr>\n",
       "      <th>1306</th>\n",
       "      <td>NaN</td>\n",
       "      <td>3</td>\n",
       "      <td>38.5</td>\n",
       "      <td>0</td>\n",
       "      <td>0</td>\n",
       "      <td>7.2500</td>\n",
       "      <td>1</td>\n",
       "      <td>0</td>\n",
       "      <td>1</td>\n",
       "    </tr>\n",
       "    <tr>\n",
       "      <th>1307</th>\n",
       "      <td>NaN</td>\n",
       "      <td>3</td>\n",
       "      <td>25.0</td>\n",
       "      <td>0</td>\n",
       "      <td>0</td>\n",
       "      <td>8.0500</td>\n",
       "      <td>1</td>\n",
       "      <td>0</td>\n",
       "      <td>1</td>\n",
       "    </tr>\n",
       "    <tr>\n",
       "      <th>1308</th>\n",
       "      <td>NaN</td>\n",
       "      <td>3</td>\n",
       "      <td>25.0</td>\n",
       "      <td>1</td>\n",
       "      <td>1</td>\n",
       "      <td>22.3583</td>\n",
       "      <td>1</td>\n",
       "      <td>0</td>\n",
       "      <td>0</td>\n",
       "    </tr>\n",
       "  </tbody>\n",
       "</table>\n",
       "<p>1309 rows × 9 columns</p>\n",
       "</div>"
      ],
      "text/plain": [
       "      Survived  Pclass   Age  SibSp  Parch      Fare  male  Q  S\n",
       "0          0.0       3  22.0      1      0    7.2500     1  0  1\n",
       "1          1.0       1  38.0      1      0   71.2833     0  0  0\n",
       "2          1.0       3  26.0      0      0    7.9250     0  0  1\n",
       "3          1.0       1  35.0      1      0   53.1000     0  0  1\n",
       "4          0.0       3  35.0      0      0    8.0500     1  0  1\n",
       "...        ...     ...   ...    ...    ...       ...   ... .. ..\n",
       "1304       NaN       3  25.0      0      0    8.0500     1  0  1\n",
       "1305       NaN       1  39.0      0      0  108.9000     0  0  0\n",
       "1306       NaN       3  38.5      0      0    7.2500     1  0  1\n",
       "1307       NaN       3  25.0      0      0    8.0500     1  0  1\n",
       "1308       NaN       3  25.0      1      1   22.3583     1  0  0\n",
       "\n",
       "[1309 rows x 9 columns]"
      ]
     },
     "execution_count": 537,
     "metadata": {},
     "output_type": "execute_result"
    }
   ],
   "source": [
    "# dropping unneccessary identifiers \n",
    "df_whole.drop(['Name', 'PassengerId'], axis=1, inplace=True)\n",
    "df_whole"
   ]
  },
  {
   "cell_type": "code",
   "execution_count": 538,
   "id": "9921506e",
   "metadata": {
    "scrolled": true
   },
   "outputs": [
    {
     "data": {
      "text/html": [
       "<div>\n",
       "<style scoped>\n",
       "    .dataframe tbody tr th:only-of-type {\n",
       "        vertical-align: middle;\n",
       "    }\n",
       "\n",
       "    .dataframe tbody tr th {\n",
       "        vertical-align: top;\n",
       "    }\n",
       "\n",
       "    .dataframe thead th {\n",
       "        text-align: right;\n",
       "    }\n",
       "</style>\n",
       "<table border=\"1\" class=\"dataframe\">\n",
       "  <thead>\n",
       "    <tr style=\"text-align: right;\">\n",
       "      <th></th>\n",
       "      <th>Survived</th>\n",
       "      <th>Pclass</th>\n",
       "      <th>Age</th>\n",
       "      <th>SibSp</th>\n",
       "      <th>Parch</th>\n",
       "      <th>Fare</th>\n",
       "      <th>male</th>\n",
       "      <th>Q</th>\n",
       "      <th>S</th>\n",
       "    </tr>\n",
       "  </thead>\n",
       "  <tbody>\n",
       "    <tr>\n",
       "      <th>0</th>\n",
       "      <td>0.0</td>\n",
       "      <td>3</td>\n",
       "      <td>22.0</td>\n",
       "      <td>1</td>\n",
       "      <td>0</td>\n",
       "      <td>7.2500</td>\n",
       "      <td>1</td>\n",
       "      <td>0</td>\n",
       "      <td>1</td>\n",
       "    </tr>\n",
       "    <tr>\n",
       "      <th>1</th>\n",
       "      <td>1.0</td>\n",
       "      <td>1</td>\n",
       "      <td>38.0</td>\n",
       "      <td>1</td>\n",
       "      <td>0</td>\n",
       "      <td>71.2833</td>\n",
       "      <td>0</td>\n",
       "      <td>0</td>\n",
       "      <td>0</td>\n",
       "    </tr>\n",
       "    <tr>\n",
       "      <th>2</th>\n",
       "      <td>1.0</td>\n",
       "      <td>3</td>\n",
       "      <td>26.0</td>\n",
       "      <td>0</td>\n",
       "      <td>0</td>\n",
       "      <td>7.9250</td>\n",
       "      <td>0</td>\n",
       "      <td>0</td>\n",
       "      <td>1</td>\n",
       "    </tr>\n",
       "    <tr>\n",
       "      <th>3</th>\n",
       "      <td>1.0</td>\n",
       "      <td>1</td>\n",
       "      <td>35.0</td>\n",
       "      <td>1</td>\n",
       "      <td>0</td>\n",
       "      <td>53.1000</td>\n",
       "      <td>0</td>\n",
       "      <td>0</td>\n",
       "      <td>1</td>\n",
       "    </tr>\n",
       "    <tr>\n",
       "      <th>4</th>\n",
       "      <td>0.0</td>\n",
       "      <td>3</td>\n",
       "      <td>35.0</td>\n",
       "      <td>0</td>\n",
       "      <td>0</td>\n",
       "      <td>8.0500</td>\n",
       "      <td>1</td>\n",
       "      <td>0</td>\n",
       "      <td>1</td>\n",
       "    </tr>\n",
       "  </tbody>\n",
       "</table>\n",
       "</div>"
      ],
      "text/plain": [
       "   Survived  Pclass   Age  SibSp  Parch     Fare  male  Q  S\n",
       "0       0.0       3  22.0      1      0   7.2500     1  0  1\n",
       "1       1.0       1  38.0      1      0  71.2833     0  0  0\n",
       "2       1.0       3  26.0      0      0   7.9250     0  0  1\n",
       "3       1.0       1  35.0      1      0  53.1000     0  0  1\n",
       "4       0.0       3  35.0      0      0   8.0500     1  0  1"
      ]
     },
     "execution_count": 538,
     "metadata": {},
     "output_type": "execute_result"
    }
   ],
   "source": [
    "# splitting data\n",
    "\n",
    "df_train_alt = df_whole[:891]\n",
    "df_test_alt = df_whole[891:]\n",
    "\n",
    "X = df_train_alt.drop('Survived', axis=1)\n",
    "y = df_train_alt['Survived']\n",
    "\n",
    "df_whole.head()"
   ]
  },
  {
   "cell_type": "code",
   "execution_count": 539,
   "id": "844c4334",
   "metadata": {},
   "outputs": [],
   "source": [
    "def showPrecisionRecallScores(pipe):\n",
    "    predictions = cross_val_predict(pipe, X, y, cv = 3)\n",
    "    print(\"Precision: \", precision_score(y, predictions))\n",
    "    print(\"Recall: \",recall_score(y, predictions))"
   ]
  },
  {
   "cell_type": "markdown",
   "id": "2894f28f",
   "metadata": {},
   "source": [
    "## Random Forest Regressor"
   ]
  },
  {
   "cell_type": "code",
   "execution_count": 540,
   "id": "dcb746b1",
   "metadata": {},
   "outputs": [
    {
     "data": {
      "text/plain": [
       "88.56"
      ]
     },
     "execution_count": 540,
     "metadata": {},
     "output_type": "execute_result"
    }
   ],
   "source": [
    "# https://scikit-learn.org/stable/modules/generated/sklearn.\n",
    "#ensemble.RandomForestRegressor.html\n",
    "\n",
    "X_test = df_test_alt.drop('Survived', axis=1)\n",
    "\n",
    "pipe_forest_forest_reg = make_pipeline(StandardScaler(), \n",
    "                                       RandomForestRegressor())\n",
    "pipe_forest_forest_reg.fit(X, y)  # apply scaling on training data\n",
    "predictions_forest_forest_reg = pipe_forest_forest_reg.predict(X_test)\n",
    "\n",
    "acc_forest_reg = round(pipe_forest_forest_reg.score(X,y) * 100, 2)\n",
    "acc_forest_reg"
   ]
  },
  {
   "cell_type": "markdown",
   "id": "4f11c739",
   "metadata": {},
   "source": [
    "Accuraccy of 88.6% for random forest regressor, lets see if we can improve that score with the hyperparameters."
   ]
  },
  {
   "cell_type": "markdown",
   "id": "6f7af38b",
   "metadata": {},
   "source": [
    "Making a default random forest regressor model that is not hyperparameterized. I will compare both of the kaggle scores and other metrics between the default and hyper parameterized version of the models"
   ]
  },
  {
   "cell_type": "code",
   "execution_count": 541,
   "id": "9d0248c6",
   "metadata": {},
   "outputs": [],
   "source": [
    "df_predictions_forest_reg = pd.DataFrame({'PassengerID' : ids, \n",
    "                        'Survived' : predictions_forest_reg.astype(int)})\n",
    "df_predictions_forest_reg.to_csv('forest_reg_submission.csv', index=False)"
   ]
  },
  {
   "cell_type": "markdown",
   "id": "7a85e314",
   "metadata": {},
   "source": [
    "Using the keys to help understand what parameters are possibly relevent for and modify that"
   ]
  },
  {
   "cell_type": "code",
   "execution_count": 542,
   "id": "8ec0d8df",
   "metadata": {},
   "outputs": [
    {
     "name": "stdout",
     "output_type": "stream",
     "text": [
      "['memory', 'randomforestregressor', 'randomforestregressor__bootstrap', 'randomforestregressor__ccp_alpha', 'randomforestregressor__criterion', 'randomforestregressor__max_depth', 'randomforestregressor__max_features', 'randomforestregressor__max_leaf_nodes', 'randomforestregressor__max_samples', 'randomforestregressor__min_impurity_decrease', 'randomforestregressor__min_samples_leaf', 'randomforestregressor__min_samples_split', 'randomforestregressor__min_weight_fraction_leaf', 'randomforestregressor__n_estimators', 'randomforestregressor__n_jobs', 'randomforestregressor__oob_score', 'randomforestregressor__random_state', 'randomforestregressor__verbose', 'randomforestregressor__warm_start', 'standardscaler', 'standardscaler__copy', 'standardscaler__with_mean', 'standardscaler__with_std', 'steps', 'verbose']\n"
     ]
    }
   ],
   "source": [
    "print(sorted(pipe_forest_forest_reg.get_params().keys()))"
   ]
  },
  {
   "cell_type": "code",
   "execution_count": 543,
   "id": "91466406",
   "metadata": {},
   "outputs": [
    {
     "name": "stdout",
     "output_type": "stream",
     "text": [
      "Fitting 4 folds for each of 12 candidates, totalling 48 fits\n"
     ]
    }
   ],
   "source": [
    "# https://stackoverflow.com/questions/43366561/\n",
    "#use-sklearns-gridsearchcv-with-a-pipeline-preprocessing-just-once\n",
    "MSE = make_scorer(mean_squared_error, greater_is_better=False)\n",
    "X_test = df_test_alt.drop('Survived', axis=1)\n",
    "\n",
    "# basing the hyperparameters from the textbook and the preliminary EDA\n",
    "param_grid = {\n",
    "    'randomforestregressor__n_estimators': [100,200,500,1000],\n",
    "    'randomforestregressor__bootstrap': [True],\n",
    "    'randomforestregressor__max_depth': [50, 75, 100],\n",
    "    'randomforestregressor__max_features': ['auto'],\n",
    "    }\n",
    "\n",
    "pipe_forest_forest_reg_2 = make_pipeline(StandardScaler(), \n",
    "                                         RandomForestRegressor())\n",
    "\n",
    "grid_search = GridSearchCV(pipe_forest_forest_reg_2, param_grid, n_jobs=-1, \n",
    "                           cv=4, scoring=MSE, verbose=2)\n",
    "grid_search.fit(X, y)\n",
    "predictions_grid_predict_extra_tree = grid_search.predict(X_test)"
   ]
  },
  {
   "cell_type": "code",
   "execution_count": 544,
   "id": "19c0cac7",
   "metadata": {},
   "outputs": [
    {
     "name": "stdout",
     "output_type": "stream",
     "text": [
      "Random forest regression: \n",
      "Best Params: {'randomforestregressor__bootstrap': True, 'randomforestregressor__max_depth': 50, 'randomforestregressor__max_features': 'auto', 'randomforestregressor__n_estimators': 500}\n",
      "Best CV Score: 0.14151214091440775\n"
     ]
    }
   ],
   "source": [
    "print('Random forest regression: ')\n",
    "print('Best Params:', grid_search.best_params_)\n",
    "print('Best CV Score:', -grid_search.best_score_)"
   ]
  },
  {
   "cell_type": "code",
   "execution_count": 545,
   "id": "8aa12817",
   "metadata": {},
   "outputs": [],
   "source": [
    "df_predictions_grid_predict_extra_tree = pd.DataFrame({'PassengerID' : ids, \n",
    "    'Survived' : predictions_grid_predict_extra_tree.astype(int)})\n",
    "df_predictions_grid_predict_extra_tree.to_csv\\\n",
    "('forest_reg_grid_submission.csv', index=False)"
   ]
  },
  {
   "cell_type": "markdown",
   "id": "93893ec7",
   "metadata": {},
   "source": [
    "## Gradient Boosted Trees"
   ]
  },
  {
   "cell_type": "code",
   "execution_count": 548,
   "id": "031558c6",
   "metadata": {},
   "outputs": [],
   "source": [
    "X_test = df_test_alt.drop('Survived', axis=1)\n",
    "pipe_gbrt = make_pipeline(StandardScaler(), GradientBoostingClassifier())\n",
    "pipe_gbrt.fit(X, y)  # apply scaling on training data\n",
    "predictions_gbrt = pipe_gbrt.predict(X_test)\n"
   ]
  },
  {
   "cell_type": "code",
   "execution_count": 549,
   "id": "f271c6fc",
   "metadata": {},
   "outputs": [],
   "source": [
    "df_predictions_gbrt = pd.DataFrame({'PassengerID' : ids, \n",
    "                        'Survived' : predictions_gbrt.astype(int)})\n",
    "df_predictions_gbrt.to_csv('gbrt_submission.csv', index=False)"
   ]
  },
  {
   "cell_type": "code",
   "execution_count": 553,
   "id": "adca926e",
   "metadata": {},
   "outputs": [
    {
     "name": "stdout",
     "output_type": "stream",
     "text": [
      "['gradientboostingclassifier', 'gradientboostingclassifier__ccp_alpha', 'gradientboostingclassifier__criterion', 'gradientboostingclassifier__init', 'gradientboostingclassifier__learning_rate', 'gradientboostingclassifier__loss', 'gradientboostingclassifier__max_depth', 'gradientboostingclassifier__max_features', 'gradientboostingclassifier__max_leaf_nodes', 'gradientboostingclassifier__min_impurity_decrease', 'gradientboostingclassifier__min_samples_leaf', 'gradientboostingclassifier__min_samples_split', 'gradientboostingclassifier__min_weight_fraction_leaf', 'gradientboostingclassifier__n_estimators', 'gradientboostingclassifier__n_iter_no_change', 'gradientboostingclassifier__random_state', 'gradientboostingclassifier__subsample', 'gradientboostingclassifier__tol', 'gradientboostingclassifier__validation_fraction', 'gradientboostingclassifier__verbose', 'gradientboostingclassifier__warm_start', 'memory', 'standardscaler', 'standardscaler__copy', 'standardscaler__with_mean', 'standardscaler__with_std', 'steps', 'verbose']\n"
     ]
    }
   ],
   "source": [
    "# https://datascience.stackexchange.com/questions/29410/\n",
    "# how-to-set-parameters-to-search-in-scikit-learn-gridsearchcv\n",
    "\n",
    "print(sorted(pipe_gbrt.get_params().keys()))\n"
   ]
  },
  {
   "cell_type": "code",
   "execution_count": 554,
   "id": "fcc8db11",
   "metadata": {},
   "outputs": [
    {
     "name": "stdout",
     "output_type": "stream",
     "text": [
      "Fitting 4 folds for each of 16 candidates, totalling 64 fits\n",
      "Gradient boosted trees classifier...\n",
      "Best Params: {'gradientboostingclassifier__max_depth': 100, 'gradientboostingclassifier__max_features': 'auto', 'gradientboostingclassifier__n_estimators': 1000}\n",
      "Best CV Score: 0.20201086736961177\n"
     ]
    }
   ],
   "source": [
    "MSE = make_scorer(mean_squared_error, greater_is_better=False)\n",
    "X_test = df_test_alt.drop('Survived', axis=1)\n",
    "\n",
    "param_grid = {\n",
    "    'gradientboostingclassifier__criterion' : ['gini'],\n",
    "    'gradientboostingclassifier__n_estimators': [100,200,500,1000],\n",
    "    'gradientboostingclassifier__max_depth': [25, 50, 75, 100],\n",
    "    'gradientboostingclassifier__max_features': ['auto'],\n",
    "    }\n",
    "\n",
    "pipe_forest_gbrt_2 = make_pipeline(StandardScaler(), \n",
    "                                   GradientBoostingClassifier())\n",
    "\n",
    "grid_search = GridSearchCV(pipe_forest_gbrt_2, param_grid, n_jobs=-1,cv=4,\n",
    "                           scoring=MSE, verbose=2)\n",
    "grid_search.fit(X, y)\n",
    "predictions_grid_predict_gbrt = grid_search.predict(X_test)\n",
    "\n",
    "\n",
    "print('Gradient boosted trees classifier...')\n",
    "print('Best Params:', grid_search.best_params_)\n",
    "print('Best CV Score:', -grid_search.best_score_)\n",
    "\n",
    "df_predictions_grid_predict_gbrt = pd.DataFrame({'PassengerID' : ids, \n",
    "     'Survived' : predictions_grid_predict_gbrt.astype(int)})\n",
    "df_predictions_grid_predict_gbrt.to_csv('gbrt_grid_submission.csv', \n",
    "                                        index=False)"
   ]
  },
  {
   "cell_type": "markdown",
   "id": "ce3d35a4",
   "metadata": {},
   "source": [
    "The CV score is quite high, I expect this model to perform the best in comparison to the others"
   ]
  },
  {
   "cell_type": "markdown",
   "id": "b21b6ab2",
   "metadata": {},
   "source": [
    "## Extra Trees"
   ]
  },
  {
   "cell_type": "code",
   "execution_count": 555,
   "id": "5893dcb3",
   "metadata": {},
   "outputs": [],
   "source": [
    "X_test = df_test_alt.drop('Survived', axis=1)\n",
    "\n",
    "\n",
    "pipe_forest_extra_trees = make_pipeline(StandardScaler(), \n",
    "                                        ExtraTreesRegressor())\n",
    "pipe_forest_extra_trees.fit(X, y)  # apply scaling on training data\n",
    "predictions_forest_extra_trees = pipe_forest_extra_trees.predict(X_test)"
   ]
  },
  {
   "cell_type": "code",
   "execution_count": 556,
   "id": "ec5ed71e",
   "metadata": {},
   "outputs": [
    {
     "name": "stdout",
     "output_type": "stream",
     "text": [
      "['extratreesregressor', 'extratreesregressor__bootstrap', 'extratreesregressor__ccp_alpha', 'extratreesregressor__criterion', 'extratreesregressor__max_depth', 'extratreesregressor__max_features', 'extratreesregressor__max_leaf_nodes', 'extratreesregressor__max_samples', 'extratreesregressor__min_impurity_decrease', 'extratreesregressor__min_samples_leaf', 'extratreesregressor__min_samples_split', 'extratreesregressor__min_weight_fraction_leaf', 'extratreesregressor__n_estimators', 'extratreesregressor__n_jobs', 'extratreesregressor__oob_score', 'extratreesregressor__random_state', 'extratreesregressor__verbose', 'extratreesregressor__warm_start', 'memory', 'standardscaler', 'standardscaler__copy', 'standardscaler__with_mean', 'standardscaler__with_std', 'steps', 'verbose']\n"
     ]
    }
   ],
   "source": [
    "\n",
    "print(sorted(pipe_forest_extra_trees.get_params().keys()))\n"
   ]
  },
  {
   "cell_type": "code",
   "execution_count": 557,
   "id": "6a91826b",
   "metadata": {},
   "outputs": [
    {
     "name": "stdout",
     "output_type": "stream",
     "text": [
      "Fitting 4 folds for each of 12 candidates, totalling 48 fits\n",
      "Extra trees regression...\n",
      "Best Params: {'extratreesregressor__bootstrap': True, 'extratreesregressor__max_depth': 50, 'extratreesregressor__max_features': 'auto', 'extratreesregressor__n_estimators': 500}\n",
      "Best CV Score: 0.14477897060618317\n"
     ]
    }
   ],
   "source": [
    "MSE = make_scorer(mean_squared_error, greater_is_better=False)\n",
    "X_test = df_test_alt.drop('Survived', axis=1)\n",
    "\n",
    "param_grid = {\n",
    "    'extratreesregressor__n_estimators': [100,200,500,1000],\n",
    "'extratreesregressor__bootstrap': [True],\n",
    "    'extratreesregressor__max_depth': [50, 75, 100],\n",
    "    'extratreesregressor__max_features': ['auto'],\n",
    "    }\n",
    "\n",
    "pipe_forest_extra_trees_2 = make_pipeline(StandardScaler(),\n",
    "                                          ExtraTreesRegressor())\n",
    "\n",
    "grid_search = GridSearchCV(pipe_forest_extra_trees_2, param_grid, \n",
    "                           n_jobs=-1, cv=4, scoring=MSE, verbose=2)\n",
    "grid_search.fit(X, y)\n",
    "predictions_grid_predict_extra_tree = grid_search.predict(X_test)\n",
    "\n",
    "\n",
    "print('Extra trees regression...')\n",
    "print('Best Params:', grid_search.best_params_)\n",
    "print('Best CV Score:', -grid_search.best_score_)\n",
    "\n",
    "df_predictions_grid_predict_extra_tree = pd.DataFrame({'PassengerID' : ids, \n",
    "            'Survived' : predictions_grid_predict_extra_tree.astype(int)})\n",
    "df_predictions_grid_predict_extra_tree.to_csv\\\n",
    "('extra_trees_grid_submission.csv', index=False)"
   ]
  },
  {
   "cell_type": "markdown",
   "id": "e301beb4",
   "metadata": {},
   "source": [
    "I wanted to use the same paramaters for the hypertuning to see which one would perform better in comparison to Random forest regressor, as both models are very similar according to the textbook. It seems like not a huge difference is between the Extra Trees and Random Forest, so the kaggle hidden test case will show us. The CV score is slightly better on Extree Trees, thus I predict it to be slightly better on the hidden test cases. "
   ]
  },
  {
   "cell_type": "code",
   "execution_count": 558,
   "id": "6e81f725",
   "metadata": {},
   "outputs": [
    {
     "name": "stdout",
     "output_type": "stream",
     "text": [
      "[CV] END gradientboostingclassifier__max_depth=25, gradientboostingclassifier__max_features=auto, gradientboostingclassifier__n_estimators=100; total time=   1.7s\n",
      "[CV] END gradientboostingclassifier__max_depth=25, gradientboostingclassifier__max_features=auto, gradientboostingclassifier__n_estimators=200; total time=   3.4s\n",
      "[CV] END gradientboostingclassifier__max_depth=25, gradientboostingclassifier__max_features=auto, gradientboostingclassifier__n_estimators=500; total time=   7.0s\n",
      "[CV] END gradientboostingclassifier__max_depth=25, gradientboostingclassifier__max_features=auto, gradientboostingclassifier__n_estimators=1000; total time=  12.1s\n",
      "[CV] END gradientboostingclassifier__max_depth=50, gradientboostingclassifier__max_features=auto, gradientboostingclassifier__n_estimators=200; total time=   3.6s\n",
      "[CV] END gradientboostingclassifier__max_depth=50, gradientboostingclassifier__max_features=auto, gradientboostingclassifier__n_estimators=500; total time=   7.0s\n",
      "[CV] END gradientboostingclassifier__max_depth=50, gradientboostingclassifier__max_features=auto, gradientboostingclassifier__n_estimators=1000; total time=  12.2s\n",
      "[CV] END gradientboostingclassifier__max_depth=75, gradientboostingclassifier__max_features=auto, gradientboostingclassifier__n_estimators=100; total time=   2.0s\n",
      "[CV] END gradientboostingclassifier__max_depth=75, gradientboostingclassifier__max_features=auto, gradientboostingclassifier__n_estimators=100; total time=   1.7s\n",
      "[CV] END gradientboostingclassifier__max_depth=75, gradientboostingclassifier__max_features=auto, gradientboostingclassifier__n_estimators=100; total time=   1.3s\n",
      "[CV] END gradientboostingclassifier__max_depth=75, gradientboostingclassifier__max_features=auto, gradientboostingclassifier__n_estimators=200; total time=   2.4s\n",
      "[CV] END gradientboostingclassifier__max_depth=75, gradientboostingclassifier__max_features=auto, gradientboostingclassifier__n_estimators=500; total time=   5.4s\n",
      "[CV] END gradientboostingclassifier__max_depth=75, gradientboostingclassifier__max_features=auto, gradientboostingclassifier__n_estimators=1000; total time=  14.2s\n",
      "[CV] END gradientboostingclassifier__max_depth=100, gradientboostingclassifier__max_features=auto, gradientboostingclassifier__n_estimators=200; total time=   3.0s\n",
      "[CV] END gradientboostingclassifier__max_depth=100, gradientboostingclassifier__max_features=auto, gradientboostingclassifier__n_estimators=500; total time=   7.0s\n",
      "[CV] END gradientboostingclassifier__max_depth=100, gradientboostingclassifier__max_features=auto, gradientboostingclassifier__n_estimators=1000; total time=  11.6s\n",
      "[CV] END extratreesregressor__bootstrap=True, extratreesregressor__max_depth=50, extratreesregressor__max_features=auto, extratreesregressor__n_estimators=100; total time=   0.4s\n",
      "[CV] END extratreesregressor__bootstrap=True, extratreesregressor__max_depth=50, extratreesregressor__max_features=auto, extratreesregressor__n_estimators=200; total time=   0.7s\n",
      "[CV] END extratreesregressor__bootstrap=True, extratreesregressor__max_depth=50, extratreesregressor__max_features=auto, extratreesregressor__n_estimators=500; total time=   3.1s\n",
      "[CV] END extratreesregressor__bootstrap=True, extratreesregressor__max_depth=50, extratreesregressor__max_features=auto, extratreesregressor__n_estimators=1000; total time=   5.8s\n",
      "[CV] END extratreesregressor__bootstrap=True, extratreesregressor__max_depth=75, extratreesregressor__max_features=auto, extratreesregressor__n_estimators=100; total time=   0.4s\n",
      "[CV] END extratreesregressor__bootstrap=True, extratreesregressor__max_depth=75, extratreesregressor__max_features=auto, extratreesregressor__n_estimators=200; total time=   1.7s\n",
      "[CV] END extratreesregressor__bootstrap=True, extratreesregressor__max_depth=75, extratreesregressor__max_features=auto, extratreesregressor__n_estimators=500; total time=   2.9s\n",
      "[CV] END extratreesregressor__bootstrap=True, extratreesregressor__max_depth=75, extratreesregressor__max_features=auto, extratreesregressor__n_estimators=1000; total time=   3.6s\n",
      "[CV] END extratreesregressor__bootstrap=True, extratreesregressor__max_depth=100, extratreesregressor__max_features=auto, extratreesregressor__n_estimators=100; total time=   0.3s\n",
      "[CV] END extratreesregressor__bootstrap=True, extratreesregressor__max_depth=100, extratreesregressor__max_features=auto, extratreesregressor__n_estimators=200; total time=   0.7s\n",
      "[CV] END extratreesregressor__bootstrap=True, extratreesregressor__max_depth=100, extratreesregressor__max_features=auto, extratreesregressor__n_estimators=500; total time=   2.0s\n",
      "[CV] END extratreesregressor__bootstrap=True, extratreesregressor__max_depth=100, extratreesregressor__max_features=auto, extratreesregressor__n_estimators=1000; total time=   3.9s\n",
      "[CV] END gradientboostingclassifier__max_depth=25, gradientboostingclassifier__max_features=auto, gradientboostingclassifier__n_estimators=100; total time=   1.7s\n",
      "[CV] END gradientboostingclassifier__max_depth=25, gradientboostingclassifier__max_features=auto, gradientboostingclassifier__n_estimators=200; total time=   3.4s\n",
      "[CV] END gradientboostingclassifier__max_depth=25, gradientboostingclassifier__max_features=auto, gradientboostingclassifier__n_estimators=500; total time=   7.1s\n",
      "[CV] END gradientboostingclassifier__max_depth=25, gradientboostingclassifier__max_features=auto, gradientboostingclassifier__n_estimators=1000; total time=  11.8s\n",
      "[CV] END gradientboostingclassifier__max_depth=50, gradientboostingclassifier__max_features=auto, gradientboostingclassifier__n_estimators=100; total time=   2.1s\n",
      "[CV] END gradientboostingclassifier__max_depth=50, gradientboostingclassifier__max_features=auto, gradientboostingclassifier__n_estimators=200; total time=   4.1s\n",
      "[CV] END gradientboostingclassifier__max_depth=50, gradientboostingclassifier__max_features=auto, gradientboostingclassifier__n_estimators=500; total time=   6.9s\n",
      "[CV] END gradientboostingclassifier__max_depth=50, gradientboostingclassifier__max_features=auto, gradientboostingclassifier__n_estimators=1000; total time=  15.0s\n",
      "[CV] END gradientboostingclassifier__max_depth=75, gradientboostingclassifier__max_features=auto, gradientboostingclassifier__n_estimators=200; total time=   2.4s\n",
      "[CV] END gradientboostingclassifier__max_depth=75, gradientboostingclassifier__max_features=auto, gradientboostingclassifier__n_estimators=500; total time=   5.6s\n",
      "[CV] END gradientboostingclassifier__max_depth=75, gradientboostingclassifier__max_features=auto, gradientboostingclassifier__n_estimators=1000; total time=  15.2s\n",
      "[CV] END gradientboostingclassifier__max_depth=100, gradientboostingclassifier__max_features=auto, gradientboostingclassifier__n_estimators=200; total time=   3.2s\n",
      "[CV] END gradientboostingclassifier__max_depth=100, gradientboostingclassifier__max_features=auto, gradientboostingclassifier__n_estimators=500; total time=   8.3s\n",
      "[CV] END gradientboostingclassifier__max_depth=100, gradientboostingclassifier__max_features=auto, gradientboostingclassifier__n_estimators=1000; total time=  12.3s\n",
      "[CV] END extratreesregressor__bootstrap=True, extratreesregressor__max_depth=50, extratreesregressor__max_features=auto, extratreesregressor__n_estimators=100; total time=   0.4s\n",
      "[CV] END extratreesregressor__bootstrap=True, extratreesregressor__max_depth=50, extratreesregressor__max_features=auto, extratreesregressor__n_estimators=200; total time=   0.8s\n",
      "[CV] END extratreesregressor__bootstrap=True, extratreesregressor__max_depth=50, extratreesregressor__max_features=auto, extratreesregressor__n_estimators=500; total time=   3.1s\n",
      "[CV] END extratreesregressor__bootstrap=True, extratreesregressor__max_depth=50, extratreesregressor__max_features=auto, extratreesregressor__n_estimators=1000; total time=   5.8s\n",
      "[CV] END extratreesregressor__bootstrap=True, extratreesregressor__max_depth=75, extratreesregressor__max_features=auto, extratreesregressor__n_estimators=100; total time=   0.5s\n",
      "[CV] END extratreesregressor__bootstrap=True, extratreesregressor__max_depth=75, extratreesregressor__max_features=auto, extratreesregressor__n_estimators=200; total time=   1.8s\n",
      "[CV] END extratreesregressor__bootstrap=True, extratreesregressor__max_depth=75, extratreesregressor__max_features=auto, extratreesregressor__n_estimators=500; total time=   2.7s\n",
      "[CV] END extratreesregressor__bootstrap=True, extratreesregressor__max_depth=75, extratreesregressor__max_features=auto, extratreesregressor__n_estimators=1000; total time=   3.6s\n",
      "[CV] END extratreesregressor__bootstrap=True, extratreesregressor__max_depth=100, extratreesregressor__max_features=auto, extratreesregressor__n_estimators=100; total time=   0.3s\n",
      "[CV] END extratreesregressor__bootstrap=True, extratreesregressor__max_depth=100, extratreesregressor__max_features=auto, extratreesregressor__n_estimators=200; total time=   0.7s\n",
      "[CV] END extratreesregressor__bootstrap=True, extratreesregressor__max_depth=100, extratreesregressor__max_features=auto, extratreesregressor__n_estimators=500; total time=   2.0s\n",
      "[CV] END extratreesregressor__bootstrap=True, extratreesregressor__max_depth=100, extratreesregressor__max_features=auto, extratreesregressor__n_estimators=1000; total time=   4.0s\n"
     ]
    },
    {
     "name": "stdout",
     "output_type": "stream",
     "text": [
      "[CV] END gradientboostingclassifier__max_depth=25, gradientboostingclassifier__max_features=auto, gradientboostingclassifier__n_estimators=100; total time=   1.7s\n",
      "[CV] END gradientboostingclassifier__max_depth=25, gradientboostingclassifier__max_features=auto, gradientboostingclassifier__n_estimators=200; total time=   3.4s\n",
      "[CV] END gradientboostingclassifier__max_depth=25, gradientboostingclassifier__max_features=auto, gradientboostingclassifier__n_estimators=500; total time=   6.9s\n",
      "[CV] END gradientboostingclassifier__max_depth=25, gradientboostingclassifier__max_features=auto, gradientboostingclassifier__n_estimators=1000; total time=  11.7s\n",
      "[CV] END gradientboostingclassifier__max_depth=50, gradientboostingclassifier__max_features=auto, gradientboostingclassifier__n_estimators=100; total time=   1.7s\n",
      "[CV] END gradientboostingclassifier__max_depth=50, gradientboostingclassifier__max_features=auto, gradientboostingclassifier__n_estimators=200; total time=   4.2s\n",
      "[CV] END gradientboostingclassifier__max_depth=50, gradientboostingclassifier__max_features=auto, gradientboostingclassifier__n_estimators=500; total time=   6.7s\n",
      "[CV] END gradientboostingclassifier__max_depth=50, gradientboostingclassifier__max_features=auto, gradientboostingclassifier__n_estimators=1000; total time=  13.9s\n",
      "[CV] END gradientboostingclassifier__max_depth=75, gradientboostingclassifier__max_features=auto, gradientboostingclassifier__n_estimators=100; total time=   1.4s\n",
      "[CV] END gradientboostingclassifier__max_depth=75, gradientboostingclassifier__max_features=auto, gradientboostingclassifier__n_estimators=200; total time=   2.4s\n",
      "[CV] END gradientboostingclassifier__max_depth=75, gradientboostingclassifier__max_features=auto, gradientboostingclassifier__n_estimators=500; total time=   5.2s\n",
      "[CV] END gradientboostingclassifier__max_depth=75, gradientboostingclassifier__max_features=auto, gradientboostingclassifier__n_estimators=1000; total time=  13.8s\n",
      "[CV] END gradientboostingclassifier__max_depth=100, gradientboostingclassifier__max_features=auto, gradientboostingclassifier__n_estimators=100; total time=   1.5s\n",
      "[CV] END gradientboostingclassifier__max_depth=100, gradientboostingclassifier__max_features=auto, gradientboostingclassifier__n_estimators=200; total time=   3.2s\n",
      "[CV] END gradientboostingclassifier__max_depth=100, gradientboostingclassifier__max_features=auto, gradientboostingclassifier__n_estimators=500; total time=   7.9s\n",
      "[CV] END gradientboostingclassifier__max_depth=100, gradientboostingclassifier__max_features=auto, gradientboostingclassifier__n_estimators=1000; total time=  12.0s\n",
      "[CV] END extratreesregressor__bootstrap=True, extratreesregressor__max_depth=50, extratreesregressor__max_features=auto, extratreesregressor__n_estimators=100; total time=   0.4s\n",
      "[CV] END extratreesregressor__bootstrap=True, extratreesregressor__max_depth=50, extratreesregressor__max_features=auto, extratreesregressor__n_estimators=200; total time=   0.8s\n",
      "[CV] END extratreesregressor__bootstrap=True, extratreesregressor__max_depth=50, extratreesregressor__max_features=auto, extratreesregressor__n_estimators=500; total time=   3.1s\n",
      "[CV] END extratreesregressor__bootstrap=True, extratreesregressor__max_depth=50, extratreesregressor__max_features=auto, extratreesregressor__n_estimators=1000; total time=   5.9s\n",
      "[CV] END extratreesregressor__bootstrap=True, extratreesregressor__max_depth=75, extratreesregressor__max_features=auto, extratreesregressor__n_estimators=100; total time=   0.8s\n",
      "[CV] END extratreesregressor__bootstrap=True, extratreesregressor__max_depth=75, extratreesregressor__max_features=auto, extratreesregressor__n_estimators=200; total time=   2.0s\n",
      "[CV] END extratreesregressor__bootstrap=True, extratreesregressor__max_depth=75, extratreesregressor__max_features=auto, extratreesregressor__n_estimators=500; total time=   2.4s\n",
      "[CV] END extratreesregressor__bootstrap=True, extratreesregressor__max_depth=75, extratreesregressor__max_features=auto, extratreesregressor__n_estimators=1000; total time=   3.6s\n",
      "[CV] END extratreesregressor__bootstrap=True, extratreesregressor__max_depth=100, extratreesregressor__max_features=auto, extratreesregressor__n_estimators=200; total time=   0.7s\n",
      "[CV] END extratreesregressor__bootstrap=True, extratreesregressor__max_depth=100, extratreesregressor__max_features=auto, extratreesregressor__n_estimators=500; total time=   2.0s\n",
      "[CV] END extratreesregressor__bootstrap=True, extratreesregressor__max_depth=100, extratreesregressor__max_features=auto, extratreesregressor__n_estimators=1000; total time=   4.1s\n",
      "[CV] END gradientboostingclassifier__max_depth=25, gradientboostingclassifier__max_features=auto, gradientboostingclassifier__n_estimators=100; total time=   1.6s\n",
      "[CV] END gradientboostingclassifier__max_depth=25, gradientboostingclassifier__max_features=auto, gradientboostingclassifier__n_estimators=200; total time=   2.9s\n",
      "[CV] END gradientboostingclassifier__max_depth=25, gradientboostingclassifier__max_features=auto, gradientboostingclassifier__n_estimators=500; total time=   6.9s\n",
      "[CV] END gradientboostingclassifier__max_depth=25, gradientboostingclassifier__max_features=auto, gradientboostingclassifier__n_estimators=1000; total time=  10.6s\n",
      "[CV] END gradientboostingclassifier__max_depth=50, gradientboostingclassifier__max_features=auto, gradientboostingclassifier__n_estimators=100; total time=   1.9s\n",
      "[CV] END gradientboostingclassifier__max_depth=50, gradientboostingclassifier__max_features=auto, gradientboostingclassifier__n_estimators=100; total time=   2.0s\n",
      "[CV] END gradientboostingclassifier__max_depth=50, gradientboostingclassifier__max_features=auto, gradientboostingclassifier__n_estimators=200; total time=   4.0s\n",
      "[CV] END gradientboostingclassifier__max_depth=50, gradientboostingclassifier__max_features=auto, gradientboostingclassifier__n_estimators=500; total time=   6.8s\n",
      "[CV] END gradientboostingclassifier__max_depth=50, gradientboostingclassifier__max_features=auto, gradientboostingclassifier__n_estimators=1000; total time=  14.1s\n",
      "[CV] END gradientboostingclassifier__max_depth=75, gradientboostingclassifier__max_features=auto, gradientboostingclassifier__n_estimators=200; total time=   2.2s\n",
      "[CV] END gradientboostingclassifier__max_depth=75, gradientboostingclassifier__max_features=auto, gradientboostingclassifier__n_estimators=500; total time=   4.9s\n",
      "[CV] END gradientboostingclassifier__max_depth=75, gradientboostingclassifier__max_features=auto, gradientboostingclassifier__n_estimators=1000; total time=  11.2s\n",
      "[CV] END gradientboostingclassifier__max_depth=100, gradientboostingclassifier__max_features=auto, gradientboostingclassifier__n_estimators=100; total time=   1.6s\n",
      "[CV] END gradientboostingclassifier__max_depth=100, gradientboostingclassifier__max_features=auto, gradientboostingclassifier__n_estimators=100; total time=   2.6s\n",
      "[CV] END gradientboostingclassifier__max_depth=100, gradientboostingclassifier__max_features=auto, gradientboostingclassifier__n_estimators=100; total time=   1.7s\n",
      "[CV] END gradientboostingclassifier__max_depth=100, gradientboostingclassifier__max_features=auto, gradientboostingclassifier__n_estimators=200; total time=   3.3s\n",
      "[CV] END gradientboostingclassifier__max_depth=100, gradientboostingclassifier__max_features=auto, gradientboostingclassifier__n_estimators=500; total time=   8.4s\n",
      "[CV] END gradientboostingclassifier__max_depth=100, gradientboostingclassifier__max_features=auto, gradientboostingclassifier__n_estimators=1000; total time=  12.8s\n",
      "[CV] END extratreesregressor__bootstrap=True, extratreesregressor__max_depth=50, extratreesregressor__max_features=auto, extratreesregressor__n_estimators=100; total time=   0.4s\n",
      "[CV] END extratreesregressor__bootstrap=True, extratreesregressor__max_depth=50, extratreesregressor__max_features=auto, extratreesregressor__n_estimators=200; total time=   0.7s\n",
      "[CV] END extratreesregressor__bootstrap=True, extratreesregressor__max_depth=50, extratreesregressor__max_features=auto, extratreesregressor__n_estimators=500; total time=   3.1s\n",
      "[CV] END extratreesregressor__bootstrap=True, extratreesregressor__max_depth=50, extratreesregressor__max_features=auto, extratreesregressor__n_estimators=1000; total time=   5.7s\n",
      "[CV] END extratreesregressor__bootstrap=True, extratreesregressor__max_depth=75, extratreesregressor__max_features=auto, extratreesregressor__n_estimators=100; total time=   0.4s\n",
      "[CV] END extratreesregressor__bootstrap=True, extratreesregressor__max_depth=75, extratreesregressor__max_features=auto, extratreesregressor__n_estimators=200; total time=   1.7s\n",
      "[CV] END extratreesregressor__bootstrap=True, extratreesregressor__max_depth=75, extratreesregressor__max_features=auto, extratreesregressor__n_estimators=500; total time=   3.0s\n",
      "[CV] END extratreesregressor__bootstrap=True, extratreesregressor__max_depth=75, extratreesregressor__max_features=auto, extratreesregressor__n_estimators=1000; total time=   3.6s\n",
      "[CV] END extratreesregressor__bootstrap=True, extratreesregressor__max_depth=100, extratreesregressor__max_features=auto, extratreesregressor__n_estimators=100; total time=   0.3s\n",
      "[CV] END extratreesregressor__bootstrap=True, extratreesregressor__max_depth=100, extratreesregressor__max_features=auto, extratreesregressor__n_estimators=100; total time=   0.3s\n",
      "[CV] END extratreesregressor__bootstrap=True, extratreesregressor__max_depth=100, extratreesregressor__max_features=auto, extratreesregressor__n_estimators=200; total time=   0.7s\n",
      "[CV] END extratreesregressor__bootstrap=True, extratreesregressor__max_depth=100, extratreesregressor__max_features=auto, extratreesregressor__n_estimators=500; total time=   2.2s\n",
      "[CV] END extratreesregressor__bootstrap=True, extratreesregressor__max_depth=100, extratreesregressor__max_features=auto, extratreesregressor__n_estimators=1000; total time=   3.8s\n"
     ]
    }
   ],
   "source": [
    "df_predictions_extra_trees = pd.DataFrame({'PassengerID' : ids, \n",
    "                'Survived' : predictions_forest_extra_trees.astype(int)})\n",
    "df_predictions_extra_trees.to_csv('extra_trees_submission.csv', index=False)"
   ]
  },
  {
   "cell_type": "code",
   "execution_count": null,
   "id": "6f3f5293",
   "metadata": {},
   "outputs": [],
   "source": []
  }
 ],
 "metadata": {
  "kernelspec": {
   "display_name": "Python 3 (ipykernel)",
   "language": "python",
   "name": "python3"
  },
  "language_info": {
   "codemirror_mode": {
    "name": "ipython",
    "version": 3
   },
   "file_extension": ".py",
   "mimetype": "text/x-python",
   "name": "python",
   "nbconvert_exporter": "python",
   "pygments_lexer": "ipython3",
   "version": "3.9.0"
  }
 },
 "nbformat": 4,
 "nbformat_minor": 5
}
