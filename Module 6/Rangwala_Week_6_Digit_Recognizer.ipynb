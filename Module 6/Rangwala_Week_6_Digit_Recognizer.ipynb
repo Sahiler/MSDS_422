{
 "cells": [
  {
   "cell_type": "code",
   "execution_count": 4,
   "id": "47d13261",
   "metadata": {},
   "outputs": [],
   "source": [
    "import numpy as np\n",
    "import pandas as pd\n",
    "import matplotlib.pyplot as plt\n",
    "import matplotlib\n",
    "from sklearn.metrics import confusion_matrix\n",
    "from sklearn.model_selection import train_test_split, StratifiedKFold\n",
    "from sklearn.metrics import classification_report\n",
    "from sklearn.preprocessing import StandardScaler, MinMaxScaler\n",
    "from sklearn.pipeline import make_pipeline\n",
    "from sklearn.neighbors import KNeighborsClassifier\n",
    "from itertools import cycle\n",
    "from sklearn.decomposition import PCA\n",
    "\n",
    "\n",
    "from sklearn.ensemble import RandomForestClassifier\n",
    "\n",
    "from datetime import datetime\n"
   ]
  },
  {
   "cell_type": "code",
   "execution_count": 5,
   "id": "dc3436d5",
   "metadata": {},
   "outputs": [
    {
     "name": "stdout",
     "output_type": "stream",
     "text": [
      "   pixel0  pixel1  pixel2  pixel3  pixel4  pixel5  pixel6  pixel7  pixel8  \\\n",
      "0       0       0       0       0       0       0       0       0       0   \n",
      "1       0       0       0       0       0       0       0       0       0   \n",
      "2       0       0       0       0       0       0       0       0       0   \n",
      "3       0       0       0       0       0       0       0       0       0   \n",
      "4       0       0       0       0       0       0       0       0       0   \n",
      "\n",
      "   pixel9  ...  pixel774  pixel775  pixel776  pixel777  pixel778  pixel779  \\\n",
      "0       0  ...         0         0         0         0         0         0   \n",
      "1       0  ...         0         0         0         0         0         0   \n",
      "2       0  ...         0         0         0         0         0         0   \n",
      "3       0  ...         0         0         0         0         0         0   \n",
      "4       0  ...         0         0         0         0         0         0   \n",
      "\n",
      "   pixel780  pixel781  pixel782  pixel783  \n",
      "0         0         0         0         0  \n",
      "1         0         0         0         0  \n",
      "2         0         0         0         0  \n",
      "3         0         0         0         0  \n",
      "4         0         0         0         0  \n",
      "\n",
      "[5 rows x 784 columns]\n",
      "   label  pixel0  pixel1  pixel2  pixel3  pixel4  pixel5  pixel6  pixel7  \\\n",
      "0    1.0       0       0       0       0       0       0       0       0   \n",
      "1    0.0       0       0       0       0       0       0       0       0   \n",
      "2    1.0       0       0       0       0       0       0       0       0   \n",
      "3    4.0       0       0       0       0       0       0       0       0   \n",
      "4    0.0       0       0       0       0       0       0       0       0   \n",
      "\n",
      "   pixel8  ...  pixel774  pixel775  pixel776  pixel777  pixel778  pixel779  \\\n",
      "0       0  ...         0         0         0         0         0         0   \n",
      "1       0  ...         0         0         0         0         0         0   \n",
      "2       0  ...         0         0         0         0         0         0   \n",
      "3       0  ...         0         0         0         0         0         0   \n",
      "4       0  ...         0         0         0         0         0         0   \n",
      "\n",
      "   pixel780  pixel781  pixel782  pixel783  \n",
      "0         0         0         0         0  \n",
      "1         0         0         0         0  \n",
      "2         0         0         0         0  \n",
      "3         0         0         0         0  \n",
      "4         0         0         0         0  \n",
      "\n",
      "[5 rows x 785 columns]\n",
      "28000\n"
     ]
    }
   ],
   "source": [
    "df_train = pd.read_csv('train.csv')\n",
    "df_test = pd.read_csv('test.csv')\n",
    "\n",
    "df_whole = pd.concat([df_train, df_test], axis = 0, ignore_index=True)\n",
    "\n",
    "df_target = df_train[\"label\"]\n",
    "df_train = df_train.drop(\"label\", axis = 1)\n",
    "\n",
    "print(df_train.head())\n",
    "print(df_whole.head())\n",
    "print(df_whole.isnull().sum().sum())"
   ]
  },
  {
   "cell_type": "code",
   "execution_count": 6,
   "id": "45862e14",
   "metadata": {},
   "outputs": [
    {
     "name": "stdout",
     "output_type": "stream",
     "text": [
      "<bound method NDFrame.describe of        label  pixel0  pixel1  pixel2  pixel3  pixel4  pixel5  pixel6  pixel7  \\\n",
      "0        1.0       0       0       0       0       0       0       0       0   \n",
      "1        0.0       0       0       0       0       0       0       0       0   \n",
      "2        1.0       0       0       0       0       0       0       0       0   \n",
      "3        4.0       0       0       0       0       0       0       0       0   \n",
      "4        0.0       0       0       0       0       0       0       0       0   \n",
      "...      ...     ...     ...     ...     ...     ...     ...     ...     ...   \n",
      "69995    NaN       0       0       0       0       0       0       0       0   \n",
      "69996    NaN       0       0       0       0       0       0       0       0   \n",
      "69997    NaN       0       0       0       0       0       0       0       0   \n",
      "69998    NaN       0       0       0       0       0       0       0       0   \n",
      "69999    NaN       0       0       0       0       0       0       0       0   \n",
      "\n",
      "       pixel8  ...  pixel774  pixel775  pixel776  pixel777  pixel778  \\\n",
      "0           0  ...         0         0         0         0         0   \n",
      "1           0  ...         0         0         0         0         0   \n",
      "2           0  ...         0         0         0         0         0   \n",
      "3           0  ...         0         0         0         0         0   \n",
      "4           0  ...         0         0         0         0         0   \n",
      "...       ...  ...       ...       ...       ...       ...       ...   \n",
      "69995       0  ...         0         0         0         0         0   \n",
      "69996       0  ...         0         0         0         0         0   \n",
      "69997       0  ...         0         0         0         0         0   \n",
      "69998       0  ...         0         0         0         0         0   \n",
      "69999       0  ...         0         0         0         0         0   \n",
      "\n",
      "       pixel779  pixel780  pixel781  pixel782  pixel783  \n",
      "0             0         0         0         0         0  \n",
      "1             0         0         0         0         0  \n",
      "2             0         0         0         0         0  \n",
      "3             0         0         0         0         0  \n",
      "4             0         0         0         0         0  \n",
      "...         ...       ...       ...       ...       ...  \n",
      "69995         0         0         0         0         0  \n",
      "69996         0         0         0         0         0  \n",
      "69997         0         0         0         0         0  \n",
      "69998         0         0         0         0         0  \n",
      "69999         0         0         0         0         0  \n",
      "\n",
      "[70000 rows x 785 columns]>\n",
      "<bound method NDFrame.describe of        label  pixel0  pixel1  pixel2  pixel3  pixel4  pixel5  pixel6  pixel7  \\\n",
      "0        1.0       0       0       0       0       0       0       0       0   \n",
      "1        0.0       0       0       0       0       0       0       0       0   \n",
      "2        1.0       0       0       0       0       0       0       0       0   \n",
      "3        4.0       0       0       0       0       0       0       0       0   \n",
      "4        0.0       0       0       0       0       0       0       0       0   \n",
      "...      ...     ...     ...     ...     ...     ...     ...     ...     ...   \n",
      "41995    0.0       0       0       0       0       0       0       0       0   \n",
      "41996    1.0       0       0       0       0       0       0       0       0   \n",
      "41997    7.0       0       0       0       0       0       0       0       0   \n",
      "41998    6.0       0       0       0       0       0       0       0       0   \n",
      "41999    9.0       0       0       0       0       0       0       0       0   \n",
      "\n",
      "       pixel8  ...  pixel774  pixel775  pixel776  pixel777  pixel778  \\\n",
      "0           0  ...         0         0         0         0         0   \n",
      "1           0  ...         0         0         0         0         0   \n",
      "2           0  ...         0         0         0         0         0   \n",
      "3           0  ...         0         0         0         0         0   \n",
      "4           0  ...         0         0         0         0         0   \n",
      "...       ...  ...       ...       ...       ...       ...       ...   \n",
      "41995       0  ...         0         0         0         0         0   \n",
      "41996       0  ...         0         0         0         0         0   \n",
      "41997       0  ...         0         0         0         0         0   \n",
      "41998       0  ...         0         0         0         0         0   \n",
      "41999       0  ...         0         0         0         0         0   \n",
      "\n",
      "       pixel779  pixel780  pixel781  pixel782  pixel783  \n",
      "0             0         0         0         0         0  \n",
      "1             0         0         0         0         0  \n",
      "2             0         0         0         0         0  \n",
      "3             0         0         0         0         0  \n",
      "4             0         0         0         0         0  \n",
      "...         ...       ...       ...       ...       ...  \n",
      "41995         0         0         0         0         0  \n",
      "41996         0         0         0         0         0  \n",
      "41997         0         0         0         0         0  \n",
      "41998         0         0         0         0         0  \n",
      "41999         0         0         0         0         0  \n",
      "\n",
      "[42000 rows x 785 columns]>\n"
     ]
    }
   ],
   "source": [
    "print(df_whole.describe)\n",
    "df_clean = df_whole.dropna()\n",
    "print(df_clean.describe)\n",
    "df_test_length = range(1,len(df_test)+1)"
   ]
  },
  {
   "cell_type": "code",
   "execution_count": 9,
   "id": "72a1e2fc",
   "metadata": {},
   "outputs": [],
   "source": [
    "def fitWithTimeOutput(clf, trainX, trainY):\n",
    "    start = datetime.now()\n",
    "\n",
    "    clf.fit(trainX, trainY)\n",
    "    end=datetime.now()\n",
    "    return end-start"
   ]
  },
  {
   "cell_type": "code",
   "execution_count": 10,
   "id": "5938bd9a",
   "metadata": {},
   "outputs": [
    {
     "data": {
      "text/plain": [
       "0.5"
      ]
     },
     "execution_count": 10,
     "metadata": {},
     "output_type": "execute_result"
    }
   ],
   "source": [
    "np.std([0,1])"
   ]
  },
  {
   "cell_type": "code",
   "execution_count": 11,
   "id": "9a02d3ed",
   "metadata": {},
   "outputs": [
    {
     "name": "stdout",
     "output_type": "stream",
     "text": [
      "              label   pixel0   pixel1   pixel2   pixel3   pixel4   pixel5  \\\n",
      "count  42000.000000  70000.0  70000.0  70000.0  70000.0  70000.0  70000.0   \n",
      "mean       4.456643      0.0      0.0      0.0      0.0      0.0      0.0   \n",
      "std        2.887730      0.0      0.0      0.0      0.0      0.0      0.0   \n",
      "min        0.000000      0.0      0.0      0.0      0.0      0.0      0.0   \n",
      "25%        2.000000      0.0      0.0      0.0      0.0      0.0      0.0   \n",
      "50%        4.000000      0.0      0.0      0.0      0.0      0.0      0.0   \n",
      "75%        7.000000      0.0      0.0      0.0      0.0      0.0      0.0   \n",
      "max        9.000000      0.0      0.0      0.0      0.0      0.0      0.0   \n",
      "\n",
      "        pixel6   pixel7   pixel8  ...      pixel774      pixel775  \\\n",
      "count  70000.0  70000.0  70000.0  ...  70000.000000  70000.000000   \n",
      "mean       0.0      0.0      0.0  ...      0.197414      0.099543   \n",
      "std        0.0      0.0      0.0  ...      5.991206      4.256304   \n",
      "min        0.0      0.0      0.0  ...      0.000000      0.000000   \n",
      "25%        0.0      0.0      0.0  ...      0.000000      0.000000   \n",
      "50%        0.0      0.0      0.0  ...      0.000000      0.000000   \n",
      "75%        0.0      0.0      0.0  ...      0.000000      0.000000   \n",
      "max        0.0      0.0      0.0  ...    254.000000    254.000000   \n",
      "\n",
      "           pixel776      pixel777      pixel778      pixel779  pixel780  \\\n",
      "count  70000.000000  70000.000000  70000.000000  70000.000000   70000.0   \n",
      "mean       0.046629      0.016614      0.012957      0.001714       0.0   \n",
      "std        2.783732      1.561822      1.553796      0.320889       0.0   \n",
      "min        0.000000      0.000000      0.000000      0.000000       0.0   \n",
      "25%        0.000000      0.000000      0.000000      0.000000       0.0   \n",
      "50%        0.000000      0.000000      0.000000      0.000000       0.0   \n",
      "75%        0.000000      0.000000      0.000000      0.000000       0.0   \n",
      "max      253.000000    253.000000    254.000000     62.000000       0.0   \n",
      "\n",
      "       pixel781  pixel782  pixel783  \n",
      "count   70000.0   70000.0   70000.0  \n",
      "mean        0.0       0.0       0.0  \n",
      "std         0.0       0.0       0.0  \n",
      "min         0.0       0.0       0.0  \n",
      "25%         0.0       0.0       0.0  \n",
      "50%         0.0       0.0       0.0  \n",
      "75%         0.0       0.0       0.0  \n",
      "max         0.0       0.0       0.0  \n",
      "\n",
      "[8 rows x 785 columns]\n"
     ]
    }
   ],
   "source": [
    "print(df_whole.describe())"
   ]
  },
  {
   "cell_type": "markdown",
   "id": "c005feaa",
   "metadata": {},
   "source": [
    "No data cleaning necessary, no data is missing"
   ]
  },
  {
   "cell_type": "markdown",
   "id": "e94f6d4d",
   "metadata": {},
   "source": [
    "## Random Forest & PCA research"
   ]
  },
  {
   "cell_type": "code",
   "execution_count": 12,
   "id": "b2b78f91",
   "metadata": {},
   "outputs": [
    {
     "name": "stdout",
     "output_type": "stream",
     "text": [
      "0:00:00.050102\n",
      "0:00:00.017167\n",
      "0:00:00.019371\n",
      "0:00:00.017201\n",
      "0:00:00.061572\n",
      "0:00:00.018948\n",
      "0:00:00.016589\n",
      "0:00:00.016747\n",
      "0:00:00.025627\n",
      "0:00:00.016834\n",
      "0:00:00.126242\n",
      "0:00:00.054652\n",
      "0:00:00.071888\n",
      "0:00:00.112534\n",
      "0:00:00.063212\n",
      "0:00:00.061244\n",
      "0:00:00.092430\n",
      "0:00:00.085357\n",
      "0:00:00.101846\n",
      "0:00:00.057823\n",
      "0:00:00.177371\n",
      "0:00:00.110317\n",
      "0:00:00.141381\n",
      "0:00:00.112461\n",
      "0:00:00.140655\n",
      "0:00:00.140631\n",
      "0:00:00.184473\n",
      "0:00:00.086902\n",
      "0:00:00.112187\n",
      "0:00:00.095523\n",
      "0:00:00.491359\n",
      "0:00:00.607047\n",
      "0:00:00.578223\n",
      "0:00:00.513759\n",
      "0:00:00.550469\n",
      "0:00:00.500573\n",
      "0:00:00.467351\n",
      "0:00:00.564527\n",
      "0:00:00.436469\n",
      "0:00:00.497874\n",
      "0:00:00.941868\n",
      "0:00:01.078708\n",
      "0:00:01.104812\n",
      "0:00:01.041795\n",
      "0:00:00.998869\n",
      "0:00:00.887474\n",
      "0:00:01.079190\n",
      "0:00:00.970997\n",
      "0:00:01.055843\n",
      "0:00:00.868210\n",
      "0:00:02.146773\n",
      "0:00:02.540620\n",
      "0:00:01.940843\n",
      "0:00:01.793001\n",
      "0:00:01.782217\n",
      "0:00:01.737667\n",
      "0:00:02.003767\n",
      "0:00:01.851571\n",
      "0:00:02.113443\n",
      "0:00:02.020031\n",
      "0:00:04.829659\n",
      "0:00:04.734017\n",
      "0:00:05.300705\n",
      "0:00:06.297856\n",
      "0:00:06.595290\n",
      "0:00:07.647076\n",
      "0:00:05.493684\n",
      "0:00:04.244267\n",
      "0:00:04.584897\n",
      "0:00:04.922048\n"
     ]
    }
   ],
   "source": [
    "n_estimators_array = np.array([1,5,10,50,100,200,500])\n",
    "\n",
    "n_grid = len(n_estimators_array)\n",
    "j=0\n",
    "for n_estimators in n_estimators_array:\n",
    "    score_array=np.zeros(10)\n",
    "    for i in range(0, 10):\n",
    "        trainX, testX, trainY, testY = \\\n",
    "        train_test_split(df_train.iloc[0:2000], \n",
    "        df_target.iloc[0:2000], \n",
    "                                    train_size = 0.8, random_state=0)\n",
    "        clf = RandomForestClassifier(n_estimators = n_estimators, n_jobs=1, \n",
    "                                     criterion=\"gini\")\n",
    "        print(fitWithTimeOutput(clf, trainX, trainY))\n",
    "    j=j+1\n"
   ]
  },
  {
   "cell_type": "markdown",
   "id": "6758736e",
   "metadata": {},
   "source": [
    "ranges from 1 - 3 seconds of computation time thanks to only looking at few of the values (only 1000)"
   ]
  },
  {
   "cell_type": "markdown",
   "id": "a098d755",
   "metadata": {},
   "source": [
    "## PCA"
   ]
  },
  {
   "cell_type": "code",
   "execution_count": 14,
   "id": "59155213",
   "metadata": {},
   "outputs": [
    {
     "name": "stdout",
     "output_type": "stream",
     "text": [
      "0:00:03.417165\n",
      "0:00:02.681120\n",
      "0:00:02.870680\n",
      "0:00:03.089797\n",
      "0:00:02.797669\n",
      "0:00:04.503741\n",
      "0:00:05.316087\n",
      "0:00:04.833827\n",
      "0:00:06.390714\n",
      "0:00:08.916995\n",
      "0:00:08.637847\n",
      "0:00:13.788414\n",
      "0:00:25.785511\n"
     ]
    }
   ],
   "source": [
    "array_components = ([1, 2, 3, 4, 5, 10, 20, 50, 100, 150, 200, 300, 500])\n",
    "variance_ratio = np.zeros(len(array_components))\n",
    "count = 0;\n",
    "for n_components in array_components:\n",
    "    pca = PCA(n_components = n_components)\n",
    "    start = datetime.now()\n",
    "    pca.fit(df_train)\n",
    "    end = datetime.now()\n",
    "    print(end-start)\n",
    "    variance_ratio[count] = sum(pca.explained_variance_ratio_)\n",
    "    count = count + 1    "
   ]
  },
  {
   "cell_type": "markdown",
   "id": "7ced7cb7",
   "metadata": {},
   "source": [
    "We can see as the number of components increase, the time it takes to compute the PCA increases dramatically. The peak is seen with 500 components with about 19 seconds. "
   ]
  },
  {
   "cell_type": "code",
   "execution_count": 15,
   "id": "df361375",
   "metadata": {},
   "outputs": [
    {
     "data": {
      "text/plain": [
       "Text(0, 0.5, 'Variability')"
      ]
     },
     "execution_count": 15,
     "metadata": {},
     "output_type": "execute_result"
    },
    {
     "data": {
      "image/png": "[encoded data removed]",
      "text/plain": [
       "<Figure size 432x288 with 1 Axes>"
      ]
     },
     "metadata": {
      "needs_background": "light"
     },
     "output_type": "display_data"
    }
   ],
   "source": [
    "\n",
    "plt.plot(array_components,variance_ratio,'b.-')\n",
    "plt.xscale(\"log\")\n",
    "plt.ylim(0,1.1)\n",
    "plt.yticks(np.linspace(0.1,1.0,11))\n",
    "plt.xlim(0.9)\n",
    "plt.grid()\n",
    "plt.xlabel(\"# of PCA components\",size = 15)\n",
    "plt.ylabel(\"Variability\",size = 15)"
   ]
  },
  {
   "cell_type": "markdown",
   "id": "257b46e7",
   "metadata": {},
   "source": [
    "Looks like over 100 components get about 95% variability"
   ]
  },
  {
   "cell_type": "markdown",
   "id": "516753a6",
   "metadata": {},
   "source": [
    "## Random Forest Control"
   ]
  },
  {
   "cell_type": "code",
   "execution_count": 16,
   "id": "371f42f7",
   "metadata": {},
   "outputs": [
    {
     "name": "stdout",
     "output_type": "stream",
     "text": [
      "0:00:35.494905\n"
     ]
    }
   ],
   "source": [
    "clf = RandomForestClassifier()\n",
    "start = datetime.now()\n",
    "\n",
    "print(fitWithTimeOutput(clf, df_train, df_target))\n",
    "\n",
    "results=clf.predict(df_test)\n",
    "\n",
    "np.savetxt('random_forest.csv', np.c_[df_test_length,results], \n",
    "           delimiter=',', \n",
    "           header = 'ImageId,Label', \n",
    "           comments = '', \n",
    "           fmt='%d')\n",
    "\n"
   ]
  },
  {
   "cell_type": "markdown",
   "id": "a21b32f1",
   "metadata": {},
   "source": [
    "To note that it took about 35 seconds for the random forest control to run"
   ]
  },
  {
   "cell_type": "markdown",
   "id": "cefc6c49",
   "metadata": {},
   "source": [
    "## Random Forest PCA"
   ]
  },
  {
   "cell_type": "code",
   "execution_count": 17,
   "id": "bf822751",
   "metadata": {},
   "outputs": [],
   "source": [
    "df_train_alt = pd.read_csv('train.csv')\n",
    "df_test_alt = pd.read_csv('test.csv')\n",
    "\n",
    "df_x = df_train_alt.iloc[:,1:]\n",
    "df_y = df_train_alt.iloc[:,0]"
   ]
  },
  {
   "cell_type": "code",
   "execution_count": 18,
   "id": "882aaad2",
   "metadata": {},
   "outputs": [
    {
     "name": "stdout",
     "output_type": "stream",
     "text": [
      "(33600, 784)\n",
      "(8400, 784)\n"
     ]
    }
   ],
   "source": [
    "# creating another set of training and test splits based on the above dfs\n",
    "X_train_alt, X_test_alt, y_train_alt, y_test_alt = train_test_split(df_x, \n",
    "                                df_y, test_size=0.2, random_state=0)\n",
    "print(X_train_alt.shape)\n",
    "print(X_test_alt.shape)"
   ]
  },
  {
   "cell_type": "code",
   "execution_count": 19,
   "id": "182843fc",
   "metadata": {},
   "outputs": [
    {
     "name": "stdout",
     "output_type": "stream",
     "text": [
      "(42000, 784)\n",
      "(28000, 784)\n"
     ]
    },
    {
     "data": {
      "text/plain": [
       "(70000, 784)"
      ]
     },
     "execution_count": 19,
     "metadata": {},
     "output_type": "execute_result"
    }
   ],
   "source": [
    "# combining the test and training sets to conduct PCA\n",
    "print(df_x.shape) \n",
    "print(df_test_alt.shape)\n",
    "\n",
    "combined = pd.concat([df_x, df_test_alt])\n",
    "combined.shape"
   ]
  },
  {
   "cell_type": "markdown",
   "id": "fef087b3",
   "metadata": {},
   "source": [
    "## PCA Research"
   ]
  },
  {
   "cell_type": "code",
   "execution_count": 43,
   "id": "d2968b1e",
   "metadata": {},
   "outputs": [
    {
     "data": {
      "image/png": "[encoded data removed]",
      "text/plain": [
       "<Figure size 432x288 with 1 Axes>"
      ]
     },
     "metadata": {
      "needs_background": "light"
     },
     "output_type": "display_data"
    }
   ],
   "source": [
    "pca = PCA()\n",
    "pca.fit(combined)\n",
    "cumsum = np.cumsum(pca.explained_variance_ratio_)\n",
    "d = np.argmax(cumsum >= 0.95) + 1\n",
    "\n",
    "plt.plot(cumsum, linewidth = 3)\n",
    "plt.axis([0,784,0,1])\n",
    "plt.xlabel(\"# of PCA Componenets\")\n",
    "plt.ylabel(\"Explained Variability\")\n",
    "plt.plot([0,784],[0.95,0.95],\"k:\")\n",
    "plt.plot([d,d],[0,0.95], \"k:\")\n",
    "plt.plot(d, 0.95, \"ko\")\n",
    "plt.grid(True)\n",
    "plt.title(\"95% Explained Variability vs. # componenents of MNIST PCA\")\n",
    "plt.show()"
   ]
  },
  {
   "cell_type": "markdown",
   "id": "e1035d8b",
   "metadata": {},
   "source": [
    "## Random Forest Based on PCA Results with Combined Dataset"
   ]
  },
  {
   "cell_type": "code",
   "execution_count": 42,
   "id": "13487b67",
   "metadata": {},
   "outputs": [
    {
     "name": "stdout",
     "output_type": "stream",
     "text": [
      "0:00:53.583033\n"
     ]
    }
   ],
   "source": [
    "pca = PCA(n_components = 154)\n",
    "pca.fit(combined)\n",
    "X_train_reduced = pca.fit_transform(X_train_alt)\n",
    "X_test_reduced = pca.fit_transform(df_test_alt)\n",
    "\n",
    "clf = RandomForestClassifier(n_estimators=100)\n",
    "print(fitWithTimeOutput(clf, X_train_reduced, y_train_alt))"
   ]
  },
  {
   "cell_type": "code",
   "execution_count": 22,
   "id": "2b851ac9",
   "metadata": {},
   "outputs": [],
   "source": [
    "pred = clf.predict(X_test_reduced)\n",
    "pred = pd.Series(pred,name=\"Label\")\n",
    "submission = pd.concat([pd.Series(range(1,28001),\n",
    "                                  name = \"ImageId\"),pred],axis = 1)\n",
    "submission.to_csv(\"mnist_pca_rf_alt.csv\",index=False)"
   ]
  },
  {
   "cell_type": "markdown",
   "id": "4cf46efa",
   "metadata": {},
   "source": [
    "## K-means Clustering"
   ]
  },
  {
   "cell_type": "code",
   "execution_count": 27,
   "id": "e94809ee",
   "metadata": {},
   "outputs": [
    {
     "name": "stdout",
     "output_type": "stream",
     "text": [
      "(60000, 784)\n",
      "(784,)\n",
      "(60000, 784)\n"
     ]
    }
   ],
   "source": [
    "path = 'mnist.npz'\n",
    "\n",
    "#with np.load(path, allow_pickle=True) as f:\n",
    "#    x_train, y_train = f['x_train'], f['y_train']\n",
    "#    x_test, y_test = f['x_test'], f['y_test']\n",
    "\n",
    "import sys; import pickle; import gzip;\n",
    "f = gzip.open('mnist.pkl.gz', 'rb')\n",
    "if sys.version_info < (3,):\n",
    "    data = pickle.load(f)\n",
    "else:\n",
    "    data = pickle.load(f, encoding='bytes')\n",
    "f.close()\n",
    "(x_train, y_train), (x_test, y_test) = data\n",
    "\n",
    "X = x_train.reshape(len(x_train),-1)\n",
    "Y = y_train\n",
    "\n",
    "# normalize the data to 0 - 1\n",
    "X = X.astype(float) / 255.\n",
    "\n",
    "print(X.shape)\n",
    "print(X[0].shape)\n",
    "\n",
    "#(x_train, y_train), (x_test, y_test) = mnist.load_data()\n",
    "print(X.shape)\n",
    "#print(x_train)\n"
   ]
  },
  {
   "cell_type": "code",
   "execution_count": 28,
   "id": "accdc1a9",
   "metadata": {},
   "outputs": [
    {
     "data": {
      "image/png": "[encoded data removed]",
      "text/plain": [
       "<Figure size 864x864 with 9 Axes>"
      ]
     },
     "metadata": {
      "needs_background": "light"
     },
     "output_type": "display_data"
    }
   ],
   "source": [
    "fig, axs = plt.subplots(3, 3, figsize = (12, 12))\n",
    "plt.gray()\n",
    "\n",
    "# loop through subplots and add mnist images\n",
    "for i, ax in enumerate(axs.flat):\n",
    "    ax.matshow(x_train[i])\n",
    "    ax.axis('off')\n",
    "    ax.set_title('Number {}'.format(y_train[i]))\n",
    "    \n",
    "# display the figure\n"
   ]
  },
  {
   "cell_type": "code",
   "execution_count": 29,
   "id": "d550c7ec",
   "metadata": {},
   "outputs": [
    {
     "name": "stdout",
     "output_type": "stream",
     "text": [
      "10\n"
     ]
    },
    {
     "data": {
      "text/plain": [
       "array([6, 3, 1, ..., 6, 5, 7], dtype=int32)"
      ]
     },
     "execution_count": 29,
     "metadata": {},
     "output_type": "execute_result"
    }
   ],
   "source": [
    "\n",
    "\n",
    "X = x_train.reshape(len(x_train),-1)\n",
    "Y = y_train\n",
    "\n",
    "from sklearn.cluster import MiniBatchKMeans\n",
    "X = X.astype(float) / 255.\n",
    "\n",
    "n_digits = len(np.unique(y_test))\n",
    "print(n_digits)\n",
    "# Initialize KMeans model\n",
    "kmeans = MiniBatchKMeans(n_clusters = n_digits)\n",
    "# Fit the model to the training data\n",
    "kmeans.fit(X)\n",
    "kmeans.labels_"
   ]
  },
  {
   "cell_type": "code",
   "execution_count": 30,
   "id": "55a48279",
   "metadata": {},
   "outputs": [
    {
     "name": "stdout",
     "output_type": "stream",
     "text": [
      "[3 0 4 1 9 2 1 2 1 7 3 1 3 6 1 7 2 2 6 7]\n",
      "[5 0 4 1 9 2 1 3 1 4 3 5 3 6 1 7 2 8 6 9]\n"
     ]
    }
   ],
   "source": [
    "def infer_cluster_labels(kmeans, actual_labels):\n",
    "    inferred_labels = {}\n",
    "    for i in range(kmeans.n_clusters):\n",
    "        # find index of points in cluster\n",
    "        labels = []\n",
    "        index = np.where(kmeans.labels_ == i)\n",
    "        # append actual labels for each point in cluster\n",
    "        labels.append(actual_labels[index])\n",
    "        # determine most common label\n",
    "        if len(labels[0]) == 1:\n",
    "            counts = np.bincount(labels[0])\n",
    "        else:\n",
    "            counts = np.bincount(np.squeeze(labels))\n",
    "        # assign the cluster to a value in the inferred_labels dictionary\n",
    "        if np.argmax(counts) in inferred_labels:\n",
    "            # append the new number to the existing array at this slot\n",
    "            inferred_labels[np.argmax(counts)].append(i)\n",
    "        else:\n",
    "            # create a new array in this slot\n",
    "            inferred_labels[np.argmax(counts)] = [i]\n",
    "     \n",
    "        #print(labels)\n",
    "        #print('Cluster: {}, label: {}'.format(i, np.argmax(counts)))\n",
    "         \n",
    "    return inferred_labels\n",
    "\n",
    "def infer_data_labels(X_labels, cluster_labels):\n",
    "    # empty array of len(X)\n",
    "    predicted_labels = np.zeros(len(X_labels)).astype(np.uint8)\n",
    "    for i, cluster in enumerate(X_labels):\n",
    "        for key, value in cluster_labels.items():\n",
    "            if cluster in value:\n",
    "                predicted_labels[i] = key\n",
    "    return predicted_labels\n",
    "\n",
    "# test the infer_cluster_labels() and infer_data_labels() functions\n",
    "\n",
    "cluster_labels = infer_cluster_labels(kmeans, Y)\n",
    "X_clusters = kmeans.predict(X)\n",
    "predicted_labels = infer_data_labels(X_clusters, cluster_labels)\n",
    "print(predicted_labels[:20])\n",
    "print(Y[:20])"
   ]
  },
  {
   "cell_type": "code",
   "execution_count": 31,
   "id": "5feb5660",
   "metadata": {},
   "outputs": [],
   "source": [
    "from sklearn import metrics\n",
    "\n",
    "def calculate_metrics(estimator, data, labels):\n",
    "\n",
    "    # Calculate and print metrics\n",
    "    print('Number of Clusters: {}'.format(estimator.n_clusters))\n",
    "    print('Inertia: {}'.format(estimator.inertia_))\n",
    "    print('Homogeneity: {}'.format(metrics.homogeneity_score(labels, estimator.labels_)))"
   ]
  },
  {
   "cell_type": "code",
   "execution_count": 32,
   "id": "50d59416",
   "metadata": {},
   "outputs": [
    {
     "name": "stdout",
     "output_type": "stream",
     "text": [
      "Number of Clusters: 10\n",
      "Inertia: 2369080.5343655273\n",
      "Homogeneity: 0.4616288894189887\n",
      "Accuracy: 0.5606\n",
      "\n",
      "Number of Clusters: 16\n",
      "Inertia: 2206353.598882834\n",
      "Homogeneity: 0.5669503194277623\n",
      "Accuracy: 0.6424666666666666\n",
      "\n",
      "Number of Clusters: 36\n",
      "Inertia: 1954912.105389294\n",
      "Homogeneity: 0.6962834954433142\n",
      "Accuracy: 0.7888\n",
      "\n",
      "Number of Clusters: 64\n",
      "Inertia: 1808715.0219983798\n",
      "Homogeneity: 0.7379987475232668\n",
      "Accuracy: 0.8116166666666667\n",
      "\n",
      "Number of Clusters: 144\n",
      "Inertia: 1622146.995457646\n",
      "Homogeneity: 0.8043910426811767\n",
      "Accuracy: 0.8634833333333334\n",
      "\n",
      "Number of Clusters: 256\n",
      "Inertia: 1506267.9804752502\n",
      "Homogeneity: 0.8404523099590957\n",
      "Accuracy: 0.8907666666666667\n",
      "\n"
     ]
    }
   ],
   "source": [
    "clusters = [10, 16, 36, 64, 144, 256]\n",
    "\n",
    "# test different numbers of clusters\n",
    "for n_clusters in clusters:\n",
    "    estimator = MiniBatchKMeans(n_clusters = n_clusters)\n",
    "    estimator.fit(X)\n",
    "    \n",
    "    # print cluster metrics\n",
    "    calculate_metrics(estimator, X, Y)\n",
    "    \n",
    "    # determine predicted labels\n",
    "    cluster_labels = infer_cluster_labels(estimator, Y)\n",
    "    predicted_Y = infer_data_labels(estimator.labels_, cluster_labels)\n",
    "    \n",
    "    # calculate and print accuracy\n",
    "    print('Accuracy: {}\\n'.format(metrics.accuracy_score(Y, predicted_Y)))\n"
   ]
  },
  {
   "cell_type": "code",
   "execution_count": 33,
   "id": "2bad6dc5",
   "metadata": {},
   "outputs": [
    {
     "name": "stderr",
     "output_type": "stream",
     "text": [
      "/Library/Frameworks/Python.framework/Versions/3.9/lib/python3.9/site-packages/sklearn/base.py:434: UserWarning: X has feature names, but MiniBatchKMeans was fitted without feature names\n",
      "  warnings.warn(\n"
     ]
    },
    {
     "name": "stdout",
     "output_type": "stream",
     "text": [
      "Accuracy: 0.9012\n",
      "\n"
     ]
    }
   ],
   "source": [
    "# test kmeans algorithm on testing dataset\n",
    "# convert each image to 1 dimensional array\n",
    "X_test = x_test.reshape(len(x_test),-1)\n",
    "\n",
    "# normalize the data to 0 - 1\n",
    "X_test = X_test.astype(float) / 255.\n",
    "\n",
    "# initialize and fit KMeans algorithm on training data\n",
    "kmeans = MiniBatchKMeans(n_clusters = 256)\n",
    "kmeans.fit(X)\n",
    "cluster_labels = infer_cluster_labels(kmeans, Y)\n",
    "\n",
    "# predict labels for testing data\n",
    "test_clusters = kmeans.predict(df_train)\n",
    "predicted_labels = infer_data_labels(kmeans.predict(X_test), cluster_labels)\n",
    "    \n",
    "# calculate and print accuracy\n",
    "print('Accuracy: {}\\n'.format(metrics.accuracy_score(y_test, predicted_labels)))"
   ]
  },
  {
   "cell_type": "code",
   "execution_count": 35,
   "id": "b751affc",
   "metadata": {},
   "outputs": [],
   "source": [
    "np.savetxt('knn_pca_results.csv', \n",
    "           np.c_[df_test_length, test_clusters], \n",
    "           delimiter=',', \n",
    "           header = 'ImageId,Label', \n",
    "           comments = '', \n",
    "           fmt='%d')"
   ]
  },
  {
   "cell_type": "markdown",
   "id": "fb3a7f97",
   "metadata": {},
   "source": [
    "## PCA Fixed the Flaw"
   ]
  },
  {
   "cell_type": "code",
   "execution_count": 38,
   "id": "9e846b30",
   "metadata": {},
   "outputs": [
    {
     "name": "stdout",
     "output_type": "stream",
     "text": [
      "0:01:20.751405\n"
     ]
    },
    {
     "data": {
      "text/plain": [
       "154"
      ]
     },
     "execution_count": 38,
     "metadata": {},
     "output_type": "execute_result"
    }
   ],
   "source": [
    "# https://stats.stackexchange.com/questions/47457/\n",
    "# pca-on-high-dimensional-text-data-before-random-forest-classification\n",
    "\n",
    "\n",
    "pca = PCA(n_components=0.95)\n",
    "pca.fit(df_train)\n",
    "train_PCA = pca.transform(df_train)\n",
    "test_PCA = pca.transform(df_test)\n",
    "\n",
    "start = datetime.now()\n",
    "clf = RandomForestClassifier()\n",
    "clf.fit(train_PCA, df_target)\n",
    "end=datetime.now()\n",
    "print(end-start)\n",
    "results=clf.predict(test_PCA)\n",
    "\n",
    "pca.n_components_"
   ]
  },
  {
   "cell_type": "code",
   "execution_count": 39,
   "id": "760f7d37",
   "metadata": {},
   "outputs": [],
   "source": [
    "np.savetxt('random_forest_pca_fix.csv', np.c_[df_test_length, results], \n",
    "           delimiter=',', \n",
    "           header = 'ImageId,Label', \n",
    "           comments = '', \n",
    "           fmt='%d')"
   ]
  },
  {
   "cell_type": "markdown",
   "id": "c30398f0",
   "metadata": {},
   "source": [
    "Number of principle components is 154! And it took a little less time to complete the PCA in comparison to the whole dataset. "
   ]
  },
  {
   "cell_type": "code",
   "execution_count": null,
   "id": "6c0b9439",
   "metadata": {},
   "outputs": [],
   "source": []
  }
 ],
 "metadata": {
  "kernelspec": {
   "display_name": "Python 3 (ipykernel)",
   "language": "python",
   "name": "python3"
  },
  "language_info": {
   "codemirror_mode": {
    "name": "ipython",
    "version": 3
   },
   "file_extension": ".py",
   "mimetype": "text/x-python",
   "name": "python",
   "nbconvert_exporter": "python",
   "pygments_lexer": "ipython3",
   "version": "3.9.0"
  }
 },
 "nbformat": 4,
 "nbformat_minor": 5
}
