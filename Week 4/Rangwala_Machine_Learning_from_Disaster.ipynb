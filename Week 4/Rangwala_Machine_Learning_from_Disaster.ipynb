{
 "cells": [
  {
   "cell_type": "code",
   "execution_count": 1,
   "id": "ab91693e",
   "metadata": {},
   "outputs": [],
   "source": [
    "import numpy as np\n",
    "import pandas as pd\n",
    "import matplotlib.pyplot as plt\n",
    "from sklearn.metrics import confusion_matrix\n",
    "from sklearn.discriminant_analysis import LinearDiscriminantAnalysis,QuadraticDiscriminantAnalysis\n",
    "from sklearn.model_selection import train_test_split, StratifiedKFold\n",
    "from sklearn.linear_model import LogisticRegression\n",
    "from sklearn.metrics import classification_report\n",
    "from sklearn.preprocessing import StandardScaler, MinMaxScaler\n",
    "from sklearn.pipeline import make_pipeline\n",
    "from sklearn.neighbors import KNeighborsClassifier\n",
    "from sklearn.metrics import precision_recall_curve\n",
    "from sklearn.metrics import roc_curve\n",
    "from itertools import cycle\n",
    "from sklearn.model_selection import cross_val_predict\n",
    "from sklearn.metrics import precision_score, recall_score\n",
    "\n",
    "\n",
    "import seaborn as sns # easy visualization\n"
   ]
  },
  {
   "cell_type": "code",
   "execution_count": 2,
   "id": "4c14dee9",
   "metadata": {},
   "outputs": [
    {
     "name": "stdout",
     "output_type": "stream",
     "text": [
      "   PassengerId  Survived  Pclass  \\\n",
      "0            1       0.0       3   \n",
      "1            2       1.0       1   \n",
      "2            3       1.0       3   \n",
      "3            4       1.0       1   \n",
      "4            5       0.0       3   \n",
      "\n",
      "                                                Name     Sex   Age  SibSp  \\\n",
      "0                            Braund, Mr. Owen Harris    male  22.0      1   \n",
      "1  Cumings, Mrs. John Bradley (Florence Briggs Th...  female  38.0      1   \n",
      "2                             Heikkinen, Miss. Laina  female  26.0      0   \n",
      "3       Futrelle, Mrs. Jacques Heath (Lily May Peel)  female  35.0      1   \n",
      "4                           Allen, Mr. William Henry    male  35.0      0   \n",
      "\n",
      "   Parch            Ticket     Fare Cabin Embarked  \n",
      "0      0         A/5 21171   7.2500   NaN        S  \n",
      "1      0          PC 17599  71.2833   C85        C  \n",
      "2      0  STON/O2. 3101282   7.9250   NaN        S  \n",
      "3      0            113803  53.1000  C123        S  \n",
      "4      0            373450   8.0500   NaN        S  \n"
     ]
    }
   ],
   "source": [
    "df_train = pd.read_csv('train.csv')\n",
    "df_test = pd.read_csv('test.csv')\n",
    "df_whole = pd.concat([df_train, df_test], axis = 0, ignore_index=True)\n",
    "\n",
    "# save the test PassengerID for future use\n",
    "ids = df_test['PassengerId']\n",
    "print(df_whole.head())"
   ]
  },
  {
   "cell_type": "markdown",
   "id": "4f329e38",
   "metadata": {},
   "source": [
    "## EDA & Insights"
   ]
  },
  {
   "cell_type": "code",
   "execution_count": 3,
   "id": "1c3103af",
   "metadata": {},
   "outputs": [
    {
     "name": "stdout",
     "output_type": "stream",
     "text": [
      "       PassengerId    Survived       Pclass          Age        SibSp  \\\n",
      "count  1309.000000  891.000000  1309.000000  1046.000000  1309.000000   \n",
      "mean    655.000000    0.383838     2.294882    29.881138     0.498854   \n",
      "std     378.020061    0.486592     0.837836    14.413493     1.041658   \n",
      "min       1.000000    0.000000     1.000000     0.170000     0.000000   \n",
      "25%     328.000000    0.000000     2.000000    21.000000     0.000000   \n",
      "50%     655.000000    0.000000     3.000000    28.000000     0.000000   \n",
      "75%     982.000000    1.000000     3.000000    39.000000     1.000000   \n",
      "max    1309.000000    1.000000     3.000000    80.000000     8.000000   \n",
      "\n",
      "             Parch         Fare  \n",
      "count  1309.000000  1308.000000  \n",
      "mean      0.385027    33.295479  \n",
      "std       0.865560    51.758668  \n",
      "min       0.000000     0.000000  \n",
      "25%       0.000000     7.895800  \n",
      "50%       0.000000    14.454200  \n",
      "75%       0.000000    31.275000  \n",
      "max       9.000000   512.329200  \n",
      "<class 'pandas.core.frame.DataFrame'>\n",
      "RangeIndex: 1309 entries, 0 to 1308\n",
      "Data columns (total 12 columns):\n",
      " #   Column       Non-Null Count  Dtype  \n",
      "---  ------       --------------  -----  \n",
      " 0   PassengerId  1309 non-null   int64  \n",
      " 1   Survived     891 non-null    float64\n",
      " 2   Pclass       1309 non-null   int64  \n",
      " 3   Name         1309 non-null   object \n",
      " 4   Sex          1309 non-null   object \n",
      " 5   Age          1046 non-null   float64\n",
      " 6   SibSp        1309 non-null   int64  \n",
      " 7   Parch        1309 non-null   int64  \n",
      " 8   Ticket       1309 non-null   object \n",
      " 9   Fare         1308 non-null   float64\n",
      " 10  Cabin        295 non-null    object \n",
      " 11  Embarked     1307 non-null   object \n",
      "dtypes: float64(3), int64(4), object(5)\n",
      "memory usage: 122.8+ KB\n",
      "None\n"
     ]
    },
    {
     "data": {
      "text/plain": [
       "PassengerId       0\n",
       "Survived        418\n",
       "Pclass            0\n",
       "Name              0\n",
       "Sex               0\n",
       "Age             263\n",
       "SibSp             0\n",
       "Parch             0\n",
       "Ticket            0\n",
       "Fare              1\n",
       "Cabin          1014\n",
       "Embarked          2\n",
       "dtype: int64"
      ]
     },
     "execution_count": 3,
     "metadata": {},
     "output_type": "execute_result"
    }
   ],
   "source": [
    "print(df_whole.describe())\n",
    "print(df_whole.info())\n",
    "np.sum(df_whole.isna())"
   ]
  },
  {
   "cell_type": "markdown",
   "id": "5b7022a1",
   "metadata": {},
   "source": [
    "Seems to have a lot of empty values in Cabin and Age. A few missing values in Fare and Embarked. We must deal with these empty values in order to have a complete model. "
   ]
  },
  {
   "cell_type": "code",
   "execution_count": 4,
   "id": "95c596d3",
   "metadata": {},
   "outputs": [
    {
     "data": {
      "text/plain": [
       "<AxesSubplot:xlabel='Survived', ylabel='count'>"
      ]
     },
     "execution_count": 4,
     "metadata": {},
     "output_type": "execute_result"
    },
    {
     "data": {
      "image/png": "[encoded data removed]",
      "text/plain": [
       "<Figure size 432x288 with 1 Axes>"
      ]
     },
     "metadata": {
      "needs_background": "light"
     },
     "output_type": "display_data"
    }
   ],
   "source": [
    "sns.countplot(x='Survived', hue='Sex', data=df_whole)\n"
   ]
  },
  {
   "cell_type": "markdown",
   "id": "6d36d3a5",
   "metadata": {},
   "source": [
    "More men died than women, and there were significantly less survivors than those who survived"
   ]
  },
  {
   "cell_type": "code",
   "execution_count": 5,
   "id": "7f46fa2c",
   "metadata": {},
   "outputs": [
    {
     "data": {
      "text/plain": [
       "<seaborn.axisgrid.FacetGrid at 0x1254e6d90>"
      ]
     },
     "execution_count": 5,
     "metadata": {},
     "output_type": "execute_result"
    },
    {
     "data": {
      "image/png": "[encoded data removed]",
      "text/plain": [
       "<Figure size 360x360 with 1 Axes>"
      ]
     },
     "metadata": {
      "needs_background": "light"
     },
     "output_type": "display_data"
    }
   ],
   "source": [
    "sns.displot(df_whole['Age'].dropna(), kde=False, bins = 45)"
   ]
  },
  {
   "cell_type": "code",
   "execution_count": 6,
   "id": "ae9d366d",
   "metadata": {},
   "outputs": [
    {
     "data": {
      "text/plain": [
       "<seaborn.axisgrid.FacetGrid at 0x1256600a0>"
      ]
     },
     "execution_count": 6,
     "metadata": {},
     "output_type": "execute_result"
    },
    {
     "data": {
      "image/png": "[encoded data removed]",
      "text/plain": [
       "<Figure size 432x432 with 1 Axes>"
      ]
     },
     "metadata": {
      "needs_background": "light"
     },
     "output_type": "display_data"
    }
   ],
   "source": [
    "# Draw a nested barplot to show Age breakdown for differetn classes\n",
    "# https://stackoverflow.com/questions/60237979/python-and-seaborn-how-to-plot-\n",
    "# two-categorical-features-using-barplot\n",
    "g = sns.catplot(x=\"Pclass\", y=\"Age\", hue=None, data = df_whole,\n",
    "                height=6, kind=\"bar\", palette=\"muted\")\n",
    "g.despine(left=True)\n",
    "g.fig.suptitle(\"Class vs. Age breakdown\")\n",
    "g.set_ylabels(\"Age\")"
   ]
  },
  {
   "cell_type": "markdown",
   "id": "6d19654f",
   "metadata": {},
   "source": [
    "Seems like a lot of 20s and 30s year old were on the boat. Additionally, there were more young children compared to old folk"
   ]
  },
  {
   "cell_type": "markdown",
   "id": "9c3cc2af",
   "metadata": {},
   "source": [
    "## Data Cleaning and Adhering to Assumptions"
   ]
  },
  {
   "cell_type": "code",
   "execution_count": 7,
   "id": "3333d14d",
   "metadata": {},
   "outputs": [
    {
     "name": "stdout",
     "output_type": "stream",
     "text": [
      "<class 'pandas.core.frame.DataFrame'>\n",
      "RangeIndex: 1309 entries, 0 to 1308\n",
      "Data columns (total 12 columns):\n",
      " #   Column       Non-Null Count  Dtype  \n",
      "---  ------       --------------  -----  \n",
      " 0   PassengerId  1309 non-null   int64  \n",
      " 1   Survived     891 non-null    float64\n",
      " 2   Pclass       1309 non-null   int64  \n",
      " 3   Name         1309 non-null   object \n",
      " 4   Sex          1309 non-null   object \n",
      " 5   Age          1046 non-null   float64\n",
      " 6   SibSp        1309 non-null   int64  \n",
      " 7   Parch        1309 non-null   int64  \n",
      " 8   Ticket       1309 non-null   object \n",
      " 9   Fare         1308 non-null   float64\n",
      " 10  Cabin        295 non-null    object \n",
      " 11  Embarked     1307 non-null   object \n",
      "dtypes: float64(3), int64(4), object(5)\n",
      "memory usage: 122.8+ KB\n"
     ]
    }
   ],
   "source": [
    "df_whole.info()"
   ]
  },
  {
   "cell_type": "markdown",
   "id": "e66ca23b",
   "metadata": {},
   "source": [
    "Going to deal with Age first, trying to modify it to replace the missing values with age. Chose to split it by class becuase assuming that each age group aligns with different classes. "
   ]
  },
  {
   "cell_type": "code",
   "execution_count": 8,
   "id": "3dff420b",
   "metadata": {},
   "outputs": [
    {
     "name": "stdout",
     "output_type": "stream",
     "text": [
      "Pclass\n",
      "1    39.159930\n",
      "2    29.506705\n",
      "3    24.816367\n",
      "Name: Age, dtype: float64\n"
     ]
    }
   ],
   "source": [
    "print(df_whole.groupby('Pclass').mean()['Age'])\n",
    "\n",
    "# replacing each class's empty age values with the respective means\n",
    "def fill_age(cols):\n",
    "    Age = cols['Age']\n",
    "    Pclass = cols['Pclass']  \n",
    "    if pd.isnull(Age):\n",
    "        if Pclass == 1:\n",
    "            return 39\n",
    "        elif Pclass == 2:\n",
    "            return 30\n",
    "        else:\n",
    "            return 25\n",
    "    else:\n",
    "        return Age"
   ]
  },
  {
   "cell_type": "code",
   "execution_count": 9,
   "id": "8ff08796",
   "metadata": {
    "scrolled": true
   },
   "outputs": [
    {
     "name": "stdout",
     "output_type": "stream",
     "text": [
      "<class 'pandas.core.frame.DataFrame'>\n",
      "RangeIndex: 1309 entries, 0 to 1308\n",
      "Data columns (total 12 columns):\n",
      " #   Column       Non-Null Count  Dtype  \n",
      "---  ------       --------------  -----  \n",
      " 0   PassengerId  1309 non-null   int64  \n",
      " 1   Survived     891 non-null    float64\n",
      " 2   Pclass       1309 non-null   int64  \n",
      " 3   Name         1309 non-null   object \n",
      " 4   Sex          1309 non-null   object \n",
      " 5   Age          1309 non-null   float64\n",
      " 6   SibSp        1309 non-null   int64  \n",
      " 7   Parch        1309 non-null   int64  \n",
      " 8   Ticket       1309 non-null   object \n",
      " 9   Fare         1308 non-null   float64\n",
      " 10  Cabin        295 non-null    object \n",
      " 11  Embarked     1307 non-null   object \n",
      "dtypes: float64(3), int64(4), object(5)\n",
      "memory usage: 122.8+ KB\n"
     ]
    }
   ],
   "source": [
    "df_tests = df_whole.copy()\n",
    "df_whole['Age'] = df_whole[['Age', 'Pclass']].apply(fill_age, axis = 1)\n",
    "\n",
    "# age handled, Fare and Embarked has missing data, Cabin is \n",
    "# missing a lot of \n",
    "#data so we drop it as well as Ticket as ticket correlates \n",
    "# with other possible\n",
    "# features\n",
    "df_whole.info()"
   ]
  },
  {
   "cell_type": "code",
   "execution_count": 10,
   "id": "4105f05d",
   "metadata": {},
   "outputs": [
    {
     "data": {
      "text/plain": [
       "Pclass\n",
       "1    87.508992\n",
       "2    21.179196\n",
       "3    13.302889\n",
       "Name: Fare, dtype: float64"
      ]
     },
     "execution_count": 10,
     "metadata": {},
     "output_type": "execute_result"
    }
   ],
   "source": [
    "df_whole.drop(['Cabin', 'Ticket'], axis=1, inplace=True)\n",
    "df_whole.groupby('Pclass').mean()['Fare']"
   ]
  },
  {
   "cell_type": "code",
   "execution_count": 11,
   "id": "eeea1e68",
   "metadata": {},
   "outputs": [
    {
     "name": "stdout",
     "output_type": "stream",
     "text": [
      "      PassengerId  Survived  Pclass                Name   Sex   Age  SibSp  \\\n",
      "1043         1044       NaN       3  Storey, Mr. Thomas  male  60.5      0   \n",
      "\n",
      "      Parch  Fare Embarked  \n",
      "1043      0   NaN        S  \n",
      "     PassengerId  Survived  Pclass                                       Name  \\\n",
      "61            62       1.0       1                        Icard, Miss. Amelie   \n",
      "829          830       1.0       1  Stone, Mrs. George Nelson (Martha Evelyn)   \n",
      "\n",
      "        Sex   Age  SibSp  Parch  Fare Embarked  \n",
      "61   female  38.0      0      0  80.0      NaN  \n",
      "829  female  62.0      0      0  80.0      NaN  \n"
     ]
    }
   ],
   "source": [
    "print(df_whole[df_whole['Fare'].isnull()])\n",
    "print(df_whole[df_whole['Embarked'].isnull()])"
   ]
  },
  {
   "cell_type": "code",
   "execution_count": 12,
   "id": "02e3ac82",
   "metadata": {},
   "outputs": [
    {
     "data": {
      "text/html": [
       "<div>\n",
       "<style scoped>\n",
       "    .dataframe tbody tr th:only-of-type {\n",
       "        vertical-align: middle;\n",
       "    }\n",
       "\n",
       "    .dataframe tbody tr th {\n",
       "        vertical-align: top;\n",
       "    }\n",
       "\n",
       "    .dataframe thead th {\n",
       "        text-align: right;\n",
       "    }\n",
       "</style>\n",
       "<table border=\"1\" class=\"dataframe\">\n",
       "  <thead>\n",
       "    <tr style=\"text-align: right;\">\n",
       "      <th></th>\n",
       "      <th>PassengerId</th>\n",
       "      <th>Survived</th>\n",
       "      <th>Pclass</th>\n",
       "      <th>Name</th>\n",
       "      <th>Sex</th>\n",
       "      <th>Age</th>\n",
       "      <th>SibSp</th>\n",
       "      <th>Parch</th>\n",
       "      <th>Fare</th>\n",
       "      <th>Embarked</th>\n",
       "    </tr>\n",
       "  </thead>\n",
       "  <tbody>\n",
       "    <tr>\n",
       "      <th>61</th>\n",
       "      <td>62</td>\n",
       "      <td>1.0</td>\n",
       "      <td>1</td>\n",
       "      <td>Icard, Miss. Amelie</td>\n",
       "      <td>female</td>\n",
       "      <td>38.0</td>\n",
       "      <td>0</td>\n",
       "      <td>0</td>\n",
       "      <td>80.0</td>\n",
       "      <td>C</td>\n",
       "    </tr>\n",
       "    <tr>\n",
       "      <th>829</th>\n",
       "      <td>830</td>\n",
       "      <td>1.0</td>\n",
       "      <td>1</td>\n",
       "      <td>Stone, Mrs. George Nelson (Martha Evelyn)</td>\n",
       "      <td>female</td>\n",
       "      <td>62.0</td>\n",
       "      <td>0</td>\n",
       "      <td>0</td>\n",
       "      <td>80.0</td>\n",
       "      <td>C</td>\n",
       "    </tr>\n",
       "  </tbody>\n",
       "</table>\n",
       "</div>"
      ],
      "text/plain": [
       "     PassengerId  Survived  Pclass                                       Name  \\\n",
       "61            62       1.0       1                        Icard, Miss. Amelie   \n",
       "829          830       1.0       1  Stone, Mrs. George Nelson (Martha Evelyn)   \n",
       "\n",
       "        Sex   Age  SibSp  Parch  Fare Embarked  \n",
       "61   female  38.0      0      0  80.0        C  \n",
       "829  female  62.0      0      0  80.0        C  "
      ]
     },
     "execution_count": 12,
     "metadata": {},
     "output_type": "execute_result"
    }
   ],
   "source": [
    "# replacing null fare for passenger with the average fare \n",
    "# for respective class\n",
    "df_whole.loc[df_whole['PassengerId'] == 1044, 'Fare'] = 13.302889\n",
    "\n",
    "# replacing null embarked status with 'C' for two passengers\n",
    "df_whole.loc[df_whole['PassengerId'].isin([62, 830]), 'Embarked'] = 'C'\n",
    "df_whole.loc[df_whole['PassengerId'].isin([62, 830])]"
   ]
  },
  {
   "cell_type": "code",
   "execution_count": 13,
   "id": "e9d3cd1f",
   "metadata": {},
   "outputs": [
    {
     "name": "stdout",
     "output_type": "stream",
     "text": [
      "<class 'pandas.core.frame.DataFrame'>\n",
      "RangeIndex: 1309 entries, 0 to 1308\n",
      "Data columns (total 10 columns):\n",
      " #   Column       Non-Null Count  Dtype  \n",
      "---  ------       --------------  -----  \n",
      " 0   PassengerId  1309 non-null   int64  \n",
      " 1   Survived     891 non-null    float64\n",
      " 2   Pclass       1309 non-null   int64  \n",
      " 3   Name         1309 non-null   object \n",
      " 4   Sex          1309 non-null   object \n",
      " 5   Age          1309 non-null   float64\n",
      " 6   SibSp        1309 non-null   int64  \n",
      " 7   Parch        1309 non-null   int64  \n",
      " 8   Fare         1309 non-null   float64\n",
      " 9   Embarked     1309 non-null   object \n",
      "dtypes: float64(3), int64(4), object(3)\n",
      "memory usage: 102.4+ KB\n"
     ]
    }
   ],
   "source": [
    "df_whole.info()"
   ]
  },
  {
   "cell_type": "code",
   "execution_count": 14,
   "id": "d1e99f22",
   "metadata": {},
   "outputs": [
    {
     "name": "stdout",
     "output_type": "stream",
     "text": [
      "   male\n",
      "0     1\n",
      "1     0\n",
      "2     0\n",
      "3     0\n",
      "4     1\n",
      "   Q  S\n",
      "0  0  1\n",
      "1  0  0\n",
      "2  0  1\n",
      "3  0  1\n",
      "4  0  1\n"
     ]
    },
    {
     "data": {
      "text/html": [
       "<div>\n",
       "<style scoped>\n",
       "    .dataframe tbody tr th:only-of-type {\n",
       "        vertical-align: middle;\n",
       "    }\n",
       "\n",
       "    .dataframe tbody tr th {\n",
       "        vertical-align: top;\n",
       "    }\n",
       "\n",
       "    .dataframe thead th {\n",
       "        text-align: right;\n",
       "    }\n",
       "</style>\n",
       "<table border=\"1\" class=\"dataframe\">\n",
       "  <thead>\n",
       "    <tr style=\"text-align: right;\">\n",
       "      <th></th>\n",
       "      <th>PassengerId</th>\n",
       "      <th>Survived</th>\n",
       "      <th>Pclass</th>\n",
       "      <th>Name</th>\n",
       "      <th>Age</th>\n",
       "      <th>SibSp</th>\n",
       "      <th>Parch</th>\n",
       "      <th>Fare</th>\n",
       "      <th>male</th>\n",
       "      <th>Q</th>\n",
       "      <th>S</th>\n",
       "    </tr>\n",
       "  </thead>\n",
       "  <tbody>\n",
       "    <tr>\n",
       "      <th>0</th>\n",
       "      <td>1</td>\n",
       "      <td>0.0</td>\n",
       "      <td>3</td>\n",
       "      <td>Braund, Mr. Owen Harris</td>\n",
       "      <td>22.0</td>\n",
       "      <td>1</td>\n",
       "      <td>0</td>\n",
       "      <td>7.2500</td>\n",
       "      <td>1</td>\n",
       "      <td>0</td>\n",
       "      <td>1</td>\n",
       "    </tr>\n",
       "    <tr>\n",
       "      <th>1</th>\n",
       "      <td>2</td>\n",
       "      <td>1.0</td>\n",
       "      <td>1</td>\n",
       "      <td>Cumings, Mrs. John Bradley (Florence Briggs Th...</td>\n",
       "      <td>38.0</td>\n",
       "      <td>1</td>\n",
       "      <td>0</td>\n",
       "      <td>71.2833</td>\n",
       "      <td>0</td>\n",
       "      <td>0</td>\n",
       "      <td>0</td>\n",
       "    </tr>\n",
       "    <tr>\n",
       "      <th>2</th>\n",
       "      <td>3</td>\n",
       "      <td>1.0</td>\n",
       "      <td>3</td>\n",
       "      <td>Heikkinen, Miss. Laina</td>\n",
       "      <td>26.0</td>\n",
       "      <td>0</td>\n",
       "      <td>0</td>\n",
       "      <td>7.9250</td>\n",
       "      <td>0</td>\n",
       "      <td>0</td>\n",
       "      <td>1</td>\n",
       "    </tr>\n",
       "    <tr>\n",
       "      <th>3</th>\n",
       "      <td>4</td>\n",
       "      <td>1.0</td>\n",
       "      <td>1</td>\n",
       "      <td>Futrelle, Mrs. Jacques Heath (Lily May Peel)</td>\n",
       "      <td>35.0</td>\n",
       "      <td>1</td>\n",
       "      <td>0</td>\n",
       "      <td>53.1000</td>\n",
       "      <td>0</td>\n",
       "      <td>0</td>\n",
       "      <td>1</td>\n",
       "    </tr>\n",
       "    <tr>\n",
       "      <th>4</th>\n",
       "      <td>5</td>\n",
       "      <td>0.0</td>\n",
       "      <td>3</td>\n",
       "      <td>Allen, Mr. William Henry</td>\n",
       "      <td>35.0</td>\n",
       "      <td>0</td>\n",
       "      <td>0</td>\n",
       "      <td>8.0500</td>\n",
       "      <td>1</td>\n",
       "      <td>0</td>\n",
       "      <td>1</td>\n",
       "    </tr>\n",
       "  </tbody>\n",
       "</table>\n",
       "</div>"
      ],
      "text/plain": [
       "   PassengerId  Survived  Pclass  \\\n",
       "0            1       0.0       3   \n",
       "1            2       1.0       1   \n",
       "2            3       1.0       3   \n",
       "3            4       1.0       1   \n",
       "4            5       0.0       3   \n",
       "\n",
       "                                                Name   Age  SibSp  Parch  \\\n",
       "0                            Braund, Mr. Owen Harris  22.0      1      0   \n",
       "1  Cumings, Mrs. John Bradley (Florence Briggs Th...  38.0      1      0   \n",
       "2                             Heikkinen, Miss. Laina  26.0      0      0   \n",
       "3       Futrelle, Mrs. Jacques Heath (Lily May Peel)  35.0      1      0   \n",
       "4                           Allen, Mr. William Henry  35.0      0      0   \n",
       "\n",
       "      Fare  male  Q  S  \n",
       "0   7.2500     1  0  1  \n",
       "1  71.2833     0  0  0  \n",
       "2   7.9250     0  0  1  \n",
       "3  53.1000     0  0  1  \n",
       "4   8.0500     1  0  1  "
      ]
     },
     "execution_count": 14,
     "metadata": {},
     "output_type": "execute_result"
    }
   ],
   "source": [
    "gender = pd.get_dummies(df_whole['Sex'], drop_first=True)\n",
    "print(gender.head())\n",
    "embarked = pd.get_dummies(df_whole['Embarked'], drop_first=True)\n",
    "print(embarked.head())\n",
    "\n",
    "df_whole = pd.concat([df_whole, gender, embarked], axis = 1)\n",
    "df_whole.drop(['Sex', 'Embarked'], axis = 1, inplace=True)\n",
    "df_whole.head()"
   ]
  },
  {
   "cell_type": "code",
   "execution_count": 15,
   "id": "30cb9e54",
   "metadata": {},
   "outputs": [
    {
     "data": {
      "text/html": [
       "<div>\n",
       "<style scoped>\n",
       "    .dataframe tbody tr th:only-of-type {\n",
       "        vertical-align: middle;\n",
       "    }\n",
       "\n",
       "    .dataframe tbody tr th {\n",
       "        vertical-align: top;\n",
       "    }\n",
       "\n",
       "    .dataframe thead th {\n",
       "        text-align: right;\n",
       "    }\n",
       "</style>\n",
       "<table border=\"1\" class=\"dataframe\">\n",
       "  <thead>\n",
       "    <tr style=\"text-align: right;\">\n",
       "      <th></th>\n",
       "      <th>Survived</th>\n",
       "      <th>Pclass</th>\n",
       "      <th>Age</th>\n",
       "      <th>SibSp</th>\n",
       "      <th>Parch</th>\n",
       "      <th>Fare</th>\n",
       "      <th>male</th>\n",
       "      <th>Q</th>\n",
       "      <th>S</th>\n",
       "    </tr>\n",
       "  </thead>\n",
       "  <tbody>\n",
       "    <tr>\n",
       "      <th>0</th>\n",
       "      <td>0.0</td>\n",
       "      <td>3</td>\n",
       "      <td>22.0</td>\n",
       "      <td>1</td>\n",
       "      <td>0</td>\n",
       "      <td>7.2500</td>\n",
       "      <td>1</td>\n",
       "      <td>0</td>\n",
       "      <td>1</td>\n",
       "    </tr>\n",
       "    <tr>\n",
       "      <th>1</th>\n",
       "      <td>1.0</td>\n",
       "      <td>1</td>\n",
       "      <td>38.0</td>\n",
       "      <td>1</td>\n",
       "      <td>0</td>\n",
       "      <td>71.2833</td>\n",
       "      <td>0</td>\n",
       "      <td>0</td>\n",
       "      <td>0</td>\n",
       "    </tr>\n",
       "    <tr>\n",
       "      <th>2</th>\n",
       "      <td>1.0</td>\n",
       "      <td>3</td>\n",
       "      <td>26.0</td>\n",
       "      <td>0</td>\n",
       "      <td>0</td>\n",
       "      <td>7.9250</td>\n",
       "      <td>0</td>\n",
       "      <td>0</td>\n",
       "      <td>1</td>\n",
       "    </tr>\n",
       "    <tr>\n",
       "      <th>3</th>\n",
       "      <td>1.0</td>\n",
       "      <td>1</td>\n",
       "      <td>35.0</td>\n",
       "      <td>1</td>\n",
       "      <td>0</td>\n",
       "      <td>53.1000</td>\n",
       "      <td>0</td>\n",
       "      <td>0</td>\n",
       "      <td>1</td>\n",
       "    </tr>\n",
       "    <tr>\n",
       "      <th>4</th>\n",
       "      <td>0.0</td>\n",
       "      <td>3</td>\n",
       "      <td>35.0</td>\n",
       "      <td>0</td>\n",
       "      <td>0</td>\n",
       "      <td>8.0500</td>\n",
       "      <td>1</td>\n",
       "      <td>0</td>\n",
       "      <td>1</td>\n",
       "    </tr>\n",
       "    <tr>\n",
       "      <th>...</th>\n",
       "      <td>...</td>\n",
       "      <td>...</td>\n",
       "      <td>...</td>\n",
       "      <td>...</td>\n",
       "      <td>...</td>\n",
       "      <td>...</td>\n",
       "      <td>...</td>\n",
       "      <td>...</td>\n",
       "      <td>...</td>\n",
       "    </tr>\n",
       "    <tr>\n",
       "      <th>1304</th>\n",
       "      <td>NaN</td>\n",
       "      <td>3</td>\n",
       "      <td>25.0</td>\n",
       "      <td>0</td>\n",
       "      <td>0</td>\n",
       "      <td>8.0500</td>\n",
       "      <td>1</td>\n",
       "      <td>0</td>\n",
       "      <td>1</td>\n",
       "    </tr>\n",
       "    <tr>\n",
       "      <th>1305</th>\n",
       "      <td>NaN</td>\n",
       "      <td>1</td>\n",
       "      <td>39.0</td>\n",
       "      <td>0</td>\n",
       "      <td>0</td>\n",
       "      <td>108.9000</td>\n",
       "      <td>0</td>\n",
       "      <td>0</td>\n",
       "      <td>0</td>\n",
       "    </tr>\n",
       "    <tr>\n",
       "      <th>1306</th>\n",
       "      <td>NaN</td>\n",
       "      <td>3</td>\n",
       "      <td>38.5</td>\n",
       "      <td>0</td>\n",
       "      <td>0</td>\n",
       "      <td>7.2500</td>\n",
       "      <td>1</td>\n",
       "      <td>0</td>\n",
       "      <td>1</td>\n",
       "    </tr>\n",
       "    <tr>\n",
       "      <th>1307</th>\n",
       "      <td>NaN</td>\n",
       "      <td>3</td>\n",
       "      <td>25.0</td>\n",
       "      <td>0</td>\n",
       "      <td>0</td>\n",
       "      <td>8.0500</td>\n",
       "      <td>1</td>\n",
       "      <td>0</td>\n",
       "      <td>1</td>\n",
       "    </tr>\n",
       "    <tr>\n",
       "      <th>1308</th>\n",
       "      <td>NaN</td>\n",
       "      <td>3</td>\n",
       "      <td>25.0</td>\n",
       "      <td>1</td>\n",
       "      <td>1</td>\n",
       "      <td>22.3583</td>\n",
       "      <td>1</td>\n",
       "      <td>0</td>\n",
       "      <td>0</td>\n",
       "    </tr>\n",
       "  </tbody>\n",
       "</table>\n",
       "<p>1309 rows × 9 columns</p>\n",
       "</div>"
      ],
      "text/plain": [
       "      Survived  Pclass   Age  SibSp  Parch      Fare  male  Q  S\n",
       "0          0.0       3  22.0      1      0    7.2500     1  0  1\n",
       "1          1.0       1  38.0      1      0   71.2833     0  0  0\n",
       "2          1.0       3  26.0      0      0    7.9250     0  0  1\n",
       "3          1.0       1  35.0      1      0   53.1000     0  0  1\n",
       "4          0.0       3  35.0      0      0    8.0500     1  0  1\n",
       "...        ...     ...   ...    ...    ...       ...   ... .. ..\n",
       "1304       NaN       3  25.0      0      0    8.0500     1  0  1\n",
       "1305       NaN       1  39.0      0      0  108.9000     0  0  0\n",
       "1306       NaN       3  38.5      0      0    7.2500     1  0  1\n",
       "1307       NaN       3  25.0      0      0    8.0500     1  0  1\n",
       "1308       NaN       3  25.0      1      1   22.3583     1  0  0\n",
       "\n",
       "[1309 rows x 9 columns]"
      ]
     },
     "execution_count": 15,
     "metadata": {},
     "output_type": "execute_result"
    }
   ],
   "source": [
    "# dropping unneccessary identifiers \n",
    "df_whole.drop(['Name', 'PassengerId'], axis=1, inplace=True)\n",
    "df_whole"
   ]
  },
  {
   "cell_type": "code",
   "execution_count": 16,
   "id": "9921506e",
   "metadata": {},
   "outputs": [
    {
     "data": {
      "text/html": [
       "<div>\n",
       "<style scoped>\n",
       "    .dataframe tbody tr th:only-of-type {\n",
       "        vertical-align: middle;\n",
       "    }\n",
       "\n",
       "    .dataframe tbody tr th {\n",
       "        vertical-align: top;\n",
       "    }\n",
       "\n",
       "    .dataframe thead th {\n",
       "        text-align: right;\n",
       "    }\n",
       "</style>\n",
       "<table border=\"1\" class=\"dataframe\">\n",
       "  <thead>\n",
       "    <tr style=\"text-align: right;\">\n",
       "      <th></th>\n",
       "      <th>Survived</th>\n",
       "      <th>Pclass</th>\n",
       "      <th>Age</th>\n",
       "      <th>SibSp</th>\n",
       "      <th>Parch</th>\n",
       "      <th>Fare</th>\n",
       "      <th>male</th>\n",
       "      <th>Q</th>\n",
       "      <th>S</th>\n",
       "    </tr>\n",
       "  </thead>\n",
       "  <tbody>\n",
       "    <tr>\n",
       "      <th>0</th>\n",
       "      <td>0.0</td>\n",
       "      <td>3</td>\n",
       "      <td>22.0</td>\n",
       "      <td>1</td>\n",
       "      <td>0</td>\n",
       "      <td>7.2500</td>\n",
       "      <td>1</td>\n",
       "      <td>0</td>\n",
       "      <td>1</td>\n",
       "    </tr>\n",
       "    <tr>\n",
       "      <th>1</th>\n",
       "      <td>1.0</td>\n",
       "      <td>1</td>\n",
       "      <td>38.0</td>\n",
       "      <td>1</td>\n",
       "      <td>0</td>\n",
       "      <td>71.2833</td>\n",
       "      <td>0</td>\n",
       "      <td>0</td>\n",
       "      <td>0</td>\n",
       "    </tr>\n",
       "    <tr>\n",
       "      <th>2</th>\n",
       "      <td>1.0</td>\n",
       "      <td>3</td>\n",
       "      <td>26.0</td>\n",
       "      <td>0</td>\n",
       "      <td>0</td>\n",
       "      <td>7.9250</td>\n",
       "      <td>0</td>\n",
       "      <td>0</td>\n",
       "      <td>1</td>\n",
       "    </tr>\n",
       "    <tr>\n",
       "      <th>3</th>\n",
       "      <td>1.0</td>\n",
       "      <td>1</td>\n",
       "      <td>35.0</td>\n",
       "      <td>1</td>\n",
       "      <td>0</td>\n",
       "      <td>53.1000</td>\n",
       "      <td>0</td>\n",
       "      <td>0</td>\n",
       "      <td>1</td>\n",
       "    </tr>\n",
       "    <tr>\n",
       "      <th>4</th>\n",
       "      <td>0.0</td>\n",
       "      <td>3</td>\n",
       "      <td>35.0</td>\n",
       "      <td>0</td>\n",
       "      <td>0</td>\n",
       "      <td>8.0500</td>\n",
       "      <td>1</td>\n",
       "      <td>0</td>\n",
       "      <td>1</td>\n",
       "    </tr>\n",
       "  </tbody>\n",
       "</table>\n",
       "</div>"
      ],
      "text/plain": [
       "   Survived  Pclass   Age  SibSp  Parch     Fare  male  Q  S\n",
       "0       0.0       3  22.0      1      0   7.2500     1  0  1\n",
       "1       1.0       1  38.0      1      0  71.2833     0  0  0\n",
       "2       1.0       3  26.0      0      0   7.9250     0  0  1\n",
       "3       1.0       1  35.0      1      0  53.1000     0  0  1\n",
       "4       0.0       3  35.0      0      0   8.0500     1  0  1"
      ]
     },
     "execution_count": 16,
     "metadata": {},
     "output_type": "execute_result"
    }
   ],
   "source": [
    "# splitting data\n",
    "\n",
    "df_train_alt = df_whole[:891]\n",
    "df_test_alt = df_whole[891:]\n",
    "\n",
    "X = df_train_alt.drop('Survived', axis=1)\n",
    "y = df_train_alt['Survived']\n",
    "\n",
    "df_whole.head()"
   ]
  },
  {
   "cell_type": "markdown",
   "id": "d374f30f",
   "metadata": {},
   "source": [
    "## Logistic Regression"
   ]
  },
  {
   "cell_type": "markdown",
   "id": "565f8f57",
   "metadata": {},
   "source": [
    "### Preliminary Classification Report"
   ]
  },
  {
   "cell_type": "code",
   "execution_count": 17,
   "id": "cf1266d8",
   "metadata": {},
   "outputs": [
    {
     "name": "stdout",
     "output_type": "stream",
     "text": [
      "              precision    recall  f1-score   support\n",
      "\n",
      "         0.0       0.82      0.86      0.84       183\n",
      "         1.0       0.75      0.69      0.72       114\n",
      "\n",
      "    accuracy                           0.79       297\n",
      "   macro avg       0.79      0.78      0.78       297\n",
      "weighted avg       0.79      0.79      0.79       297\n",
      "\n",
      "              precision    recall  f1-score   support\n",
      "\n",
      "         0.0       0.84      0.85      0.84       183\n",
      "         1.0       0.75      0.74      0.74       114\n",
      "\n",
      "    accuracy                           0.80       297\n",
      "   macro avg       0.79      0.79      0.79       297\n",
      "weighted avg       0.80      0.80      0.80       297\n",
      "\n",
      "              precision    recall  f1-score   support\n",
      "\n",
      "         0.0       0.81      0.90      0.85       183\n",
      "         1.0       0.81      0.67      0.73       114\n",
      "\n",
      "    accuracy                           0.81       297\n",
      "   macro avg       0.81      0.78      0.79       297\n",
      "weighted avg       0.81      0.81      0.81       297\n",
      "\n"
     ]
    }
   ],
   "source": [
    "# getting initial scores on what we might see \n",
    "# X_train,X_test,y_train,y_test = train_test_split(X,y,test_size = 0.2)\n",
    "# https://scikit-learn.org/stable/modules/preprocessing.html\n",
    "#https://scikit-learn.org/stable/modules/linear_model.html#logistic-regression\n",
    "skf = StratifiedKFold(n_splits=3)\n",
    "\n",
    "\n",
    "for train_index, test_index in skf.split(X, y):\n",
    "    X_train, X_test = X.iloc[train_index], X.iloc[test_index]\n",
    "    y_train, y_test = y.iloc[train_index], y.iloc[test_index]\n",
    "    pipe = make_pipeline(StandardScaler(), LogisticRegression())\n",
    "    pipe.fit(X_train, y_train)  # apply scaling on training data\n",
    "    #logmodel.fit(X_train, y_train)\n",
    "    predictions = pipe.predict(X_test)\n",
    "    print(classification_report(y_test, predictions))"
   ]
  },
  {
   "cell_type": "code",
   "execution_count": 18,
   "id": "dcb746b1",
   "metadata": {},
   "outputs": [
    {
     "name": "stdout",
     "output_type": "stream",
     "text": [
      "418\n"
     ]
    }
   ],
   "source": [
    "\n",
    "X_test = df_test_alt.drop('Survived', axis=1)\n",
    "pipe_log = make_pipeline(StandardScaler(), LogisticRegression())\n",
    "pipe_log.fit(X, y)  # apply scaling on training data\n",
    "    #logmodel.fit(X_train, y_train)\n",
    "predictions_log_reg = pipe_log.predict(X_test)\n",
    "\n",
    "print(predictions_log_reg.size)\n"
   ]
  },
  {
   "cell_type": "markdown",
   "id": "52b56e1b",
   "metadata": {},
   "source": [
    "### Helper Methods for Graphing"
   ]
  },
  {
   "cell_type": "code",
   "execution_count": 19,
   "id": "642b9c31",
   "metadata": {},
   "outputs": [],
   "source": [
    "# to iterate different colors\n",
    "cycol = cycle('bgrcmk')\n",
    "\n",
    "# https://scikit-learn.org/stable/modules/generated/sklearn.metrics.\n",
    "# precision_recall_curve.html\n",
    "# https://stackoverflow.com/questions/61230590/\n",
    "# what-is-estimated-probabilityprobas-pred-in-sklearn-metrics-precision\n",
    "# -recall-c\n",
    "\n",
    "def showPrecisionRecallGraph(pipe): \n",
    "    # getting the probabilities of our predictions\n",
    "    y_scores = pipe.predict_proba(X)\n",
    "    y_scores = y_scores[:,1]\n",
    "\n",
    "    precision, recall, threshold = precision_recall_curve(y, y_scores)\n",
    "\n",
    "    plt.figure(figsize=(15, 7))\n",
    "    plt.plot(threshold, precision[:-1], next(cycol), \n",
    "             label=\"Precision\", linewidth = 5)\n",
    "    plt.plot(threshold, recall[:-1], next(cycol), label=\"Recall\", \n",
    "             linewidth = 5)\n",
    "    plt.xlabel(\"Threshold\", fontsize=15)\n",
    "    plt.legend(loc=\"lower left\", fontsize=15)\n",
    "    plt.ylim([0, 1])\n",
    "\n",
    "    plt.show()\n",
    "\n"
   ]
  },
  {
   "cell_type": "code",
   "execution_count": 20,
   "id": "1796ac59",
   "metadata": {},
   "outputs": [],
   "source": [
    "\n",
    "def showROCCurve(pipe): \n",
    "    # getting the probabilities of our predictions\n",
    "    y_scores = pipe.predict_proba(X)\n",
    "    y_scores = y_scores[:,1]\n",
    "    \n",
    "    # calculate true positive rate and false positive rate\n",
    "    fpr, tpr, thresholds = \\\n",
    "    roc_curve(y, y_scores)\n",
    "\n",
    "    plt.plot(fpr, tpr, linewidth = 5, label = None)\n",
    "    plt.plot([0, 1], [0, 1], next(cycol), linewidth = 5)\n",
    "    plt.axis([0, 1, 0, 1])\n",
    "    plt.xlabel('False Positive Rates (FPR)', fontsize = 15)\n",
    "    plt.ylabel('True Positive Rates (TPR)', fontsize = 15)\n",
    "\n",
    "    plt.figure(figsize=(15, 7))\n",
    "    plt.show()\n"
   ]
  },
  {
   "cell_type": "code",
   "execution_count": 21,
   "id": "875ee55a",
   "metadata": {},
   "outputs": [],
   "source": [
    "def showPrecisionRecallScores(pipe):\n",
    "    predictions = cross_val_predict(pipe, X, y, cv = 3)\n",
    "    print(\"Precision: \", precision_score(y, predictions))\n",
    "    print(\"Recall: \",recall_score(y, predictions))"
   ]
  },
  {
   "cell_type": "markdown",
   "id": "87279c39",
   "metadata": {},
   "source": [
    "### Precision, Recall, & ROC Graphs"
   ]
  },
  {
   "cell_type": "code",
   "execution_count": 22,
   "id": "a25c71c1",
   "metadata": {},
   "outputs": [
    {
     "data": {
      "image/png": "[encoded data removed]",
      "text/plain": [
       "<Figure size 1080x504 with 1 Axes>"
      ]
     },
     "metadata": {
      "needs_background": "light"
     },
     "output_type": "display_data"
    },
    {
     "data": {
      "image/png": "[encoded data removed]",
      "text/plain": [
       "<Figure size 432x288 with 1 Axes>"
      ]
     },
     "metadata": {
      "needs_background": "light"
     },
     "output_type": "display_data"
    },
    {
     "data": {
      "text/plain": [
       "<Figure size 1080x504 with 0 Axes>"
      ]
     },
     "metadata": {},
     "output_type": "display_data"
    },
    {
     "name": "stdout",
     "output_type": "stream",
     "text": [
      "Precision:  0.7684887459807074\n",
      "Recall:  0.6988304093567251\n"
     ]
    }
   ],
   "source": [
    "showPrecisionRecallGraph(pipe_log)\n",
    "showROCCurve(pipe_log)\n",
    "showPrecisionRecallScores(pipe_log)"
   ]
  },
  {
   "cell_type": "markdown",
   "id": "3c50180f",
   "metadata": {},
   "source": [
    "There seems to be a little drop off once our threshold reaches closer to 1.0\n",
    "Also, the optimal threshold of .80. The Precision score is doing well as the model predicts correctly 76% of the time. While our recall score is okay as it 69% correctly predicted actually those who survived. "
   ]
  },
  {
   "cell_type": "code",
   "execution_count": 23,
   "id": "38c95ac0",
   "metadata": {},
   "outputs": [],
   "source": [
    "df_predictions_log_reg = pd.DataFrame({'PassengerID' : ids, \n",
    "                        'Survived' : predictions_log_reg.astype(int)})\n",
    "df_predictions_log_reg.to_csv('log_reg_submission.csv', index=False)"
   ]
  },
  {
   "cell_type": "markdown",
   "id": "bf38980b",
   "metadata": {},
   "source": [
    "## QuadraticDiscriminantAnalysis"
   ]
  },
  {
   "cell_type": "markdown",
   "id": "23ff60a4",
   "metadata": {},
   "source": [
    "### Classification Report"
   ]
  },
  {
   "cell_type": "code",
   "execution_count": 24,
   "id": "8b508ef7",
   "metadata": {},
   "outputs": [
    {
     "name": "stdout",
     "output_type": "stream",
     "text": [
      "              precision    recall  f1-score   support\n",
      "\n",
      "         0.0       0.75      0.84      0.79       183\n",
      "         1.0       0.68      0.56      0.62       114\n",
      "\n",
      "    accuracy                           0.73       297\n",
      "   macro avg       0.72      0.70      0.70       297\n",
      "weighted avg       0.73      0.73      0.72       297\n",
      "\n",
      "              precision    recall  f1-score   support\n",
      "\n",
      "         0.0       0.83      0.84      0.83       183\n",
      "         1.0       0.73      0.72      0.73       114\n",
      "\n",
      "    accuracy                           0.79       297\n",
      "   macro avg       0.78      0.78      0.78       297\n",
      "weighted avg       0.79      0.79      0.79       297\n",
      "\n",
      "              precision    recall  f1-score   support\n",
      "\n",
      "         0.0       0.81      0.87      0.84       183\n",
      "         1.0       0.77      0.67      0.71       114\n",
      "\n",
      "    accuracy                           0.79       297\n",
      "   macro avg       0.79      0.77      0.78       297\n",
      "weighted avg       0.79      0.79      0.79       297\n",
      "\n"
     ]
    }
   ],
   "source": [
    "for train_index, test_index in skf.split(X, y):\n",
    "    X_train, X_test = X.iloc[train_index], X.iloc[test_index]\n",
    "    y_train, y_test = y.iloc[train_index], y.iloc[test_index]\n",
    "    pipe_qda = make_pipeline(StandardScaler(), \n",
    "                             QuadraticDiscriminantAnalysis())\n",
    "    pipe_qda.fit(X_train, y_train)  # apply scaling on training data\n",
    "    \n",
    "    predictions_qda = pipe_qda.predict(X_test)\n",
    "    \n",
    "    print(classification_report(y_test, predictions_qda))"
   ]
  },
  {
   "cell_type": "code",
   "execution_count": 25,
   "id": "46dc40b5",
   "metadata": {},
   "outputs": [],
   "source": [
    "X_test = df_test_alt.drop('Survived', axis=1)\n",
    "\n",
    "pipe_qda = make_pipeline(StandardScaler(),QuadraticDiscriminantAnalysis())\n",
    "pipe_qda.fit(X, y)  # apply scaling on training data\n",
    "predictions_qda = pipe_qda.predict(X_test)\n",
    "\n",
    "#predictions_qda\n"
   ]
  },
  {
   "cell_type": "markdown",
   "id": "fb9c0138",
   "metadata": {},
   "source": [
    "### Precision, Recall, & ROC Graphs"
   ]
  },
  {
   "cell_type": "code",
   "execution_count": 26,
   "id": "35d2608c",
   "metadata": {},
   "outputs": [
    {
     "data": {
      "image/png": "[encoded data removed]",
      "text/plain": [
       "<Figure size 1080x504 with 1 Axes>"
      ]
     },
     "metadata": {
      "needs_background": "light"
     },
     "output_type": "display_data"
    },
    {
     "data": {
      "image/png": "[encoded data removed]",
      "text/plain": [
       "<Figure size 432x288 with 1 Axes>"
      ]
     },
     "metadata": {
      "needs_background": "light"
     },
     "output_type": "display_data"
    },
    {
     "data": {
      "text/plain": [
       "<Figure size 1080x504 with 0 Axes>"
      ]
     },
     "metadata": {},
     "output_type": "display_data"
    },
    {
     "name": "stdout",
     "output_type": "stream",
     "text": [
      "Precision:  0.7278688524590164\n",
      "Recall:  0.6491228070175439\n"
     ]
    }
   ],
   "source": [
    "showPrecisionRecallGraph(pipe_qda)\n",
    "showROCCurve(pipe_qda)\n",
    "showPrecisionRecallScores(pipe_qda)"
   ]
  },
  {
   "cell_type": "markdown",
   "id": "79d91bb8",
   "metadata": {},
   "source": [
    "Quadratic did worse in comparison to logistic. It indicates which scaling is preferible. Interesting to see how it fares in the Kaggle hidden test cases. "
   ]
  },
  {
   "cell_type": "code",
   "execution_count": 27,
   "id": "42e76e0b",
   "metadata": {},
   "outputs": [],
   "source": [
    "df_predictions_qda = pd.DataFrame({'PassengerID' : ids, \n",
    "                        'Survived' : predictions_qda.astype(int)})\n",
    "df_predictions_qda.to_csv('quadratic_submission.csv', index=False)"
   ]
  },
  {
   "cell_type": "markdown",
   "id": "204300a9",
   "metadata": {},
   "source": [
    "## K- nearest neighbors"
   ]
  },
  {
   "cell_type": "markdown",
   "id": "86d2b372",
   "metadata": {},
   "source": [
    "### Classification Report"
   ]
  },
  {
   "cell_type": "code",
   "execution_count": 28,
   "id": "35a470e6",
   "metadata": {},
   "outputs": [
    {
     "name": "stdout",
     "output_type": "stream",
     "text": [
      "              precision    recall  f1-score   support\n",
      "\n",
      "         0.0       0.81      0.88      0.84       183\n",
      "         1.0       0.77      0.66      0.71       114\n",
      "\n",
      "    accuracy                           0.79       297\n",
      "   macro avg       0.79      0.77      0.78       297\n",
      "weighted avg       0.79      0.79      0.79       297\n",
      "\n",
      "              precision    recall  f1-score   support\n",
      "\n",
      "         0.0       0.86      0.81      0.84       183\n",
      "         1.0       0.73      0.79      0.76       114\n",
      "\n",
      "    accuracy                           0.80       297\n",
      "   macro avg       0.79      0.80      0.80       297\n",
      "weighted avg       0.81      0.80      0.81       297\n",
      "\n",
      "              precision    recall  f1-score   support\n",
      "\n",
      "         0.0       0.81      0.91      0.86       183\n",
      "         1.0       0.82      0.67      0.73       114\n",
      "\n",
      "    accuracy                           0.81       297\n",
      "   macro avg       0.82      0.79      0.80       297\n",
      "weighted avg       0.82      0.81      0.81       297\n",
      "\n"
     ]
    }
   ],
   "source": [
    "for train_index, test_index in skf.split(X, y):\n",
    "    X_train, X_test = X.iloc[train_index], X.iloc[test_index]\n",
    "    y_train, y_test = y.iloc[train_index], y.iloc[test_index]\n",
    "    pipe_knn = make_pipeline(StandardScaler(), \n",
    "                             KNeighborsClassifier(n_neighbors = 5))\n",
    "    pipe_knn.fit(X_train, y_train)  # apply scaling on training data\n",
    "    \n",
    "    predictions_knn = pipe_knn.predict(X_test)\n",
    "    \n",
    "    print(classification_report(y_test, predictions_knn))"
   ]
  },
  {
   "cell_type": "code",
   "execution_count": 29,
   "id": "5b14c394",
   "metadata": {},
   "outputs": [],
   "source": [
    "# chose 5 as number of neighbors as it offered the smoothest curve \n",
    "# and highest\n",
    "# precision from above\n",
    "X_test = df_test_alt.drop('Survived', axis=1)\n",
    "pipe_knn = make_pipeline(StandardScaler(), \n",
    "                         KNeighborsClassifier(n_neighbors = 5))\n",
    "pipe_knn.fit(X, y)  # apply scaling on training data\n",
    "predictions_knn = pipe_knn.predict(X_test)\n",
    "                         \n",
    "\n"
   ]
  },
  {
   "cell_type": "markdown",
   "id": "1e1a08d0",
   "metadata": {},
   "source": [
    "### Precision, Recall, & ROC Graphs"
   ]
  },
  {
   "cell_type": "code",
   "execution_count": 30,
   "id": "c4455afa",
   "metadata": {},
   "outputs": [
    {
     "data": {
      "image/png": "[encoded data removed]",
      "text/plain": [
       "<Figure size 1080x504 with 1 Axes>"
      ]
     },
     "metadata": {
      "needs_background": "light"
     },
     "output_type": "display_data"
    },
    {
     "data": {
      "image/png": "[encoded data removed]",
      "text/plain": [
       "<Figure size 432x288 with 1 Axes>"
      ]
     },
     "metadata": {
      "needs_background": "light"
     },
     "output_type": "display_data"
    },
    {
     "data": {
      "text/plain": [
       "<Figure size 1080x504 with 0 Axes>"
      ]
     },
     "metadata": {},
     "output_type": "display_data"
    },
    {
     "name": "stdout",
     "output_type": "stream",
     "text": [
      "Precision:  0.767515923566879\n",
      "Recall:  0.7046783625730995\n"
     ]
    }
   ],
   "source": [
    "showPrecisionRecallGraph(pipe_knn)\n",
    "showROCCurve(pipe_knn)\n",
    "showPrecisionRecallScores(pipe_knn)"
   ]
  },
  {
   "cell_type": "markdown",
   "id": "b3faa3a3",
   "metadata": {},
   "source": [
    "As expected, the score is the best out of the three models as this model is better suited for many features. Multiclass/multilabel classification is what KNN is best for. This score will do the best amongst the other models in the Kaggle hidden test cases. "
   ]
  },
  {
   "cell_type": "code",
   "execution_count": 31,
   "id": "97ca6be3",
   "metadata": {},
   "outputs": [],
   "source": [
    "df_predictions_knn = pd.DataFrame({'PassengerID' : ids, \n",
    "                             'Survived' : predictions_knn.astype(int)})\n",
    "df_predictions_knn.to_csv('knn_submission.csv', index=False)"
   ]
  }
 ],
 "metadata": {
  "kernelspec": {
   "display_name": "Python 3 (ipykernel)",
   "language": "python",
   "name": "python3"
  },
  "language_info": {
   "codemirror_mode": {
    "name": "ipython",
    "version": 3
   },
   "file_extension": ".py",
   "mimetype": "text/x-python",
   "name": "python",
   "nbconvert_exporter": "python",
   "pygments_lexer": "ipython3",
   "version": "3.9.0"
  }
 },
 "nbformat": 4,
 "nbformat_minor": 5
}
