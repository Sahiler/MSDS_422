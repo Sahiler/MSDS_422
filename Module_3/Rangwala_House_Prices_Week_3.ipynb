{
 "cells": [
  {
   "cell_type": "markdown",
   "id": "a84a15ac",
   "metadata": {},
   "source": [
    "## Imports and reading in the csv"
   ]
  },
  {
   "cell_type": "code",
   "execution_count": 22,
   "id": "8ca77c94",
   "metadata": {},
   "outputs": [],
   "source": [
    "import numpy as np # linear algebra\n",
    "import pandas as pd # data processing, CSV file I/O (e.g. pd.read_csv)\n",
    "import matplotlib.pyplot as plt\n",
    "import scipy.stats as stats\n",
    "import math\n",
    "from sklearn.preprocessing import StandardScaler\n",
    "from sklearn.preprocessing import MinMaxScaler\n",
    "from sklearn.model_selection import train_test_split\n",
    "from sklearn.linear_model import LinearRegression\n",
    "from sklearn import metrics\n",
    "from sklearn import ensemble\n",
    "from sklearn.utils import shuffle\n",
    "from sklearn.linear_model import Ridge, RidgeCV, ElasticNet, Lasso, LassoCV, LassoLarsCV\n",
    "from sklearn.model_selection import cross_val_score\n",
    "pd.set_option('display.max_colwidth', None)\n",
    "\n"
   ]
  },
  {
   "cell_type": "code",
   "execution_count": 23,
   "id": "d843bd19",
   "metadata": {},
   "outputs": [],
   "source": [
    "df_train = pd.read_csv('train_house_price.csv')\n",
    "df_test = pd.read_csv('test.csv')\n",
    "dependentVariable = df_train['SalePrice']\n",
    "\n",
    "#df_train\n"
   ]
  },
  {
   "cell_type": "markdown",
   "id": "3bc449cf",
   "metadata": {},
   "source": [
    "It is fine that some data gets cut off, as this information is for the data \n",
    "scientists sake of briefly looking at the data to see trends, further analysis\n",
    "is done below"
   ]
  },
  {
   "cell_type": "code",
   "execution_count": 24,
   "id": "9070c985",
   "metadata": {},
   "outputs": [],
   "source": [
    "df_train['LivingLotAreaRatio'] = df_train.GrLivArea / df_train.LotArea"
   ]
  },
  {
   "cell_type": "markdown",
   "id": "aeeaf3a1",
   "metadata": {},
   "source": [
    "# Conduct EDA and provide appropriate visualizations in the process."
   ]
  },
  {
   "cell_type": "code",
   "execution_count": 25,
   "id": "5693cc70",
   "metadata": {
    "scrolled": true
   },
   "outputs": [
    {
     "data": {
      "text/html": [
       "<div>\n",
       "<style scoped>\n",
       "    .dataframe tbody tr th:only-of-type {\n",
       "        vertical-align: middle;\n",
       "    }\n",
       "\n",
       "    .dataframe tbody tr th {\n",
       "        vertical-align: top;\n",
       "    }\n",
       "\n",
       "    .dataframe thead th {\n",
       "        text-align: right;\n",
       "    }\n",
       "</style>\n",
       "<table border=\"1\" class=\"dataframe\">\n",
       "  <thead>\n",
       "    <tr style=\"text-align: right;\">\n",
       "      <th></th>\n",
       "      <th>Id</th>\n",
       "      <th>MSSubClass</th>\n",
       "      <th>MSZoning</th>\n",
       "      <th>LotFrontage</th>\n",
       "      <th>LotArea</th>\n",
       "      <th>Street</th>\n",
       "      <th>Alley</th>\n",
       "      <th>LotShape</th>\n",
       "      <th>LandContour</th>\n",
       "      <th>Utilities</th>\n",
       "      <th>...</th>\n",
       "      <th>PoolQC</th>\n",
       "      <th>Fence</th>\n",
       "      <th>MiscFeature</th>\n",
       "      <th>MiscVal</th>\n",
       "      <th>MoSold</th>\n",
       "      <th>YrSold</th>\n",
       "      <th>SaleType</th>\n",
       "      <th>SaleCondition</th>\n",
       "      <th>SalePrice</th>\n",
       "      <th>LivingLotAreaRatio</th>\n",
       "    </tr>\n",
       "  </thead>\n",
       "  <tbody>\n",
       "    <tr>\n",
       "      <th>0</th>\n",
       "      <td>1</td>\n",
       "      <td>60</td>\n",
       "      <td>RL</td>\n",
       "      <td>65.0</td>\n",
       "      <td>8450</td>\n",
       "      <td>Pave</td>\n",
       "      <td>NaN</td>\n",
       "      <td>Reg</td>\n",
       "      <td>Lvl</td>\n",
       "      <td>AllPub</td>\n",
       "      <td>...</td>\n",
       "      <td>NaN</td>\n",
       "      <td>NaN</td>\n",
       "      <td>NaN</td>\n",
       "      <td>0</td>\n",
       "      <td>2</td>\n",
       "      <td>2008</td>\n",
       "      <td>WD</td>\n",
       "      <td>Normal</td>\n",
       "      <td>208500</td>\n",
       "      <td>0.202367</td>\n",
       "    </tr>\n",
       "    <tr>\n",
       "      <th>1</th>\n",
       "      <td>2</td>\n",
       "      <td>20</td>\n",
       "      <td>RL</td>\n",
       "      <td>80.0</td>\n",
       "      <td>9600</td>\n",
       "      <td>Pave</td>\n",
       "      <td>NaN</td>\n",
       "      <td>Reg</td>\n",
       "      <td>Lvl</td>\n",
       "      <td>AllPub</td>\n",
       "      <td>...</td>\n",
       "      <td>NaN</td>\n",
       "      <td>NaN</td>\n",
       "      <td>NaN</td>\n",
       "      <td>0</td>\n",
       "      <td>5</td>\n",
       "      <td>2007</td>\n",
       "      <td>WD</td>\n",
       "      <td>Normal</td>\n",
       "      <td>181500</td>\n",
       "      <td>0.131458</td>\n",
       "    </tr>\n",
       "    <tr>\n",
       "      <th>2</th>\n",
       "      <td>3</td>\n",
       "      <td>60</td>\n",
       "      <td>RL</td>\n",
       "      <td>68.0</td>\n",
       "      <td>11250</td>\n",
       "      <td>Pave</td>\n",
       "      <td>NaN</td>\n",
       "      <td>IR1</td>\n",
       "      <td>Lvl</td>\n",
       "      <td>AllPub</td>\n",
       "      <td>...</td>\n",
       "      <td>NaN</td>\n",
       "      <td>NaN</td>\n",
       "      <td>NaN</td>\n",
       "      <td>0</td>\n",
       "      <td>9</td>\n",
       "      <td>2008</td>\n",
       "      <td>WD</td>\n",
       "      <td>Normal</td>\n",
       "      <td>223500</td>\n",
       "      <td>0.158756</td>\n",
       "    </tr>\n",
       "    <tr>\n",
       "      <th>3</th>\n",
       "      <td>4</td>\n",
       "      <td>70</td>\n",
       "      <td>RL</td>\n",
       "      <td>60.0</td>\n",
       "      <td>9550</td>\n",
       "      <td>Pave</td>\n",
       "      <td>NaN</td>\n",
       "      <td>IR1</td>\n",
       "      <td>Lvl</td>\n",
       "      <td>AllPub</td>\n",
       "      <td>...</td>\n",
       "      <td>NaN</td>\n",
       "      <td>NaN</td>\n",
       "      <td>NaN</td>\n",
       "      <td>0</td>\n",
       "      <td>2</td>\n",
       "      <td>2006</td>\n",
       "      <td>WD</td>\n",
       "      <td>Abnorml</td>\n",
       "      <td>140000</td>\n",
       "      <td>0.179791</td>\n",
       "    </tr>\n",
       "    <tr>\n",
       "      <th>4</th>\n",
       "      <td>5</td>\n",
       "      <td>60</td>\n",
       "      <td>RL</td>\n",
       "      <td>84.0</td>\n",
       "      <td>14260</td>\n",
       "      <td>Pave</td>\n",
       "      <td>NaN</td>\n",
       "      <td>IR1</td>\n",
       "      <td>Lvl</td>\n",
       "      <td>AllPub</td>\n",
       "      <td>...</td>\n",
       "      <td>NaN</td>\n",
       "      <td>NaN</td>\n",
       "      <td>NaN</td>\n",
       "      <td>0</td>\n",
       "      <td>12</td>\n",
       "      <td>2008</td>\n",
       "      <td>WD</td>\n",
       "      <td>Normal</td>\n",
       "      <td>250000</td>\n",
       "      <td>0.154137</td>\n",
       "    </tr>\n",
       "  </tbody>\n",
       "</table>\n",
       "<p>5 rows × 82 columns</p>\n",
       "</div>"
      ],
      "text/plain": [
       "   Id  MSSubClass MSZoning  LotFrontage  LotArea Street Alley LotShape  \\\n",
       "0   1          60       RL         65.0     8450   Pave   NaN      Reg   \n",
       "1   2          20       RL         80.0     9600   Pave   NaN      Reg   \n",
       "2   3          60       RL         68.0    11250   Pave   NaN      IR1   \n",
       "3   4          70       RL         60.0     9550   Pave   NaN      IR1   \n",
       "4   5          60       RL         84.0    14260   Pave   NaN      IR1   \n",
       "\n",
       "  LandContour Utilities  ... PoolQC Fence MiscFeature MiscVal MoSold YrSold  \\\n",
       "0         Lvl    AllPub  ...    NaN   NaN         NaN       0      2   2008   \n",
       "1         Lvl    AllPub  ...    NaN   NaN         NaN       0      5   2007   \n",
       "2         Lvl    AllPub  ...    NaN   NaN         NaN       0      9   2008   \n",
       "3         Lvl    AllPub  ...    NaN   NaN         NaN       0      2   2006   \n",
       "4         Lvl    AllPub  ...    NaN   NaN         NaN       0     12   2008   \n",
       "\n",
       "  SaleType  SaleCondition  SalePrice  LivingLotAreaRatio  \n",
       "0       WD         Normal     208500            0.202367  \n",
       "1       WD         Normal     181500            0.131458  \n",
       "2       WD         Normal     223500            0.158756  \n",
       "3       WD        Abnorml     140000            0.179791  \n",
       "4       WD         Normal     250000            0.154137  \n",
       "\n",
       "[5 rows x 82 columns]"
      ]
     },
     "execution_count": 25,
     "metadata": {},
     "output_type": "execute_result"
    }
   ],
   "source": [
    "df_train.head()"
   ]
  },
  {
   "cell_type": "code",
   "execution_count": 26,
   "id": "7023a996",
   "metadata": {},
   "outputs": [],
   "source": [
    "import numpy as np # linear algebra\n",
    "import pandas as pd # data processing, CSV file I/O (e.g. pd.read_csv)\n",
    "import matplotlib.pyplot as plt\n",
    "import scipy.stats as stats\n",
    "import math\n",
    "from sklearn.preprocessing import StandardScaler\n",
    "from sklearn.preprocessing import MinMaxScaler\n",
    "from sklearn.model_selection import train_test_split\n",
    "from sklearn.linear_model import LinearRegression\n",
    "from sklearn import metrics\n",
    "from sklearn import ensemble\n",
    "from sklearn.utils import shuffle\n",
    "from sklearn.model_selection import KFold, cross_val_score, train_test_split\n",
    "pd.set_option('display.max_colwidth', None)\n",
    "\n"
   ]
  },
  {
   "cell_type": "code",
   "execution_count": 27,
   "id": "0c5c46fd",
   "metadata": {},
   "outputs": [],
   "source": [
    "df_train = pd.read_csv('train_house_price.csv')\n",
    "df_test = pd.read_csv('test.csv')\n",
    "dependentVariable = df_train['SalePrice']\n",
    "\n",
    "#df_train"
   ]
  },
  {
   "cell_type": "markdown",
   "id": "1204e508",
   "metadata": {},
   "source": [
    "## Create at least one feature from the data set.\n"
   ]
  },
  {
   "cell_type": "code",
   "execution_count": 28,
   "id": "581d0e61",
   "metadata": {},
   "outputs": [],
   "source": [
    "df_train['LivingLotAreaRatio'] = df_train.GrLivArea / df_train.LotArea"
   ]
  },
  {
   "cell_type": "markdown",
   "id": "0c8b92a2",
   "metadata": {},
   "source": [
    "## Conduct EDA and provide appropriate visualizations in the process."
   ]
  },
  {
   "cell_type": "code",
   "execution_count": 29,
   "id": "540288a2",
   "metadata": {},
   "outputs": [],
   "source": [
    "#df_train.head()"
   ]
  },
  {
   "cell_type": "markdown",
   "id": "1d76e0eb",
   "metadata": {},
   "source": [
    "There are a lot of missing values in certain features - \n",
    "we must filter or clean the data so then we can begin modeling"
   ]
  },
  {
   "cell_type": "code",
   "execution_count": 30,
   "id": "f449d8ca",
   "metadata": {},
   "outputs": [
    {
     "name": "stdout",
     "output_type": "stream",
     "text": [
      "                Id   MSSubClass  LotFrontage        LotArea  OverallQual  \\\n",
      "count  1460.000000  1460.000000  1201.000000    1460.000000  1460.000000   \n",
      "mean    730.500000    56.897260    70.049958   10516.828082     6.099315   \n",
      "std     421.610009    42.300571    24.284752    9981.264932     1.382997   \n",
      "min       1.000000    20.000000    21.000000    1300.000000     1.000000   \n",
      "25%     365.750000    20.000000    59.000000    7553.500000     5.000000   \n",
      "50%     730.500000    50.000000    69.000000    9478.500000     6.000000   \n",
      "75%    1095.250000    70.000000    80.000000   11601.500000     7.000000   \n",
      "max    1460.000000   190.000000   313.000000  215245.000000    10.000000   \n",
      "\n",
      "       OverallCond    YearBuilt  YearRemodAdd   MasVnrArea   BsmtFinSF1  ...  \\\n",
      "count  1460.000000  1460.000000   1460.000000  1452.000000  1460.000000  ...   \n",
      "mean      5.575342  1971.267808   1984.865753   103.685262   443.639726  ...   \n",
      "std       1.112799    30.202904     20.645407   181.066207   456.098091  ...   \n",
      "min       1.000000  1872.000000   1950.000000     0.000000     0.000000  ...   \n",
      "25%       5.000000  1954.000000   1967.000000     0.000000     0.000000  ...   \n",
      "50%       5.000000  1973.000000   1994.000000     0.000000   383.500000  ...   \n",
      "75%       6.000000  2000.000000   2004.000000   166.000000   712.250000  ...   \n",
      "max       9.000000  2010.000000   2010.000000  1600.000000  5644.000000  ...   \n",
      "\n",
      "       OpenPorchSF  EnclosedPorch    3SsnPorch  ScreenPorch     PoolArea  \\\n",
      "count  1460.000000    1460.000000  1460.000000  1460.000000  1460.000000   \n",
      "mean     46.660274      21.954110     3.409589    15.060959     2.758904   \n",
      "std      66.256028      61.119149    29.317331    55.757415    40.177307   \n",
      "min       0.000000       0.000000     0.000000     0.000000     0.000000   \n",
      "25%       0.000000       0.000000     0.000000     0.000000     0.000000   \n",
      "50%      25.000000       0.000000     0.000000     0.000000     0.000000   \n",
      "75%      68.000000       0.000000     0.000000     0.000000     0.000000   \n",
      "max     547.000000     552.000000   508.000000   480.000000   738.000000   \n",
      "\n",
      "            MiscVal       MoSold       YrSold      SalePrice  \\\n",
      "count   1460.000000  1460.000000  1460.000000    1460.000000   \n",
      "mean      43.489041     6.321918  2007.815753  180921.195890   \n",
      "std      496.123024     2.703626     1.328095   79442.502883   \n",
      "min        0.000000     1.000000  2006.000000   34900.000000   \n",
      "25%        0.000000     5.000000  2007.000000  129975.000000   \n",
      "50%        0.000000     6.000000  2008.000000  163000.000000   \n",
      "75%        0.000000     8.000000  2009.000000  214000.000000   \n",
      "max    15500.000000    12.000000  2010.000000  755000.000000   \n",
      "\n",
      "       LivingLotAreaRatio  \n",
      "count         1460.000000  \n",
      "mean             0.180590  \n",
      "std              0.111914  \n",
      "min              0.009459  \n",
      "25%              0.119041  \n",
      "50%              0.155687  \n",
      "75%              0.195149  \n",
      "max              0.945385  \n",
      "\n",
      "[8 rows x 39 columns]\n"
     ]
    }
   ],
   "source": [
    "print(df_train.describe())"
   ]
  },
  {
   "cell_type": "code",
   "execution_count": 31,
   "id": "e6d3b252",
   "metadata": {},
   "outputs": [
    {
     "data": {
      "image/png": "[encoded data removed]",
      "text/plain": [
       "<Figure size 432x288 with 1 Axes>"
      ]
     },
     "metadata": {
      "needs_background": "light"
     },
     "output_type": "display_data"
    }
   ],
   "source": [
    "# testing normality - fairly normal \n",
    "plt.hist(dependentVariable)\n",
    "plt.xlabel('SalePrice')\n",
    "plt.ylabel('Frequency')\n",
    "plt.title('SalePrice Histogram')\n",
    "plt.show()"
   ]
  },
  {
   "cell_type": "code",
   "execution_count": 32,
   "id": "ab8332cb",
   "metadata": {},
   "outputs": [
    {
     "name": "stdout",
     "output_type": "stream",
     "text": [
      "\n",
      "Low correlations (absolute):\n",
      " EnclosedPorch         0.218394\n",
      "KitchenAbvGr          0.164826\n",
      "OverallCond           0.129325\n",
      "LowQualFinSF          0.067719\n",
      "MiscVal               0.062727\n",
      "BsmtFinSF2            0.038806\n",
      "YrSold                0.029899\n",
      "Id                    0.018546\n",
      "BsmtHalfBath          0.012189\n",
      "MSSubClass            0.007192\n",
      "PoolArea              0.058453\n",
      "3SsnPorch             0.065440\n",
      "MoSold                0.069432\n",
      "ScreenPorch           0.100070\n",
      "BsmtUnfSF             0.185197\n",
      "LivingLotAreaRatio    0.197813\n",
      "BsmtFullBath          0.225125\n",
      "BedroomAbvGr          0.234907\n",
      "2ndFlrSF              0.293598\n",
      "BsmtFinSF1            0.301871\n",
      "HalfBath              0.343008\n",
      "WoodDeckSF            0.353802\n",
      "LotFrontage           0.409076\n",
      "MasVnrArea            0.421309\n",
      "LotArea               0.456461\n",
      "OpenPorchSF           0.477561\n",
      "Fireplaces            0.519247\n",
      "TotRmsAbvGrd          0.532586\n",
      "YearRemodAdd          0.571159\n",
      "1stFlrSF              0.575408\n",
      "GarageYrBlt           0.593788\n",
      "TotalBsmtSF           0.602725\n",
      "FullBath              0.635957\n",
      "GarageArea            0.649379\n",
      "YearBuilt             0.652682\n",
      "Name: SalePrice, dtype: float64\n"
     ]
    }
   ],
   "source": [
    "# Some possible features we can use to help train on\n",
    "# Using spearman correlation to leverage the ranking system\n",
    "correlations = df_train.corr(method='spearman')\\\n",
    "['SalePrice'].sort_values(ascending=True)\n",
    "correlations_abs = correlations.abs()\n",
    "# showing low correlated features with SalePrice so we know to remove them\n",
    "print('\\nLow correlations (absolute):\\n', correlations_abs.head(35))"
   ]
  },
  {
   "cell_type": "code",
   "execution_count": 33,
   "id": "38bec83d",
   "metadata": {},
   "outputs": [],
   "source": [
    "# in order to clean our data, we drop the uneccesary features that were \n",
    "# determined above (less than 0.3) \n",
    "# as well as duplicated features or unneccessary ones for training such as 'Id'\n",
    "# Sadly the feature we created was deemed not as relevent as the others, \n",
    "#thus we removed it\n",
    "\n",
    "\n",
    "train_data = df_train[['LotFrontage', 'OverallQual', 'YearBuilt', \n",
    "                       'YearRemodAdd',\n",
    "        'MasVnrArea', 'BsmtFinSF1', 'TotalBsmtSF', '1stFlrSF', '2ndFlrSF', \n",
    "        'GrLivArea',\n",
    "       'FullBath', 'TotRmsAbvGrd', 'Fireplaces', 'GarageYrBlt', 'GarageCars',\n",
    "       'GarageArea', 'WoodDeckSF', 'OpenPorchSF', 'SalePrice']]\n",
    "\n",
    "test_data = df_test[['LotFrontage', 'OverallQual', 'YearBuilt', \n",
    "                     'YearRemodAdd', \n",
    "        'MasVnrArea','BsmtFinSF1', 'TotalBsmtSF', '1stFlrSF', '2ndFlrSF', \n",
    "        'GrLivArea',\n",
    "       'FullBath', 'TotRmsAbvGrd', 'Fireplaces', 'GarageYrBlt', \n",
    "                     'GarageCars',\n",
    "       'GarageArea', 'WoodDeckSF', 'OpenPorchSF']]"
   ]
  },
  {
   "cell_type": "markdown",
   "id": "cf1020c7",
   "metadata": {},
   "source": [
    "## Data Cleaning & Pre-processing"
   ]
  },
  {
   "cell_type": "code",
   "execution_count": 34,
   "id": "d14a4564",
   "metadata": {},
   "outputs": [
    {
     "data": {
      "text/html": [
       "<div>\n",
       "<style scoped>\n",
       "    .dataframe tbody tr th:only-of-type {\n",
       "        vertical-align: middle;\n",
       "    }\n",
       "\n",
       "    .dataframe tbody tr th {\n",
       "        vertical-align: top;\n",
       "    }\n",
       "\n",
       "    .dataframe thead th {\n",
       "        text-align: right;\n",
       "    }\n",
       "</style>\n",
       "<table border=\"1\" class=\"dataframe\">\n",
       "  <thead>\n",
       "    <tr style=\"text-align: right;\">\n",
       "      <th></th>\n",
       "      <th>Total Missing Values</th>\n",
       "      <th>Percentage of Feature                       Specific Data that is Null</th>\n",
       "    </tr>\n",
       "  </thead>\n",
       "  <tbody>\n",
       "    <tr>\n",
       "      <th>LotFrontage</th>\n",
       "      <td>259.0</td>\n",
       "      <td>0.177397</td>\n",
       "    </tr>\n",
       "    <tr>\n",
       "      <th>GarageYrBlt</th>\n",
       "      <td>81.0</td>\n",
       "      <td>0.055479</td>\n",
       "    </tr>\n",
       "    <tr>\n",
       "      <th>MasVnrArea</th>\n",
       "      <td>8.0</td>\n",
       "      <td>0.005479</td>\n",
       "    </tr>\n",
       "    <tr>\n",
       "      <th>FullBath</th>\n",
       "      <td>0.0</td>\n",
       "      <td>0.000000</td>\n",
       "    </tr>\n",
       "    <tr>\n",
       "      <th>OpenPorchSF</th>\n",
       "      <td>0.0</td>\n",
       "      <td>0.000000</td>\n",
       "    </tr>\n",
       "    <tr>\n",
       "      <th>WoodDeckSF</th>\n",
       "      <td>0.0</td>\n",
       "      <td>0.000000</td>\n",
       "    </tr>\n",
       "    <tr>\n",
       "      <th>GarageArea</th>\n",
       "      <td>0.0</td>\n",
       "      <td>0.000000</td>\n",
       "    </tr>\n",
       "    <tr>\n",
       "      <th>GarageCars</th>\n",
       "      <td>0.0</td>\n",
       "      <td>0.000000</td>\n",
       "    </tr>\n",
       "    <tr>\n",
       "      <th>Fireplaces</th>\n",
       "      <td>0.0</td>\n",
       "      <td>0.000000</td>\n",
       "    </tr>\n",
       "    <tr>\n",
       "      <th>TotRmsAbvGrd</th>\n",
       "      <td>0.0</td>\n",
       "      <td>0.000000</td>\n",
       "    </tr>\n",
       "    <tr>\n",
       "      <th>GrLivArea</th>\n",
       "      <td>0.0</td>\n",
       "      <td>0.000000</td>\n",
       "    </tr>\n",
       "    <tr>\n",
       "      <th>OverallQual</th>\n",
       "      <td>0.0</td>\n",
       "      <td>0.000000</td>\n",
       "    </tr>\n",
       "    <tr>\n",
       "      <th>2ndFlrSF</th>\n",
       "      <td>0.0</td>\n",
       "      <td>0.000000</td>\n",
       "    </tr>\n",
       "    <tr>\n",
       "      <th>1stFlrSF</th>\n",
       "      <td>0.0</td>\n",
       "      <td>0.000000</td>\n",
       "    </tr>\n",
       "    <tr>\n",
       "      <th>TotalBsmtSF</th>\n",
       "      <td>0.0</td>\n",
       "      <td>0.000000</td>\n",
       "    </tr>\n",
       "    <tr>\n",
       "      <th>BsmtFinSF1</th>\n",
       "      <td>0.0</td>\n",
       "      <td>0.000000</td>\n",
       "    </tr>\n",
       "    <tr>\n",
       "      <th>YearRemodAdd</th>\n",
       "      <td>0.0</td>\n",
       "      <td>0.000000</td>\n",
       "    </tr>\n",
       "    <tr>\n",
       "      <th>YearBuilt</th>\n",
       "      <td>0.0</td>\n",
       "      <td>0.000000</td>\n",
       "    </tr>\n",
       "    <tr>\n",
       "      <th>SalePrice</th>\n",
       "      <td>0.0</td>\n",
       "      <td>0.000000</td>\n",
       "    </tr>\n",
       "    <tr>\n",
       "      <th>3SsnPorch</th>\n",
       "      <td>NaN</td>\n",
       "      <td>NaN</td>\n",
       "    </tr>\n",
       "  </tbody>\n",
       "</table>\n",
       "</div>"
      ],
      "text/plain": [
       "              Total Missing Values  \\\n",
       "LotFrontage                  259.0   \n",
       "GarageYrBlt                   81.0   \n",
       "MasVnrArea                     8.0   \n",
       "FullBath                       0.0   \n",
       "OpenPorchSF                    0.0   \n",
       "WoodDeckSF                     0.0   \n",
       "GarageArea                     0.0   \n",
       "GarageCars                     0.0   \n",
       "Fireplaces                     0.0   \n",
       "TotRmsAbvGrd                   0.0   \n",
       "GrLivArea                      0.0   \n",
       "OverallQual                    0.0   \n",
       "2ndFlrSF                       0.0   \n",
       "1stFlrSF                       0.0   \n",
       "TotalBsmtSF                    0.0   \n",
       "BsmtFinSF1                     0.0   \n",
       "YearRemodAdd                   0.0   \n",
       "YearBuilt                      0.0   \n",
       "SalePrice                      0.0   \n",
       "3SsnPorch                      NaN   \n",
       "\n",
       "              Percentage of Feature                       Specific Data that is Null  \n",
       "LotFrontage                                                                 0.177397  \n",
       "GarageYrBlt                                                                 0.055479  \n",
       "MasVnrArea                                                                  0.005479  \n",
       "FullBath                                                                    0.000000  \n",
       "OpenPorchSF                                                                 0.000000  \n",
       "WoodDeckSF                                                                  0.000000  \n",
       "GarageArea                                                                  0.000000  \n",
       "GarageCars                                                                  0.000000  \n",
       "Fireplaces                                                                  0.000000  \n",
       "TotRmsAbvGrd                                                                0.000000  \n",
       "GrLivArea                                                                   0.000000  \n",
       "OverallQual                                                                 0.000000  \n",
       "2ndFlrSF                                                                    0.000000  \n",
       "1stFlrSF                                                                    0.000000  \n",
       "TotalBsmtSF                                                                 0.000000  \n",
       "BsmtFinSF1                                                                  0.000000  \n",
       "YearRemodAdd                                                                0.000000  \n",
       "YearBuilt                                                                   0.000000  \n",
       "SalePrice                                                                   0.000000  \n",
       "3SsnPorch                                                                        NaN  "
      ]
     },
     "execution_count": 34,
     "metadata": {},
     "output_type": "execute_result"
    }
   ],
   "source": [
    "# the amount of missing data\n",
    "nullTotals = train_data.isnull().sum().sort_values(ascending = False) \n",
    "percentageOfNull = (train_data.isnull().sum() / df_train.isnull()\n",
    "                    .count()).sort_values(ascending = False) \n",
    "emptyVals = pd.concat([nullTotals, percentageOfNull], axis=1, \n",
    "                      keys=['Total Missing Values', 'Percentage of Feature \\\n",
    "                      Specific Data that is Null'])\n",
    "emptyVals.head(20)"
   ]
  },
  {
   "cell_type": "code",
   "execution_count": 35,
   "id": "011ab299",
   "metadata": {},
   "outputs": [
    {
     "name": "stderr",
     "output_type": "stream",
     "text": [
      "/var/folders/sz/wyddnfrs2pzfs3g11779b4g00000gn/T/ipykernel_38782/1382954168.py:2: FutureWarning: In a future version of pandas all arguments of DataFrame.drop except for the argument 'labels' will be keyword-only\n",
      "  train_data = train_data.drop((emptyVals\\\n"
     ]
    }
   ],
   "source": [
    "# deleting missing data that has more than 80% missing \n",
    "train_data = train_data.drop((emptyVals\\\n",
    "                        [emptyVals['Total Missing Values'] > 81]).index,1)"
   ]
  },
  {
   "cell_type": "code",
   "execution_count": 36,
   "id": "912b9805",
   "metadata": {},
   "outputs": [
    {
     "data": {
      "text/html": [
       "<div>\n",
       "<style scoped>\n",
       "    .dataframe tbody tr th:only-of-type {\n",
       "        vertical-align: middle;\n",
       "    }\n",
       "\n",
       "    .dataframe tbody tr th {\n",
       "        vertical-align: top;\n",
       "    }\n",
       "\n",
       "    .dataframe thead th {\n",
       "        text-align: right;\n",
       "    }\n",
       "</style>\n",
       "<table border=\"1\" class=\"dataframe\">\n",
       "  <thead>\n",
       "    <tr style=\"text-align: right;\">\n",
       "      <th></th>\n",
       "      <th>Total_Missing_Values</th>\n",
       "      <th>Percentage of Feature Specific Data               that is Null</th>\n",
       "    </tr>\n",
       "  </thead>\n",
       "  <tbody>\n",
       "    <tr>\n",
       "      <th>LotFrontage</th>\n",
       "      <td>227.0</td>\n",
       "      <td>0.155479</td>\n",
       "    </tr>\n",
       "    <tr>\n",
       "      <th>GarageYrBlt</th>\n",
       "      <td>78.0</td>\n",
       "      <td>0.053425</td>\n",
       "    </tr>\n",
       "    <tr>\n",
       "      <th>MasVnrArea</th>\n",
       "      <td>15.0</td>\n",
       "      <td>0.010274</td>\n",
       "    </tr>\n",
       "    <tr>\n",
       "      <th>GarageArea</th>\n",
       "      <td>1.0</td>\n",
       "      <td>0.000685</td>\n",
       "    </tr>\n",
       "    <tr>\n",
       "      <th>BsmtFinSF1</th>\n",
       "      <td>1.0</td>\n",
       "      <td>0.000685</td>\n",
       "    </tr>\n",
       "    <tr>\n",
       "      <th>TotalBsmtSF</th>\n",
       "      <td>1.0</td>\n",
       "      <td>0.000685</td>\n",
       "    </tr>\n",
       "    <tr>\n",
       "      <th>GarageCars</th>\n",
       "      <td>1.0</td>\n",
       "      <td>0.000685</td>\n",
       "    </tr>\n",
       "    <tr>\n",
       "      <th>TotRmsAbvGrd</th>\n",
       "      <td>0.0</td>\n",
       "      <td>0.000000</td>\n",
       "    </tr>\n",
       "    <tr>\n",
       "      <th>WoodDeckSF</th>\n",
       "      <td>0.0</td>\n",
       "      <td>0.000000</td>\n",
       "    </tr>\n",
       "    <tr>\n",
       "      <th>Fireplaces</th>\n",
       "      <td>0.0</td>\n",
       "      <td>0.000000</td>\n",
       "    </tr>\n",
       "    <tr>\n",
       "      <th>GrLivArea</th>\n",
       "      <td>0.0</td>\n",
       "      <td>0.000000</td>\n",
       "    </tr>\n",
       "    <tr>\n",
       "      <th>FullBath</th>\n",
       "      <td>0.0</td>\n",
       "      <td>0.000000</td>\n",
       "    </tr>\n",
       "    <tr>\n",
       "      <th>OverallQual</th>\n",
       "      <td>0.0</td>\n",
       "      <td>0.000000</td>\n",
       "    </tr>\n",
       "    <tr>\n",
       "      <th>2ndFlrSF</th>\n",
       "      <td>0.0</td>\n",
       "      <td>0.000000</td>\n",
       "    </tr>\n",
       "    <tr>\n",
       "      <th>1stFlrSF</th>\n",
       "      <td>0.0</td>\n",
       "      <td>0.000000</td>\n",
       "    </tr>\n",
       "    <tr>\n",
       "      <th>YearRemodAdd</th>\n",
       "      <td>0.0</td>\n",
       "      <td>0.000000</td>\n",
       "    </tr>\n",
       "    <tr>\n",
       "      <th>YearBuilt</th>\n",
       "      <td>0.0</td>\n",
       "      <td>0.000000</td>\n",
       "    </tr>\n",
       "    <tr>\n",
       "      <th>OpenPorchSF</th>\n",
       "      <td>0.0</td>\n",
       "      <td>0.000000</td>\n",
       "    </tr>\n",
       "    <tr>\n",
       "      <th>3SsnPorch</th>\n",
       "      <td>NaN</td>\n",
       "      <td>NaN</td>\n",
       "    </tr>\n",
       "    <tr>\n",
       "      <th>Alley</th>\n",
       "      <td>NaN</td>\n",
       "      <td>NaN</td>\n",
       "    </tr>\n",
       "  </tbody>\n",
       "</table>\n",
       "</div>"
      ],
      "text/plain": [
       "              Total_Missing_Values  \\\n",
       "LotFrontage                  227.0   \n",
       "GarageYrBlt                   78.0   \n",
       "MasVnrArea                    15.0   \n",
       "GarageArea                     1.0   \n",
       "BsmtFinSF1                     1.0   \n",
       "TotalBsmtSF                    1.0   \n",
       "GarageCars                     1.0   \n",
       "TotRmsAbvGrd                   0.0   \n",
       "WoodDeckSF                     0.0   \n",
       "Fireplaces                     0.0   \n",
       "GrLivArea                      0.0   \n",
       "FullBath                       0.0   \n",
       "OverallQual                    0.0   \n",
       "2ndFlrSF                       0.0   \n",
       "1stFlrSF                       0.0   \n",
       "YearRemodAdd                   0.0   \n",
       "YearBuilt                      0.0   \n",
       "OpenPorchSF                    0.0   \n",
       "3SsnPorch                      NaN   \n",
       "Alley                          NaN   \n",
       "\n",
       "              Percentage of Feature Specific Data               that is Null  \n",
       "LotFrontage                                                         0.155479  \n",
       "GarageYrBlt                                                         0.053425  \n",
       "MasVnrArea                                                          0.010274  \n",
       "GarageArea                                                          0.000685  \n",
       "BsmtFinSF1                                                          0.000685  \n",
       "TotalBsmtSF                                                         0.000685  \n",
       "GarageCars                                                          0.000685  \n",
       "TotRmsAbvGrd                                                        0.000000  \n",
       "WoodDeckSF                                                          0.000000  \n",
       "Fireplaces                                                          0.000000  \n",
       "GrLivArea                                                           0.000000  \n",
       "FullBath                                                            0.000000  \n",
       "OverallQual                                                         0.000000  \n",
       "2ndFlrSF                                                            0.000000  \n",
       "1stFlrSF                                                            0.000000  \n",
       "YearRemodAdd                                                        0.000000  \n",
       "YearBuilt                                                           0.000000  \n",
       "OpenPorchSF                                                         0.000000  \n",
       "3SsnPorch                                                                NaN  \n",
       "Alley                                                                    NaN  "
      ]
     },
     "execution_count": 36,
     "metadata": {},
     "output_type": "execute_result"
    }
   ],
   "source": [
    "# test data\n",
    "nullTotals = test_data.isnull().sum().sort_values(ascending = False) \n",
    "percentageOfNull = (test_data.isnull().sum() / df_train.isnull().count())\\\n",
    ".sort_values(ascending = False) \n",
    "emptyVals = pd.concat([nullTotals, percentageOfNull], \\\n",
    "axis=1, keys=['Total_Missing_Values', 'Percentage of Feature Specific Data \\\n",
    "              that is Null'])\n",
    "emptyVals.head(20)"
   ]
  },
  {
   "cell_type": "code",
   "execution_count": 37,
   "id": "376f5bac",
   "metadata": {},
   "outputs": [
    {
     "name": "stderr",
     "output_type": "stream",
     "text": [
      "/var/folders/sz/wyddnfrs2pzfs3g11779b4g00000gn/T/ipykernel_38782/3088940396.py:2: FutureWarning: In a future version of pandas all arguments of DataFrame.drop except for the argument 'labels' will be keyword-only\n",
      "  test_data = test_data.drop((emptyVals[emptyVals['Total_Missing_Values'] > 78])\n"
     ]
    }
   ],
   "source": [
    "# again dropping the features that contain A LOT of missing values \n",
    "test_data = test_data.drop((emptyVals[emptyVals['Total_Missing_Values'] > 78])\n",
    "                           .index,1)"
   ]
  },
  {
   "cell_type": "code",
   "execution_count": 38,
   "id": "9b820213",
   "metadata": {},
   "outputs": [
    {
     "name": "stdout",
     "output_type": "stream",
     "text": [
      "GarageYrBlt     81\n",
      "MasVnrArea       8\n",
      "OverallQual      0\n",
      "TotRmsAbvGrd     0\n",
      "OpenPorchSF      0\n",
      "WoodDeckSF       0\n",
      "GarageArea       0\n",
      "GarageCars       0\n",
      "Fireplaces       0\n",
      "FullBath         0\n",
      "YearBuilt        0\n",
      "GrLivArea        0\n",
      "2ndFlrSF         0\n",
      "1stFlrSF         0\n",
      "TotalBsmtSF      0\n",
      "BsmtFinSF1       0\n",
      "YearRemodAdd     0\n",
      "SalePrice        0\n",
      "dtype: int64\n",
      "___________________\n",
      "\n",
      "GarageYrBlt     78\n",
      "MasVnrArea      15\n",
      "BsmtFinSF1       1\n",
      "TotalBsmtSF      1\n",
      "GarageArea       1\n",
      "GarageCars       1\n",
      "OverallQual      0\n",
      "TotRmsAbvGrd     0\n",
      "WoodDeckSF       0\n",
      "Fireplaces       0\n",
      "GrLivArea        0\n",
      "FullBath         0\n",
      "YearBuilt        0\n",
      "2ndFlrSF         0\n",
      "1stFlrSF         0\n",
      "YearRemodAdd     0\n",
      "OpenPorchSF      0\n",
      "dtype: int64\n"
     ]
    }
   ],
   "source": [
    "# showing which features still need cleaning in both test and training data\n",
    "\n",
    "print(train_data.isnull().sum().sort_values(ascending=False).head(20))\n",
    "print('___________________\\n')\n",
    "print(test_data.isnull().sum().sort_values(ascending=False).head(20))"
   ]
  },
  {
   "cell_type": "code",
   "execution_count": 39,
   "id": "95783981",
   "metadata": {},
   "outputs": [],
   "source": [
    "# replacing the possibly relevent features that have missing valus \n",
    "# with the mean of their respective columns\n",
    "train_data['GarageYrBlt'] = train_data['GarageYrBlt']\\\n",
    ".fillna(train_data['GarageYrBlt'].mean())\n",
    "train_data['MasVnrArea'] = train_data['MasVnrArea']\\\n",
    ".fillna(train_data['MasVnrArea'].mean())"
   ]
  },
  {
   "cell_type": "code",
   "execution_count": 40,
   "id": "a8c6fa68",
   "metadata": {},
   "outputs": [
    {
     "data": {
      "text/plain": [
       "GarageYrBlt     78\n",
       "MasVnrArea      15\n",
       "BsmtFinSF1       1\n",
       "TotalBsmtSF      1\n",
       "GarageArea       1\n",
       "GarageCars       1\n",
       "OverallQual      0\n",
       "TotRmsAbvGrd     0\n",
       "WoodDeckSF       0\n",
       "Fireplaces       0\n",
       "GrLivArea        0\n",
       "FullBath         0\n",
       "YearBuilt        0\n",
       "2ndFlrSF         0\n",
       "1stFlrSF         0\n",
       "YearRemodAdd     0\n",
       "OpenPorchSF      0\n",
       "dtype: int64"
      ]
     },
     "execution_count": 40,
     "metadata": {},
     "output_type": "execute_result"
    }
   ],
   "source": [
    "test_data.isnull().sum().sort_values(ascending=False).head(20)"
   ]
  },
  {
   "cell_type": "code",
   "execution_count": 41,
   "id": "39f8383d",
   "metadata": {},
   "outputs": [],
   "source": [
    "# replacing areas in the test data that are missing with their means\n",
    "test_data['MasVnrArea'] = test_data['MasVnrArea']\\\n",
    ".fillna(test_data['MasVnrArea'].mean())\n",
    "test_data['TotalBsmtSF'] = test_data['TotalBsmtSF']\\\n",
    ".fillna(test_data['TotalBsmtSF'].mean())\n",
    "test_data['GarageArea'] = test_data['GarageArea']\\\n",
    ".fillna(test_data['GarageArea'].mean())\n",
    "test_data['BsmtFinSF1'] = test_data['BsmtFinSF1']\\\n",
    ".fillna(test_data['BsmtFinSF1'].mean())\n",
    "test_data['GarageYrBlt'] = test_data['GarageYrBlt']\\\n",
    ".fillna(test_data['GarageYrBlt'].mean())\n",
    "test_data['GarageCars'] = test_data['GarageCars']\\\n",
    ".fillna(test_data['GarageCars'].mean())\n"
   ]
  },
  {
   "cell_type": "code",
   "execution_count": 42,
   "id": "deb7bb0d",
   "metadata": {},
   "outputs": [],
   "source": [
    "#for c in train_data.columns[:-5]:\n",
    "    \n",
    "#        plt.figure(figsize=(3,3))\n",
    "#        plt.title(\"{} vs. \\nSalePrice\".format(c),fontsize=16)\n",
    "#        print(c)\n",
    "#        print(type(c))\n",
    "#        print(df_train[c].dtype.type)\n",
    "        #if df_train[c]. != \n",
    "#        plt.scatter(x=df_train[c],y=df_train['SalePrice'],color='blue',\\\n",
    "#                    edgecolor='k')\n",
    "#        plt.grid(True)\n",
    "#        plt.xlabel(c,fontsize=14)\n",
    "#        plt.ylabel('SalePrice',fontsize=14)\n",
    "#        plt.show()"
   ]
  },
  {
   "cell_type": "markdown",
   "id": "ce047c70",
   "metadata": {},
   "source": [
    "Some of the features do not really offer a great idea or visualization between SalePrice and itself such as OpenPorchSf - we need to explore further to help understand the relevent features"
   ]
  },
  {
   "cell_type": "markdown",
   "id": "fe8110b0",
   "metadata": {},
   "source": [
    "## Finding the highest correlated features"
   ]
  },
  {
   "cell_type": "code",
   "execution_count": 43,
   "id": "9d3c6aff",
   "metadata": {},
   "outputs": [],
   "source": [
    "# Creating the top 15 correlated features\n",
    "cols = train_data.corr().nlargest(15, 'SalePrice')['SalePrice'].index\n",
    "train_data_top_15 = train_data[cols]"
   ]
  },
  {
   "cell_type": "code",
   "execution_count": 44,
   "id": "bd8295d4",
   "metadata": {},
   "outputs": [],
   "source": [
    "# splitting the training data by the top 15 correlated features \n",
    "x_train, x_test, y_train, y_test = train_test_split(\n",
    "    train_data_top_15.drop('SalePrice', axis=1), \\\n",
    "    train_data_top_15['SalePrice'], \\\n",
    "    test_size=0.3, random_state=101)"
   ]
  },
  {
   "cell_type": "code",
   "execution_count": 45,
   "id": "0a520640",
   "metadata": {},
   "outputs": [
    {
     "data": {
      "text/plain": [
       "Index(['OverallQual', 'GrLivArea', 'GarageCars', 'GarageArea', 'TotalBsmtSF',\n",
       "       '1stFlrSF', 'FullBath', 'TotRmsAbvGrd', 'YearBuilt', 'YearRemodAdd',\n",
       "       'MasVnrArea', 'GarageYrBlt', 'Fireplaces', 'BsmtFinSF1'],\n",
       "      dtype='object')"
      ]
     },
     "execution_count": 45,
     "metadata": {},
     "output_type": "execute_result"
    }
   ],
   "source": [
    "x_test.columns"
   ]
  },
  {
   "cell_type": "code",
   "execution_count": 46,
   "id": "2a28220c",
   "metadata": {},
   "outputs": [
    {
     "name": "stderr",
     "output_type": "stream",
     "text": [
      "/Library/Frameworks/Python.framework/Versions/3.9/lib/python3.9/site-packages/sklearn/base.py:441: UserWarning: X does not have valid feature names, but StandardScaler was fitted with feature names\n",
      "  warnings.warn(\n"
     ]
    }
   ],
   "source": [
    "# in order for the data points to be of the same unit, we must scale the data\n",
    "\n",
    "scalerX = StandardScaler()\n",
    "scalerY = StandardScaler()\n",
    "\n",
    "y_train= y_train.values.reshape(-1,1)\n",
    "y_test= y_test.values.reshape(-1,1)\n",
    "\n",
    "\n",
    "x_train = scalerX.fit_transform(x_train)\n",
    "x_test = scalerX.fit_transform(x_test)\n",
    "y_train = scalerX.fit_transform(y_train)\n",
    "y_test = scalerY.fit_transform(y_test)"
   ]
  },
  {
   "cell_type": "markdown",
   "id": "77bf8406",
   "metadata": {},
   "source": [
    "## Experiment to see which value of hyperparameter to utilize "
   ]
  },
  {
   "cell_type": "code",
   "execution_count": 47,
   "id": "fc2d183b",
   "metadata": {},
   "outputs": [],
   "source": [
    "n_folds = 15\n",
    "\n",
    "# splitting the data on different folds to showcase overall trends\n",
    "def rmse(model):\n",
    "    kf = KFold(n_folds, shuffle = True, random_state=42).get_n_splits(x_train)\n",
    "    rmse= np.sqrt(-cross_val_score(model, x_train, y_train.ravel(), scoring=\n",
    "                                   \"neg_mean_squared_error\", cv = kf))\n",
    "    return(rmse)"
   ]
  },
  {
   "cell_type": "code",
   "execution_count": 48,
   "id": "e08f410d",
   "metadata": {},
   "outputs": [],
   "source": [
    "# testing model confidences \n",
    "model_ridge = Ridge()\n",
    "model_lasso = Lasso()\n",
    "model_elasticNet = ElasticNet(l1_ratio=0.5)\n",
    "\n",
    "# possible alpha_series we can use  \n",
    "alpha_series = [0.05, 0.1, 0.3, 1, 3, 5, 10, 15, 30, 50, 75]\n",
    "\n",
    "# Evaluating models through k-fold cross-validation defined earlier\n",
    "ridge_test = [rmse(Ridge(alpha = alpha)).mean() for alpha in alpha_series]\n",
    "lasso_test = [rmse(Lasso(alpha = alpha)).mean() for alpha in alpha_series]\n",
    "elasticNet_test = [rmse(ElasticNet(alpha = alpha)).mean() for alpha in \\\n",
    "                   alpha_series]\n",
    "\n",
    "ridge_test = pd.Series(ridge_test, index = alpha_series)\n",
    "lasso_test = pd.Series(lasso_test, index = alpha_series)\n",
    "elasticNet_test = pd.Series(elasticNet_test, index = alpha_series)\n"
   ]
  },
  {
   "cell_type": "code",
   "execution_count": 49,
   "id": "3d86d499",
   "metadata": {
    "scrolled": true
   },
   "outputs": [
    {
     "data": {
      "image/png": "[encoded data removed]",
      "text/plain": [
       "<Figure size 1800x1080 with 4 Axes>"
      ]
     },
     "metadata": {
      "needs_background": "light"
     },
     "output_type": "display_data"
    }
   ],
   "source": [
    "plt.figure(figsize=(25,15))\n",
    "\n",
    "plt.subplot(241)\n",
    "ridge_test.plot(title = \"Ridge Curve\")\n",
    "plt.xlabel(\"alpha\")\n",
    "plt.ylabel(\"rmse\")\n",
    "\n",
    "lasso_test = pd.Series(lasso_test, index = alpha_series)\n",
    "plt.subplot(242)\n",
    "lasso_test.plot(title = \"Lasso Curve\")\n",
    "plt.xlabel(\"alpha\")\n",
    "plt.ylabel(\"rmse\")\n",
    "\n",
    "elasticNet_test = pd.Series(elasticNet_test, index = alpha_series)\n",
    "plt.subplot(243)\n",
    "elasticNet_test.plot(title = \"ElasticNet Curve\")\n",
    "plt.xlabel(\"alpha\")\n",
    "plt.ylabel(\"rmse\")\n",
    "\n",
    "plt.subplot(244)\n",
    "ridge_test.plot()\n",
    "lasso_test.plot()\n",
    "elasticNet_test.plot()\n",
    "plt.legend(labels=['Ridge','Lasso','ElasticNet'])\n",
    "plt.title('Models Comparison Confidence Curves')\n",
    "plt.xlabel(\"alpha\")\n",
    "plt.ylabel(\"rmse\")\n",
    "\n",
    "plt.tight_layout()"
   ]
  },
  {
   "cell_type": "markdown",
   "id": "ff7aaa7f",
   "metadata": {},
   "source": [
    "Experiment to see which values are of rmse change based on different \n",
    "validation curves based on different alphas\n",
    "Some findings: lasso and elasticNet are especcially affected by a slight \n",
    "change in alpha and will cause horrible errors at alpha being higher than 5 or so \n",
    "Ridge plays an opposite effect, where there an alpha of ~30 offers the lowest form of error\n",
    "Good thing we need to only tune ElasticNet to have a lower alpha to accomodate our results"
   ]
  },
  {
   "cell_type": "code",
   "execution_count": 50,
   "id": "4587aa86",
   "metadata": {},
   "outputs": [
    {
     "data": {
      "text/html": [
       "<div>\n",
       "<style scoped>\n",
       "    .dataframe tbody tr th:only-of-type {\n",
       "        vertical-align: middle;\n",
       "    }\n",
       "\n",
       "    .dataframe tbody tr th {\n",
       "        vertical-align: top;\n",
       "    }\n",
       "\n",
       "    .dataframe thead th {\n",
       "        text-align: right;\n",
       "    }\n",
       "</style>\n",
       "<table border=\"1\" class=\"dataframe\">\n",
       "  <thead>\n",
       "    <tr style=\"text-align: right;\">\n",
       "      <th></th>\n",
       "      <th>OverallQual</th>\n",
       "      <th>YearBuilt</th>\n",
       "      <th>YearRemodAdd</th>\n",
       "      <th>MasVnrArea</th>\n",
       "      <th>BsmtFinSF1</th>\n",
       "      <th>TotalBsmtSF</th>\n",
       "      <th>1stFlrSF</th>\n",
       "      <th>2ndFlrSF</th>\n",
       "      <th>GrLivArea</th>\n",
       "      <th>FullBath</th>\n",
       "      <th>TotRmsAbvGrd</th>\n",
       "      <th>Fireplaces</th>\n",
       "      <th>GarageYrBlt</th>\n",
       "      <th>GarageCars</th>\n",
       "      <th>GarageArea</th>\n",
       "      <th>WoodDeckSF</th>\n",
       "      <th>OpenPorchSF</th>\n",
       "    </tr>\n",
       "  </thead>\n",
       "  <tbody>\n",
       "    <tr>\n",
       "      <th>0</th>\n",
       "      <td>5</td>\n",
       "      <td>1961</td>\n",
       "      <td>1961</td>\n",
       "      <td>0.0</td>\n",
       "      <td>468.0</td>\n",
       "      <td>882.0</td>\n",
       "      <td>896</td>\n",
       "      <td>0</td>\n",
       "      <td>896</td>\n",
       "      <td>1</td>\n",
       "      <td>5</td>\n",
       "      <td>0</td>\n",
       "      <td>1961.000000</td>\n",
       "      <td>1.0</td>\n",
       "      <td>730.0</td>\n",
       "      <td>140</td>\n",
       "      <td>0</td>\n",
       "    </tr>\n",
       "    <tr>\n",
       "      <th>1</th>\n",
       "      <td>6</td>\n",
       "      <td>1958</td>\n",
       "      <td>1958</td>\n",
       "      <td>108.0</td>\n",
       "      <td>923.0</td>\n",
       "      <td>1329.0</td>\n",
       "      <td>1329</td>\n",
       "      <td>0</td>\n",
       "      <td>1329</td>\n",
       "      <td>1</td>\n",
       "      <td>6</td>\n",
       "      <td>0</td>\n",
       "      <td>1958.000000</td>\n",
       "      <td>1.0</td>\n",
       "      <td>312.0</td>\n",
       "      <td>393</td>\n",
       "      <td>36</td>\n",
       "    </tr>\n",
       "    <tr>\n",
       "      <th>2</th>\n",
       "      <td>5</td>\n",
       "      <td>1997</td>\n",
       "      <td>1998</td>\n",
       "      <td>0.0</td>\n",
       "      <td>791.0</td>\n",
       "      <td>928.0</td>\n",
       "      <td>928</td>\n",
       "      <td>701</td>\n",
       "      <td>1629</td>\n",
       "      <td>2</td>\n",
       "      <td>6</td>\n",
       "      <td>1</td>\n",
       "      <td>1997.000000</td>\n",
       "      <td>2.0</td>\n",
       "      <td>482.0</td>\n",
       "      <td>212</td>\n",
       "      <td>34</td>\n",
       "    </tr>\n",
       "    <tr>\n",
       "      <th>3</th>\n",
       "      <td>6</td>\n",
       "      <td>1998</td>\n",
       "      <td>1998</td>\n",
       "      <td>20.0</td>\n",
       "      <td>602.0</td>\n",
       "      <td>926.0</td>\n",
       "      <td>926</td>\n",
       "      <td>678</td>\n",
       "      <td>1604</td>\n",
       "      <td>2</td>\n",
       "      <td>7</td>\n",
       "      <td>1</td>\n",
       "      <td>1998.000000</td>\n",
       "      <td>2.0</td>\n",
       "      <td>470.0</td>\n",
       "      <td>360</td>\n",
       "      <td>36</td>\n",
       "    </tr>\n",
       "    <tr>\n",
       "      <th>4</th>\n",
       "      <td>8</td>\n",
       "      <td>1992</td>\n",
       "      <td>1992</td>\n",
       "      <td>0.0</td>\n",
       "      <td>263.0</td>\n",
       "      <td>1280.0</td>\n",
       "      <td>1280</td>\n",
       "      <td>0</td>\n",
       "      <td>1280</td>\n",
       "      <td>2</td>\n",
       "      <td>5</td>\n",
       "      <td>0</td>\n",
       "      <td>1992.000000</td>\n",
       "      <td>2.0</td>\n",
       "      <td>506.0</td>\n",
       "      <td>0</td>\n",
       "      <td>82</td>\n",
       "    </tr>\n",
       "    <tr>\n",
       "      <th>...</th>\n",
       "      <td>...</td>\n",
       "      <td>...</td>\n",
       "      <td>...</td>\n",
       "      <td>...</td>\n",
       "      <td>...</td>\n",
       "      <td>...</td>\n",
       "      <td>...</td>\n",
       "      <td>...</td>\n",
       "      <td>...</td>\n",
       "      <td>...</td>\n",
       "      <td>...</td>\n",
       "      <td>...</td>\n",
       "      <td>...</td>\n",
       "      <td>...</td>\n",
       "      <td>...</td>\n",
       "      <td>...</td>\n",
       "      <td>...</td>\n",
       "    </tr>\n",
       "    <tr>\n",
       "      <th>1454</th>\n",
       "      <td>4</td>\n",
       "      <td>1970</td>\n",
       "      <td>1970</td>\n",
       "      <td>0.0</td>\n",
       "      <td>0.0</td>\n",
       "      <td>546.0</td>\n",
       "      <td>546</td>\n",
       "      <td>546</td>\n",
       "      <td>1092</td>\n",
       "      <td>1</td>\n",
       "      <td>5</td>\n",
       "      <td>0</td>\n",
       "      <td>1977.721217</td>\n",
       "      <td>0.0</td>\n",
       "      <td>0.0</td>\n",
       "      <td>0</td>\n",
       "      <td>0</td>\n",
       "    </tr>\n",
       "    <tr>\n",
       "      <th>1455</th>\n",
       "      <td>4</td>\n",
       "      <td>1970</td>\n",
       "      <td>1970</td>\n",
       "      <td>0.0</td>\n",
       "      <td>252.0</td>\n",
       "      <td>546.0</td>\n",
       "      <td>546</td>\n",
       "      <td>546</td>\n",
       "      <td>1092</td>\n",
       "      <td>1</td>\n",
       "      <td>6</td>\n",
       "      <td>0</td>\n",
       "      <td>1970.000000</td>\n",
       "      <td>1.0</td>\n",
       "      <td>286.0</td>\n",
       "      <td>0</td>\n",
       "      <td>24</td>\n",
       "    </tr>\n",
       "    <tr>\n",
       "      <th>1456</th>\n",
       "      <td>5</td>\n",
       "      <td>1960</td>\n",
       "      <td>1996</td>\n",
       "      <td>0.0</td>\n",
       "      <td>1224.0</td>\n",
       "      <td>1224.0</td>\n",
       "      <td>1224</td>\n",
       "      <td>0</td>\n",
       "      <td>1224</td>\n",
       "      <td>1</td>\n",
       "      <td>7</td>\n",
       "      <td>1</td>\n",
       "      <td>1960.000000</td>\n",
       "      <td>2.0</td>\n",
       "      <td>576.0</td>\n",
       "      <td>474</td>\n",
       "      <td>0</td>\n",
       "    </tr>\n",
       "    <tr>\n",
       "      <th>1457</th>\n",
       "      <td>5</td>\n",
       "      <td>1992</td>\n",
       "      <td>1992</td>\n",
       "      <td>0.0</td>\n",
       "      <td>337.0</td>\n",
       "      <td>912.0</td>\n",
       "      <td>970</td>\n",
       "      <td>0</td>\n",
       "      <td>970</td>\n",
       "      <td>1</td>\n",
       "      <td>6</td>\n",
       "      <td>0</td>\n",
       "      <td>1977.721217</td>\n",
       "      <td>0.0</td>\n",
       "      <td>0.0</td>\n",
       "      <td>80</td>\n",
       "      <td>32</td>\n",
       "    </tr>\n",
       "    <tr>\n",
       "      <th>1458</th>\n",
       "      <td>7</td>\n",
       "      <td>1993</td>\n",
       "      <td>1994</td>\n",
       "      <td>94.0</td>\n",
       "      <td>758.0</td>\n",
       "      <td>996.0</td>\n",
       "      <td>996</td>\n",
       "      <td>1004</td>\n",
       "      <td>2000</td>\n",
       "      <td>2</td>\n",
       "      <td>9</td>\n",
       "      <td>1</td>\n",
       "      <td>1993.000000</td>\n",
       "      <td>3.0</td>\n",
       "      <td>650.0</td>\n",
       "      <td>190</td>\n",
       "      <td>48</td>\n",
       "    </tr>\n",
       "  </tbody>\n",
       "</table>\n",
       "<p>1459 rows × 17 columns</p>\n",
       "</div>"
      ],
      "text/plain": [
       "      OverallQual  YearBuilt  YearRemodAdd  MasVnrArea  BsmtFinSF1  \\\n",
       "0               5       1961          1961         0.0       468.0   \n",
       "1               6       1958          1958       108.0       923.0   \n",
       "2               5       1997          1998         0.0       791.0   \n",
       "3               6       1998          1998        20.0       602.0   \n",
       "4               8       1992          1992         0.0       263.0   \n",
       "...           ...        ...           ...         ...         ...   \n",
       "1454            4       1970          1970         0.0         0.0   \n",
       "1455            4       1970          1970         0.0       252.0   \n",
       "1456            5       1960          1996         0.0      1224.0   \n",
       "1457            5       1992          1992         0.0       337.0   \n",
       "1458            7       1993          1994        94.0       758.0   \n",
       "\n",
       "      TotalBsmtSF  1stFlrSF  2ndFlrSF  GrLivArea  FullBath  TotRmsAbvGrd  \\\n",
       "0           882.0       896         0        896         1             5   \n",
       "1          1329.0      1329         0       1329         1             6   \n",
       "2           928.0       928       701       1629         2             6   \n",
       "3           926.0       926       678       1604         2             7   \n",
       "4          1280.0      1280         0       1280         2             5   \n",
       "...           ...       ...       ...        ...       ...           ...   \n",
       "1454        546.0       546       546       1092         1             5   \n",
       "1455        546.0       546       546       1092         1             6   \n",
       "1456       1224.0      1224         0       1224         1             7   \n",
       "1457        912.0       970         0        970         1             6   \n",
       "1458        996.0       996      1004       2000         2             9   \n",
       "\n",
       "      Fireplaces  GarageYrBlt  GarageCars  GarageArea  WoodDeckSF  OpenPorchSF  \n",
       "0              0  1961.000000         1.0       730.0         140            0  \n",
       "1              0  1958.000000         1.0       312.0         393           36  \n",
       "2              1  1997.000000         2.0       482.0         212           34  \n",
       "3              1  1998.000000         2.0       470.0         360           36  \n",
       "4              0  1992.000000         2.0       506.0           0           82  \n",
       "...          ...          ...         ...         ...         ...          ...  \n",
       "1454           0  1977.721217         0.0         0.0           0            0  \n",
       "1455           0  1970.000000         1.0       286.0           0           24  \n",
       "1456           1  1960.000000         2.0       576.0         474            0  \n",
       "1457           0  1977.721217         0.0         0.0          80           32  \n",
       "1458           1  1993.000000         3.0       650.0         190           48  \n",
       "\n",
       "[1459 rows x 17 columns]"
      ]
     },
     "execution_count": 50,
     "metadata": {},
     "output_type": "execute_result"
    }
   ],
   "source": [
    "# Modifying our test data to not have irrelevent features so that it matches\n",
    "# the size of the data set used in our modeling schemes\n",
    "test_data_dropped = test_data.copy()\n",
    "test_data_dropped"
   ]
  },
  {
   "cell_type": "markdown",
   "id": "40d5d366",
   "metadata": {},
   "source": [
    "OverallQual', 'GrLivArea', 'GarageCars', 'GarageArea', 'TotalBsmtSF',\n",
    "       '1stFlrSF', 'FullBath', 'TotRmsAbvGrd', 'YearBuilt', 'YearRemodAdd',\n",
    "       'MasVnrArea', 'GarageYrBlt', 'Fireplaces', 'BsmtFinSF1'\n",
    "       \n",
    "These are the columns used in the linear regression model, so dropping the unused columns in the test set"
   ]
  },
  {
   "cell_type": "code",
   "execution_count": 51,
   "id": "1e3a9ea2",
   "metadata": {},
   "outputs": [],
   "source": [
    "test_data_dropped.drop(['2ndFlrSF', 'WoodDeckSF', \n",
    "                'OpenPorchSF'], axis=1, inplace=True)\n",
    "\n"
   ]
  },
  {
   "cell_type": "markdown",
   "id": "084f555c",
   "metadata": {},
   "source": [
    "## Ridge Modeling"
   ]
  },
  {
   "cell_type": "code",
   "execution_count": 52,
   "id": "9d463cba",
   "metadata": {
    "scrolled": false
   },
   "outputs": [
    {
     "data": {
      "text/plain": [
       "Ridge()"
      ]
     },
     "execution_count": 52,
     "metadata": {},
     "output_type": "execute_result"
    }
   ],
   "source": [
    "model_ridge.fit(x_train, y_train)"
   ]
  },
  {
   "cell_type": "code",
   "execution_count": 53,
   "id": "f2ab825e",
   "metadata": {},
   "outputs": [],
   "source": [
    "# creating predictions\n",
    "predictions_ridge = model_ridge.predict(x_test)\n",
    "predictions_ridge = predictions_ridge.reshape(-1,1)"
   ]
  },
  {
   "cell_type": "code",
   "execution_count": 54,
   "id": "073e2c94",
   "metadata": {},
   "outputs": [
    {
     "data": {
      "image/png": "[encoded data removed]",
      "text/plain": [
       "<Figure size 360x360 with 1 Axes>"
      ]
     },
     "metadata": {
      "needs_background": "light"
     },
     "output_type": "display_data"
    },
    {
     "data": {
      "image/png": "[encoded data removed]",
      "text/plain": [
       "<Figure size 360x360 with 1 Axes>"
      ]
     },
     "metadata": {
      "needs_background": "light"
     },
     "output_type": "display_data"
    }
   ],
   "source": [
    "# plotting our linear model based on the predictions \n",
    "plt.figure(figsize=(5, 5))\n",
    "plt.scatter(y_test,predictions_ridge, color = 'red')\n",
    "plt.xlabel('Y Test')\n",
    "plt.ylabel('Predicted Y')\n",
    "plt.show()\n",
    "\n",
    "# some of the outlying data can be seen that it does not fully predict it as \n",
    "# we hoped\n",
    "plt.figure(figsize=(5, 5))\n",
    "plt.plot(y_test,label = 'Test Data')\n",
    "plt.xlabel('Predictions')\n",
    "plt.ylabel('Test Data')\n",
    "plt.title('Predicted Difference')\n",
    "plt.plot(predictions_ridge, label = 'Predictions')\n",
    "plt.show()"
   ]
  },
  {
   "cell_type": "markdown",
   "id": "7eb63c63",
   "metadata": {},
   "source": [
    "The data is fairly linear, where it rises"
   ]
  },
  {
   "cell_type": "code",
   "execution_count": 55,
   "id": "191e99d9",
   "metadata": {
    "scrolled": true
   },
   "outputs": [
    {
     "name": "stdout",
     "output_type": "stream",
     "text": [
      "Scores: [0.3791443  0.50579105 0.31474968 0.62420845 0.35794268 0.48340483\n",
      " 0.49534554 0.35121378 0.32827551 0.38028069]\n",
      "Mean: 0.42203565085475575\n",
      "Standard deviation: 0.09488801731649145\n"
     ]
    }
   ],
   "source": [
    "scores = cross_val_score(model_ridge, x_train, y_train.ravel(),\n",
    "                         scoring=\"neg_mean_squared_error\", cv=10)\n",
    "rmse_scores = np.sqrt(-scores)\n",
    "print(\"Scores:\", rmse_scores)\n",
    "print(\"Mean:\", rmse_scores.mean())\n",
    "print(\"Standard deviation:\", rmse_scores.std())"
   ]
  },
  {
   "cell_type": "markdown",
   "id": "5eb8c407",
   "metadata": {},
   "source": [
    "Per the cross validation scores, there is some error seen but we need to see \n",
    "the scores of the other models to understand how it fares with Lasso and ElasticNet"
   ]
  },
  {
   "cell_type": "code",
   "execution_count": 56,
   "id": "49157214",
   "metadata": {
    "scrolled": true
   },
   "outputs": [
    {
     "data": {
      "text/plain": [
       "array([[-0.75110125, -0.34094461, -1.07288463, ..., -0.65048832,\n",
       "        -0.98801273,  1.18594459],\n",
       "       [-0.05487716, -0.43969491, -1.21490841, ..., -0.76719424,\n",
       "        -0.98801273, -0.7412126 ],\n",
       "       [-0.75110125,  0.844059  ,  0.6787419 , ...,  0.74998273,\n",
       "         0.30162251,  0.04255946],\n",
       "       ...,\n",
       "       [-0.75110125, -0.37386137,  0.58405938, ..., -0.6893903 ,\n",
       "         0.30162251,  0.47593931],\n",
       "       [-0.75110125,  0.67947517,  0.39469435, ...,  0.        ,\n",
       "        -2.27764797, -2.17966486],\n",
       "       [ 0.64134693,  0.71239193,  0.48937687, ...,  0.59437483,\n",
       "         1.59125775,  0.81711068]])"
      ]
     },
     "execution_count": 56,
     "metadata": {},
     "output_type": "execute_result"
    }
   ],
   "source": [
    "# scaling the test data to match the scaled transformation done in the model\n",
    "test_data_dropped = scalerX.fit_transform(test_data_dropped)\n",
    "test_data_dropped"
   ]
  },
  {
   "cell_type": "code",
   "execution_count": 57,
   "id": "15f47599",
   "metadata": {},
   "outputs": [
    {
     "data": {
      "text/html": [
       "<div>\n",
       "<style scoped>\n",
       "    .dataframe tbody tr th:only-of-type {\n",
       "        vertical-align: middle;\n",
       "    }\n",
       "\n",
       "    .dataframe tbody tr th {\n",
       "        vertical-align: top;\n",
       "    }\n",
       "\n",
       "    .dataframe thead th {\n",
       "        text-align: right;\n",
       "    }\n",
       "</style>\n",
       "<table border=\"1\" class=\"dataframe\">\n",
       "  <thead>\n",
       "    <tr style=\"text-align: right;\">\n",
       "      <th></th>\n",
       "      <th>SalePrice</th>\n",
       "    </tr>\n",
       "  </thead>\n",
       "  <tbody>\n",
       "    <tr>\n",
       "      <th>0</th>\n",
       "      <td>136392.990883</td>\n",
       "    </tr>\n",
       "    <tr>\n",
       "      <th>1</th>\n",
       "      <td>146093.911077</td>\n",
       "    </tr>\n",
       "    <tr>\n",
       "      <th>2</th>\n",
       "      <td>200496.676163</td>\n",
       "    </tr>\n",
       "    <tr>\n",
       "      <th>3</th>\n",
       "      <td>218483.318216</td>\n",
       "    </tr>\n",
       "    <tr>\n",
       "      <th>4</th>\n",
       "      <td>218318.940594</td>\n",
       "    </tr>\n",
       "  </tbody>\n",
       "</table>\n",
       "</div>"
      ],
      "text/plain": [
       "       SalePrice\n",
       "0  136392.990883\n",
       "1  146093.911077\n",
       "2  200496.676163\n",
       "3  218483.318216\n",
       "4  218318.940594"
      ]
     },
     "execution_count": 57,
     "metadata": {},
     "output_type": "execute_result"
    }
   ],
   "source": [
    "test_prediction_ridge = model_ridge.predict(test_data_dropped)\n",
    "test_prediction_ridge = test_prediction_ridge.reshape(-1,1)\n",
    "test_prediction_ridge = scalerY.inverse_transform(test_prediction_ridge)\n",
    "test_prediction_ridge=\\\n",
    "pd.DataFrame(test_prediction_ridge,columns=['SalePrice'])\n",
    "test_prediction_ridge.head()"
   ]
  },
  {
   "cell_type": "code",
   "execution_count": 58,
   "id": "6a5eba90",
   "metadata": {},
   "outputs": [
    {
     "data": {
      "text/html": [
       "<div>\n",
       "<style scoped>\n",
       "    .dataframe tbody tr th:only-of-type {\n",
       "        vertical-align: middle;\n",
       "    }\n",
       "\n",
       "    .dataframe tbody tr th {\n",
       "        vertical-align: top;\n",
       "    }\n",
       "\n",
       "    .dataframe thead th {\n",
       "        text-align: right;\n",
       "    }\n",
       "</style>\n",
       "<table border=\"1\" class=\"dataframe\">\n",
       "  <thead>\n",
       "    <tr style=\"text-align: right;\">\n",
       "      <th></th>\n",
       "      <th>Id</th>\n",
       "      <th>SalePrice</th>\n",
       "    </tr>\n",
       "  </thead>\n",
       "  <tbody>\n",
       "    <tr>\n",
       "      <th>0</th>\n",
       "      <td>1461</td>\n",
       "      <td>136392.990883</td>\n",
       "    </tr>\n",
       "    <tr>\n",
       "      <th>1</th>\n",
       "      <td>1462</td>\n",
       "      <td>146093.911077</td>\n",
       "    </tr>\n",
       "    <tr>\n",
       "      <th>2</th>\n",
       "      <td>1463</td>\n",
       "      <td>200496.676163</td>\n",
       "    </tr>\n",
       "    <tr>\n",
       "      <th>3</th>\n",
       "      <td>1464</td>\n",
       "      <td>218483.318216</td>\n",
       "    </tr>\n",
       "    <tr>\n",
       "      <th>4</th>\n",
       "      <td>1465</td>\n",
       "      <td>218318.940594</td>\n",
       "    </tr>\n",
       "  </tbody>\n",
       "</table>\n",
       "</div>"
      ],
      "text/plain": [
       "     Id      SalePrice\n",
       "0  1461  136392.990883\n",
       "1  1462  146093.911077\n",
       "2  1463  200496.676163\n",
       "3  1464  218483.318216\n",
       "4  1465  218318.940594"
      ]
     },
     "execution_count": 58,
     "metadata": {},
     "output_type": "execute_result"
    }
   ],
   "source": [
    "test_id = df_test['Id']\n",
    "ids = pd.DataFrame(test_id, columns=['Id'])\n",
    "result = pd.concat([ids,test_prediction_ridge], axis=1)\n",
    "result.head()"
   ]
  },
  {
   "cell_type": "code",
   "execution_count": 59,
   "id": "b7b90620",
   "metadata": {},
   "outputs": [],
   "source": [
    "result.to_csv('submission_ridge.csv', index=False)"
   ]
  },
  {
   "cell_type": "markdown",
   "id": "7a2f1c7e",
   "metadata": {},
   "source": [
    "## Lasso Modeling"
   ]
  },
  {
   "cell_type": "code",
   "execution_count": 60,
   "id": "0f2c7fba",
   "metadata": {
    "scrolled": true
   },
   "outputs": [
    {
     "name": "stdout",
     "output_type": "stream",
     "text": [
      "Scores: [0.38019943 0.56235141 0.32193657 0.61525736 0.40194207 0.54004489\n",
      " 0.54978363 0.36977251 0.34460402 0.39271501]\n",
      "Mean: 0.44786068992095424\n",
      "Standard deviation: 0.10117321092656892\n"
     ]
    }
   ],
   "source": [
    "lasso_reg = Lasso(alpha=0.1)\n",
    "lasso_reg.fit(x_train, y_train)\n",
    "\n",
    "\n",
    "scores = cross_val_score(lasso_reg, x_train, y_train.ravel(),\n",
    "                         scoring=\"neg_mean_squared_error\", cv=10)\n",
    "rmse_scores = np.sqrt(-scores)\n",
    "print(\"Scores:\", rmse_scores)\n",
    "print(\"Mean:\", rmse_scores.mean())\n",
    "print(\"Standard deviation:\", rmse_scores.std())"
   ]
  },
  {
   "cell_type": "code",
   "execution_count": 61,
   "id": "e67aff85",
   "metadata": {},
   "outputs": [],
   "source": [
    "# creating predictions\n",
    "predictions_lasso = lasso_reg.predict(x_test)\n",
    "predictions_lasso = predictions_lasso.reshape(-1,1)"
   ]
  },
  {
   "cell_type": "code",
   "execution_count": 62,
   "id": "471181e0",
   "metadata": {},
   "outputs": [
    {
     "data": {
      "image/png": "[encoded data removed]",
      "text/plain": [
       "<Figure size 360x360 with 1 Axes>"
      ]
     },
     "metadata": {
      "needs_background": "light"
     },
     "output_type": "display_data"
    },
    {
     "data": {
      "image/png": "[encoded data removed]",
      "text/plain": [
       "<Figure size 360x360 with 1 Axes>"
      ]
     },
     "metadata": {
      "needs_background": "light"
     },
     "output_type": "display_data"
    }
   ],
   "source": [
    "# plotting our linear model based on the predictions \n",
    "plt.figure(figsize=(5, 5))\n",
    "plt.scatter(y_test,predictions_lasso, color = 'red')\n",
    "plt.xlabel('Y Test')\n",
    "plt.ylabel('Predicted Y')\n",
    "plt.show()\n",
    "\n",
    "# some of the outlying data can be seen that it does not fully predict it as \n",
    "# we hoped\n",
    "plt.figure(figsize=(5, 5))\n",
    "plt.plot(y_test,label = 'Test Data')\n",
    "plt.xlabel('Predictions')\n",
    "plt.title('Predicted Difference')\n",
    "plt.ylabel('Test Data')\n",
    "plt.plot(predictions_lasso, label = 'Predictions')\n",
    "plt.show()"
   ]
  },
  {
   "cell_type": "markdown",
   "id": "e9b77b9d",
   "metadata": {},
   "source": [
    "Scores offer a different idea, where there seems to be higher in the lasso model\n",
    "which means there should be more error. I did tune it to be 0.1 alpha because without \n",
    "tuning it caused the model to be extremely skewed. We need to see how the hidden test case \n",
    "fares on the model to understand the big picture. "
   ]
  },
  {
   "cell_type": "code",
   "execution_count": 63,
   "id": "ee99bd85",
   "metadata": {},
   "outputs": [
    {
     "data": {
      "text/html": [
       "<div>\n",
       "<style scoped>\n",
       "    .dataframe tbody tr th:only-of-type {\n",
       "        vertical-align: middle;\n",
       "    }\n",
       "\n",
       "    .dataframe tbody tr th {\n",
       "        vertical-align: top;\n",
       "    }\n",
       "\n",
       "    .dataframe thead th {\n",
       "        text-align: right;\n",
       "    }\n",
       "</style>\n",
       "<table border=\"1\" class=\"dataframe\">\n",
       "  <thead>\n",
       "    <tr style=\"text-align: right;\">\n",
       "      <th></th>\n",
       "      <th>SalePrice</th>\n",
       "    </tr>\n",
       "  </thead>\n",
       "  <tbody>\n",
       "    <tr>\n",
       "      <th>0</th>\n",
       "      <td>147124.525071</td>\n",
       "    </tr>\n",
       "    <tr>\n",
       "      <th>1</th>\n",
       "      <td>164894.381267</td>\n",
       "    </tr>\n",
       "    <tr>\n",
       "      <th>2</th>\n",
       "      <td>188584.319532</td>\n",
       "    </tr>\n",
       "    <tr>\n",
       "      <th>3</th>\n",
       "      <td>205214.658895</td>\n",
       "    </tr>\n",
       "    <tr>\n",
       "      <th>4</th>\n",
       "      <td>225799.280513</td>\n",
       "    </tr>\n",
       "  </tbody>\n",
       "</table>\n",
       "</div>"
      ],
      "text/plain": [
       "       SalePrice\n",
       "0  147124.525071\n",
       "1  164894.381267\n",
       "2  188584.319532\n",
       "3  205214.658895\n",
       "4  225799.280513"
      ]
     },
     "execution_count": 63,
     "metadata": {},
     "output_type": "execute_result"
    }
   ],
   "source": [
    "test_prediction_lasso = lasso_reg.predict(test_data_dropped)\n",
    "test_prediction_lasso = test_prediction_lasso.reshape(-1,1)\n",
    "test_prediction_lasso = scalerY.inverse_transform(test_prediction_lasso)\n",
    "test_prediction_lasso = pd.DataFrame(test_prediction_lasso, columns=\\\n",
    "                                     ['SalePrice'])\n",
    "test_prediction_lasso.head()"
   ]
  },
  {
   "cell_type": "code",
   "execution_count": 64,
   "id": "0f1510ac",
   "metadata": {},
   "outputs": [
    {
     "data": {
      "text/html": [
       "<div>\n",
       "<style scoped>\n",
       "    .dataframe tbody tr th:only-of-type {\n",
       "        vertical-align: middle;\n",
       "    }\n",
       "\n",
       "    .dataframe tbody tr th {\n",
       "        vertical-align: top;\n",
       "    }\n",
       "\n",
       "    .dataframe thead th {\n",
       "        text-align: right;\n",
       "    }\n",
       "</style>\n",
       "<table border=\"1\" class=\"dataframe\">\n",
       "  <thead>\n",
       "    <tr style=\"text-align: right;\">\n",
       "      <th></th>\n",
       "      <th>Id</th>\n",
       "      <th>SalePrice</th>\n",
       "    </tr>\n",
       "  </thead>\n",
       "  <tbody>\n",
       "    <tr>\n",
       "      <th>0</th>\n",
       "      <td>1461</td>\n",
       "      <td>147124.525071</td>\n",
       "    </tr>\n",
       "    <tr>\n",
       "      <th>1</th>\n",
       "      <td>1462</td>\n",
       "      <td>164894.381267</td>\n",
       "    </tr>\n",
       "    <tr>\n",
       "      <th>2</th>\n",
       "      <td>1463</td>\n",
       "      <td>188584.319532</td>\n",
       "    </tr>\n",
       "    <tr>\n",
       "      <th>3</th>\n",
       "      <td>1464</td>\n",
       "      <td>205214.658895</td>\n",
       "    </tr>\n",
       "    <tr>\n",
       "      <th>4</th>\n",
       "      <td>1465</td>\n",
       "      <td>225799.280513</td>\n",
       "    </tr>\n",
       "  </tbody>\n",
       "</table>\n",
       "</div>"
      ],
      "text/plain": [
       "     Id      SalePrice\n",
       "0  1461  147124.525071\n",
       "1  1462  164894.381267\n",
       "2  1463  188584.319532\n",
       "3  1464  205214.658895\n",
       "4  1465  225799.280513"
      ]
     },
     "execution_count": 64,
     "metadata": {},
     "output_type": "execute_result"
    }
   ],
   "source": [
    "result_lasso = pd.concat([ids,test_prediction_lasso], axis=1)\n",
    "result_lasso.head()"
   ]
  },
  {
   "cell_type": "code",
   "execution_count": 65,
   "id": "75a3f6db",
   "metadata": {},
   "outputs": [],
   "source": [
    "result_lasso.to_csv('submission_lasso.csv', index=False)"
   ]
  },
  {
   "cell_type": "markdown",
   "id": "c901ebe5",
   "metadata": {},
   "source": [
    "Briefly looking at the data, it seems like the lasso prediction offers a higher SalePrice\n",
    "than the Ridge model for the first 5 instances, this could be what the Ridge was lacking in"
   ]
  },
  {
   "cell_type": "markdown",
   "id": "01752daa",
   "metadata": {},
   "source": [
    "## ElasticNet Modeling"
   ]
  },
  {
   "cell_type": "code",
   "execution_count": 66,
   "id": "6e24a90e",
   "metadata": {},
   "outputs": [
    {
     "name": "stdout",
     "output_type": "stream",
     "text": [
      "Scores: [0.37389078 0.53411196 0.30138091 0.60520488 0.37757685 0.50736835\n",
      " 0.52463817 0.35168608 0.33011717 0.37828836]\n",
      "Mean: 0.4284263503167998\n",
      "Standard deviation: 0.09883146109894546\n"
     ]
    }
   ],
   "source": [
    "# Hyperparameter tuning example got from the textbook, alpha = 0.1 was chosen \n",
    "# because it seems like the higher the alpha the higher likeliness of error\n",
    "elastic_net = ElasticNet(alpha=0.1, l1_ratio=0.5)\n",
    "elastic_net.fit(x_train, y_train)\n",
    "\n",
    "\n",
    "scores = cross_val_score(elastic_net, x_train, y_train.ravel(),\n",
    "                         scoring=\"neg_mean_squared_error\", cv=10)\n",
    "rmse_scores = np.sqrt(-scores)\n",
    "print(\"Scores:\", rmse_scores)\n",
    "print(\"Mean:\", rmse_scores.mean())\n",
    "print(\"Standard deviation:\", rmse_scores.std())"
   ]
  },
  {
   "cell_type": "code",
   "execution_count": 67,
   "id": "721dbcb3",
   "metadata": {},
   "outputs": [],
   "source": [
    "# creating predictions\n",
    "predictions_elastic = elastic_net.predict(x_test)\n",
    "predictions_elastic = predictions_elastic.reshape(-1,1)"
   ]
  },
  {
   "cell_type": "code",
   "execution_count": 68,
   "id": "6ba7dd78",
   "metadata": {},
   "outputs": [
    {
     "data": {
      "image/png": "[encoded data removed]",
      "text/plain": [
       "<Figure size 360x360 with 1 Axes>"
      ]
     },
     "metadata": {
      "needs_background": "light"
     },
     "output_type": "display_data"
    },
    {
     "data": {
      "image/png": "[encoded data removed]",
      "text/plain": [
       "<Figure size 360x360 with 1 Axes>"
      ]
     },
     "metadata": {
      "needs_background": "light"
     },
     "output_type": "display_data"
    }
   ],
   "source": [
    "# plotting our linear model based on the predictions \n",
    "plt.figure(figsize=(5, 5))\n",
    "plt.scatter(y_test,predictions_elastic, color = 'red')\n",
    "plt.xlabel('Y Test')\n",
    "plt.ylabel('Predicted Y')\n",
    "plt.show()\n",
    "\n",
    "# some of the outlying data can be seen that it does not fully predict it as \n",
    "# we hoped\n",
    "plt.figure(figsize=(5, 5))\n",
    "plt.plot(y_test, label = 'Test Data')\n",
    "plt.xlabel('Predictions')\n",
    "plt.title('Predicted Difference')\n",
    "plt.ylabel('Test Data')\n",
    "plt.plot(predictions_elastic, label = 'Predictions')\n",
    "plt.show()"
   ]
  },
  {
   "cell_type": "code",
   "execution_count": 69,
   "id": "c3f408b9",
   "metadata": {},
   "outputs": [
    {
     "data": {
      "text/html": [
       "<div>\n",
       "<style scoped>\n",
       "    .dataframe tbody tr th:only-of-type {\n",
       "        vertical-align: middle;\n",
       "    }\n",
       "\n",
       "    .dataframe tbody tr th {\n",
       "        vertical-align: top;\n",
       "    }\n",
       "\n",
       "    .dataframe thead th {\n",
       "        text-align: right;\n",
       "    }\n",
       "</style>\n",
       "<table border=\"1\" class=\"dataframe\">\n",
       "  <thead>\n",
       "    <tr style=\"text-align: right;\">\n",
       "      <th></th>\n",
       "      <th>SalePrice</th>\n",
       "    </tr>\n",
       "  </thead>\n",
       "  <tbody>\n",
       "    <tr>\n",
       "      <th>0</th>\n",
       "      <td>141058.870136</td>\n",
       "    </tr>\n",
       "    <tr>\n",
       "      <th>1</th>\n",
       "      <td>157043.830919</td>\n",
       "    </tr>\n",
       "    <tr>\n",
       "      <th>2</th>\n",
       "      <td>192430.673910</td>\n",
       "    </tr>\n",
       "    <tr>\n",
       "      <th>3</th>\n",
       "      <td>208990.229221</td>\n",
       "    </tr>\n",
       "    <tr>\n",
       "      <th>4</th>\n",
       "      <td>219167.692644</td>\n",
       "    </tr>\n",
       "  </tbody>\n",
       "</table>\n",
       "</div>"
      ],
      "text/plain": [
       "       SalePrice\n",
       "0  141058.870136\n",
       "1  157043.830919\n",
       "2  192430.673910\n",
       "3  208990.229221\n",
       "4  219167.692644"
      ]
     },
     "execution_count": 69,
     "metadata": {},
     "output_type": "execute_result"
    }
   ],
   "source": [
    "test_prediction_elastic = elastic_net.predict(test_data_dropped)\n",
    "test_prediction_elastic = test_prediction_elastic.reshape(-1,1)\n",
    "test_prediction_elastic = scalerY.inverse_transform(test_prediction_elastic)\n",
    "test_prediction_elastic = \\\n",
    "pd.DataFrame(test_prediction_elastic, columns=['SalePrice'])\n",
    "test_prediction_elastic.head()"
   ]
  },
  {
   "cell_type": "code",
   "execution_count": 70,
   "id": "fcf8bbe9",
   "metadata": {},
   "outputs": [
    {
     "data": {
      "text/html": [
       "<div>\n",
       "<style scoped>\n",
       "    .dataframe tbody tr th:only-of-type {\n",
       "        vertical-align: middle;\n",
       "    }\n",
       "\n",
       "    .dataframe tbody tr th {\n",
       "        vertical-align: top;\n",
       "    }\n",
       "\n",
       "    .dataframe thead th {\n",
       "        text-align: right;\n",
       "    }\n",
       "</style>\n",
       "<table border=\"1\" class=\"dataframe\">\n",
       "  <thead>\n",
       "    <tr style=\"text-align: right;\">\n",
       "      <th></th>\n",
       "      <th>Id</th>\n",
       "      <th>SalePrice</th>\n",
       "    </tr>\n",
       "  </thead>\n",
       "  <tbody>\n",
       "    <tr>\n",
       "      <th>0</th>\n",
       "      <td>1461</td>\n",
       "      <td>141058.870136</td>\n",
       "    </tr>\n",
       "    <tr>\n",
       "      <th>1</th>\n",
       "      <td>1462</td>\n",
       "      <td>157043.830919</td>\n",
       "    </tr>\n",
       "    <tr>\n",
       "      <th>2</th>\n",
       "      <td>1463</td>\n",
       "      <td>192430.673910</td>\n",
       "    </tr>\n",
       "    <tr>\n",
       "      <th>3</th>\n",
       "      <td>1464</td>\n",
       "      <td>208990.229221</td>\n",
       "    </tr>\n",
       "    <tr>\n",
       "      <th>4</th>\n",
       "      <td>1465</td>\n",
       "      <td>219167.692644</td>\n",
       "    </tr>\n",
       "  </tbody>\n",
       "</table>\n",
       "</div>"
      ],
      "text/plain": [
       "     Id      SalePrice\n",
       "0  1461  141058.870136\n",
       "1  1462  157043.830919\n",
       "2  1463  192430.673910\n",
       "3  1464  208990.229221\n",
       "4  1465  219167.692644"
      ]
     },
     "execution_count": 70,
     "metadata": {},
     "output_type": "execute_result"
    }
   ],
   "source": [
    "result_elastic = pd.concat([ids,test_prediction_elastic], axis=1)\n",
    "result_elastic.head()"
   ]
  },
  {
   "cell_type": "markdown",
   "id": "103808c6",
   "metadata": {},
   "source": [
    "Per the top 5 results, it is not as high as Lasso predictions but is more than Ridge predictions. I believe ElasticNet would fare the best due to the hyperparemeter tuning and the confidence in this modeling scheme. "
   ]
  },
  {
   "cell_type": "code",
   "execution_count": 71,
   "id": "83214a8a",
   "metadata": {},
   "outputs": [],
   "source": [
    "result_elastic.to_csv('submission_elastic.csv', index=False)"
   ]
  },
  {
   "cell_type": "code",
   "execution_count": null,
   "id": "79553adb",
   "metadata": {},
   "outputs": [],
   "source": []
  }
 ],
 "metadata": {
  "kernelspec": {
   "display_name": "Python 3 (ipykernel)",
   "language": "python",
   "name": "python3"
  },
  "language_info": {
   "codemirror_mode": {
    "name": "ipython",
    "version": 3
   },
   "file_extension": ".py",
   "mimetype": "text/x-python",
   "name": "python",
   "nbconvert_exporter": "python",
   "pygments_lexer": "ipython3",
   "version": "3.9.0"
  }
 },
 "nbformat": 4,
 "nbformat_minor": 5
}
